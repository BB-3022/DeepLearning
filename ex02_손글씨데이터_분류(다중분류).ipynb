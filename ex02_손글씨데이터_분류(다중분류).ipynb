{
  "nbformat": 4,
  "nbformat_minor": 0,
  "metadata": {
    "colab": {
      "provenance": [],
      "authorship_tag": "ABX9TyMFL0yCuUoEGAHFRWnalYdb",
      "include_colab_link": true
    },
    "kernelspec": {
      "name": "python3",
      "display_name": "Python 3"
    },
    "language_info": {
      "name": "python"
    }
  },
  "cells": [
    {
      "cell_type": "markdown",
      "metadata": {
        "id": "view-in-github",
        "colab_type": "text"
      },
      "source": [
        "<a href=\"https://colab.research.google.com/github/BB-3022/DeepLearning/blob/main/ex02_%EC%86%90%EA%B8%80%EC%94%A8%EB%8D%B0%EC%9D%B4%ED%84%B0_%EB%B6%84%EB%A5%98(%EB%8B%A4%EC%A4%91%EB%B6%84%EB%A5%98).ipynb\" target=\"_parent\"><img src=\"https://colab.research.google.com/assets/colab-badge.svg\" alt=\"Open In Colab\"/></a>"
      ]
    },
    {
      "cell_type": "markdown",
      "source": [
        "### 목표\n",
        "- 손글씨 데이터를 분류하는 딥러닝 모델을 설계해보자!\n",
        "- 다중분류 딥러닝 모델링을 연습해보자"
      ],
      "metadata": {
        "id": "OY8ByLxyfAJD"
      }
    },
    {
      "cell_type": "code",
      "source": [
        "# 기본라이브러리 불러오기\n",
        "import numpy as np\n",
        "import pandas as pd\n",
        "import matplotlib.pyplot as plt"
      ],
      "metadata": {
        "id": "3ouwrw37fGo1"
      },
      "execution_count": 1,
      "outputs": []
    },
    {
      "cell_type": "markdown",
      "source": [
        "### 데이터 로딩"
      ],
      "metadata": {
        "id": "WaWNu1EQfHFS"
      }
    },
    {
      "cell_type": "code",
      "source": [
        "# keras 에서 제공해주는 손글씨데이터 불러오기\n",
        "from tensorflow.keras.datasets import mnist"
      ],
      "metadata": {
        "id": "7tHqq25UfHKC"
      },
      "execution_count": 2,
      "outputs": []
    },
    {
      "cell_type": "code",
      "source": [
        "# 문제데이터와 정답데이터가 나뉘어 제공해주고 있다.\n",
        "# 훈련용, 테스트용 데이터도 나뉘어 제공\n",
        "(X_train, y_train),(X_test, y_test)=mnist.load_data()"
      ],
      "metadata": {
        "colab": {
          "base_uri": "https://localhost:8080/"
        },
        "id": "b-L9OcGXfHNh",
        "outputId": "f6dc70b5-bab8-4913-cb66-3d2c4a5cffb0"
      },
      "execution_count": 4,
      "outputs": [
        {
          "output_type": "stream",
          "name": "stdout",
          "text": [
            "Downloading data from https://storage.googleapis.com/tensorflow/tf-keras-datasets/mnist.npz\n",
            "11490434/11490434 [==============================] - 0s 0us/step\n"
          ]
        }
      ]
    },
    {
      "cell_type": "code",
      "source": [
        "# 데이터 크기 확인\n",
        "print(X_train.shape, y_train.shape, X_test.shape, y_test.shape)\n",
        "# 훈련데이터 6만장, 테스트데이터 1만장\n",
        "# 사진데이터 28 * 28 픽셀\n",
        "# 픽셀 : 사진의 정보를 가지고있는 단위(작은 사각형 하나가 1픽셀)"
      ],
      "metadata": {
        "colab": {
          "base_uri": "https://localhost:8080/"
        },
        "id": "TUq3rhrpfHRl",
        "outputId": "ec69ba14-6dfc-4e04-ecac-6e7e8d05616c"
      },
      "execution_count": 6,
      "outputs": [
        {
          "output_type": "stream",
          "name": "stdout",
          "text": [
            "(60000, 28, 28) (60000,) (10000, 28, 28) (10000,)\n"
          ]
        }
      ]
    },
    {
      "cell_type": "code",
      "source": [
        "# 사진데이터 확인\n",
        "plt.imshow(X_train[1001], cmap='gray')\n",
        "# 흑백사진\n",
        "# 0~255 검정색의 정도를 숫자로 가진다."
      ],
      "metadata": {
        "colab": {
          "base_uri": "https://localhost:8080/",
          "height": 448
        },
        "id": "Ug9qdKVzfHVi",
        "outputId": "03e10821-4402-4cf7-faa6-08e10e212ea8"
      },
      "execution_count": 10,
      "outputs": [
        {
          "output_type": "execute_result",
          "data": {
            "text/plain": [
              "<matplotlib.image.AxesImage at 0x7da9f28d3f40>"
            ]
          },
          "metadata": {},
          "execution_count": 10
        },
        {
          "output_type": "display_data",
          "data": {
            "text/plain": [
              "<Figure size 640x480 with 1 Axes>"
            ],
            "image/png": "[encoded data removed]"
          },
          "metadata": {}
        }
      ]
    },
    {
      "cell_type": "code",
      "source": [
        "# 정답데이터 확인\n",
        "np.unique(y_train) # 10개의 클래스를 가진다."
      ],
      "metadata": {
        "colab": {
          "base_uri": "https://localhost:8080/"
        },
        "id": "bPvtGjIbfHZQ",
        "outputId": "267c9dc1-9bfc-4fb4-d5e8-5ddf871ce6a8"
      },
      "execution_count": 9,
      "outputs": [
        {
          "output_type": "execute_result",
          "data": {
            "text/plain": [
              "array([0, 1, 2, 3, 4, 5, 6, 7, 8, 9], dtype=uint8)"
            ]
          },
          "metadata": {},
          "execution_count": 9
        }
      ]
    },
    {
      "cell_type": "markdown",
      "source": [
        "### MLP 모델링\n",
        "- 입력층의 구조, 출력층의 구조 고려\n",
        "- 학습능력을 위한 중간층의 깊이 고려\n",
        "- loss(오차), optimizer(최적화방법) 설정 해야 한다."
      ],
      "metadata": {
        "id": "RrGqnrTKfHc6"
      }
    },
    {
      "cell_type": "code",
      "source": [
        "# 딥러닝 라이브러리 불러오기\n",
        "from tensorflow.keras.models import Sequential\n",
        "from tensorflow.keras.layers import Dense, InputLayer, Flatten\n",
        "# Dense : 퍼셉트론을 묶음으로 표현하는 클래스\n",
        "# InputLayer : 입력층 설정\n",
        "# Flatten : 2차원 사진 데이터를 1차원으로 표현하기 위한 클래스"
      ],
      "metadata": {
        "id": "iIMfkvplfHhC"
      },
      "execution_count": 12,
      "outputs": []
    },
    {
      "cell_type": "code",
      "source": [
        "# 1. 신경망 설계\n",
        "\n",
        "# 뼈대\n",
        "digit_model = Sequential()\n",
        "\n",
        "# 입력층\n",
        "digit_model.add(InputLayer (input_shape = (28,28))) # 28*28의 2차원 데이터\n",
        "\n",
        "# 중간층\n",
        "digit_model.add(Flatten()) # 2차원의 사진데이터를 1차원으로 변경(선형모델을 위한 작업)\n",
        "digit_model.add(Dense(units = 16, activation = 'sigmoid'))\n",
        "digit_model.add(Dense(units = 8, activation = 'sigmoid'))\n",
        "\n",
        "# 출력층\n",
        "digit_model.add(Dense(units = 10, activation = 'softmax'))\n",
        "# 다중분류는 클래스의 개수만큼 선형모델이 필요하다.\n",
        "# 활성화함수 : softmax(클래스 개수만큼 확률값이 출력 -> 총합 1로 만들어주는 함수)"
      ],
      "metadata": {
        "id": "fGhVSqCtfHla"
      },
      "execution_count": null,
      "outputs": []
    },
    {
      "cell_type": "code",
      "source": [
        "# 2. 모델 학습 및 평가 방법 설정\n",
        "digit_model.compile(loss = 'categorical_crossentropy',\n",
        "                    optimizer = 'SGD'\n",
        "                    metrics = ['accuracy'])"
      ],
      "metadata": {
        "id": "VVgYVl_kfHp0"
      },
      "execution_count": null,
      "outputs": []
    },
    {
      "cell_type": "code",
      "source": [
        "# 3. 모델 학습 및 시각화"
      ],
      "metadata": {
        "id": "w799LJfMfHuU"
      },
      "execution_count": null,
      "outputs": []
    },
    {
      "cell_type": "code",
      "source": [
        "# 4. 모델 예측 및 평가"
      ],
      "metadata": {
        "id": "EA5lKQgjfHyT"
      },
      "execution_count": null,
      "outputs": []
    },
    {
      "cell_type": "code",
      "source": [],
      "metadata": {
        "id": "J5_QYHbNfH21"
      },
      "execution_count": null,
      "outputs": []
    },
    {
      "cell_type": "code",
      "source": [],
      "metadata": {
        "id": "iZHjBpzzfH7f"
      },
      "execution_count": null,
      "outputs": []
    },
    {
      "cell_type": "code",
      "source": [],
      "metadata": {
        "id": "ptBL2pVkfIBh"
      },
      "execution_count": null,
      "outputs": []
    },
    {
      "cell_type": "code",
      "source": [],
      "metadata": {
        "id": "PI8QdgO2fIGQ"
      },
      "execution_count": null,
      "outputs": []
    }
  ]
}