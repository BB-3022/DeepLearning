{
  "nbformat": 4,
  "nbformat_minor": 0,
  "metadata": {
    "colab": {
      "provenance": [],
      "mount_file_id": "10zoG7LGKBChddpyWF9Y5ibNOZBHJLV1-",
      "authorship_tag": "ABX9TyMHzcf04gZqUMmoRWvg0bVw",
      "include_colab_link": true
    },
    "kernelspec": {
      "name": "python3",
      "display_name": "Python 3"
    },
    "language_info": {
      "name": "python"
    }
  },
  "cells": [
    {
      "cell_type": "markdown",
      "metadata": {
        "id": "view-in-github",
        "colab_type": "text"
      },
      "source": [
        "<a href=\"https://colab.research.google.com/github/BB-3022/DeepLearning/blob/main/ex02_%EC%86%90%EA%B8%80%EC%94%A8%EB%8D%B0%EC%9D%B4%ED%84%B0_%EB%B6%84%EB%A5%98(%EB%8B%A4%EC%A4%91%EB%B6%84%EB%A5%98).ipynb\" target=\"_parent\"><img src=\"https://colab.research.google.com/assets/colab-badge.svg\" alt=\"Open In Colab\"/></a>"
      ]
    },
    {
      "cell_type": "markdown",
      "source": [
        "### 목표\n",
        "- 손글씨 데이터를 분류하는 딥러닝 모델을 설계해보자!\n",
        "- 다중분류 딥러닝 모델링을 연습해보자"
      ],
      "metadata": {
        "id": "OY8ByLxyfAJD"
      }
    },
    {
      "cell_type": "code",
      "source": [
        "# 기본라이브러리 불러오기\n",
        "import numpy as np\n",
        "import pandas as pd\n",
        "import matplotlib.pyplot as plt"
      ],
      "metadata": {
        "id": "3ouwrw37fGo1"
      },
      "execution_count": null,
      "outputs": []
    },
    {
      "cell_type": "markdown",
      "source": [
        "### 데이터 로딩"
      ],
      "metadata": {
        "id": "WaWNu1EQfHFS"
      }
    },
    {
      "cell_type": "code",
      "source": [
        "# keras 에서 제공해주는 손글씨데이터 불러오기\n",
        "from tensorflow.keras.datasets import mnist"
      ],
      "metadata": {
        "id": "7tHqq25UfHKC"
      },
      "execution_count": null,
      "outputs": []
    },
    {
      "cell_type": "code",
      "source": [
        "# 문제데이터와 정답데이터가 나뉘어 제공해주고 있다.\n",
        "# 훈련용, 테스트용 데이터도 나뉘어 제공\n",
        "(X_train, y_train),(X_test, y_test)=mnist.load_data()"
      ],
      "metadata": {
        "id": "b-L9OcGXfHNh"
      },
      "execution_count": null,
      "outputs": []
    },
    {
      "cell_type": "code",
      "source": [
        "# 데이터 크기 확인\n",
        "print(X_train.shape, y_train.shape, X_test.shape, y_test.shape)\n",
        "# 훈련데이터 6만장, 테스트데이터 1만장\n",
        "# 사진데이터 28 * 28 픽셀\n",
        "# 픽셀 : 사진의 정보를 가지고있는 단위(작은 사각형 하나가 1픽셀)"
      ],
      "metadata": {
        "colab": {
          "base_uri": "https://localhost:8080/"
        },
        "id": "TUq3rhrpfHRl",
        "outputId": "a7ac30be-6f6f-460c-e07e-109ff9c57627"
      },
      "execution_count": null,
      "outputs": [
        {
          "output_type": "stream",
          "name": "stdout",
          "text": [
            "(60000, 28, 28) (60000,) (10000, 28, 28) (10000,)\n"
          ]
        }
      ]
    },
    {
      "cell_type": "code",
      "source": [
        "# 사진데이터 확인\n",
        "plt.imshow(X_train[1001], cmap='gray')\n",
        "# 흑백사진\n",
        "# 0~255 검정색의 정도를 숫자로 가진다."
      ],
      "metadata": {
        "colab": {
          "base_uri": "https://localhost:8080/",
          "height": 448
        },
        "id": "Ug9qdKVzfHVi",
        "outputId": "f6f4c302-1960-47b2-a82b-7c338f4df0c3"
      },
      "execution_count": null,
      "outputs": [
        {
          "output_type": "execute_result",
          "data": {
            "text/plain": [
              "<matplotlib.image.AxesImage at 0x7e9739edbca0>"
            ]
          },
          "metadata": {},
          "execution_count": 27
        },
        {
          "output_type": "display_data",
          "data": {
            "text/plain": [
              "<Figure size 640x480 with 1 Axes>"
            ],
            "image/png": "[encoded data removed]"
          },
          "metadata": {}
        }
      ]
    },
    {
      "cell_type": "code",
      "source": [
        "# 정답데이터 확인\n",
        "np.unique(y_train) # 10개의 클래스를 가진다."
      ],
      "metadata": {
        "colab": {
          "base_uri": "https://localhost:8080/"
        },
        "id": "bPvtGjIbfHZQ",
        "outputId": "2dc5e73c-d3d6-4adc-c848-e3ab0e995c5d"
      },
      "execution_count": null,
      "outputs": [
        {
          "output_type": "execute_result",
          "data": {
            "text/plain": [
              "array([0, 1, 2, 3, 4, 5, 6, 7, 8, 9], dtype=uint8)"
            ]
          },
          "metadata": {},
          "execution_count": 28
        }
      ]
    },
    {
      "cell_type": "markdown",
      "source": [
        "### MLP 모델링\n",
        "- 입력층의 구조, 출력층의 구조 고려\n",
        "- 학습능력을 위한 중간층의 깊이 고려\n",
        "- loss(오차), optimizer(최적화방법) 설정 해야 한다."
      ],
      "metadata": {
        "id": "RrGqnrTKfHc6"
      }
    },
    {
      "cell_type": "code",
      "source": [
        "# 딥러닝 라이브러리 불러오기\n",
        "from tensorflow.keras.models import Sequential\n",
        "from tensorflow.keras.layers import Dense, InputLayer, Flatten\n",
        "# Dense : 퍼셉트론을 묶음으로 표현하는 클래스\n",
        "# InputLayer : 입력층 설정\n",
        "# Flatten : 2차원 사진 데이터를 1차원으로 표현하기 위한 클래스"
      ],
      "metadata": {
        "id": "iIMfkvplfHhC"
      },
      "execution_count": null,
      "outputs": []
    },
    {
      "cell_type": "code",
      "source": [
        "# 1. 신경망 설계\n",
        "\n",
        "# 뼈대\n",
        "digit_model = Sequential()\n",
        "\n",
        "# 입력층\n",
        "digit_model.add(InputLayer (input_shape = (28,28))) # 28*28의 2차원 데이터\n",
        "\n",
        "# 중간층\n",
        "digit_model.add(Flatten()) # 2차원의 사진데이터를 1차원으로 변경(선형모델을 위한 작업)\n",
        "digit_model.add(Dense(units = 16, activation = 'relu'))\n",
        "digit_model.add(Dense(units = 8, activation = 'relu'))\n",
        "digit_model.add(Dense(units = 32, activation = 'relu'))\n",
        "digit_model.add(Dense(units = 16, activation = 'relu'))\n",
        "digit_model.add(Dense(units = 8, activation = 'relu'))\n",
        "\n",
        "# 출력층\n",
        "digit_model.add(Dense(units = 10, activation = 'softmax'))\n",
        "# 다중분류는 클래스의 개수만큼 선형모델이 필요하다.\n",
        "# 활성화함수 : softmax(클래스 개수만큼 확률값이 출력 -> 총합 1로 만들어주는 함수)"
      ],
      "metadata": {
        "id": "fGhVSqCtfHla"
      },
      "execution_count": null,
      "outputs": []
    },
    {
      "cell_type": "code",
      "source": [
        "# 2. 모델 학습 및 평가 방법 설정\n",
        "digit_model.compile(loss = 'categorical_crossentropy',\n",
        "                    optimizer = 'SGD',\n",
        "                    metrics = ['accuracy'])"
      ],
      "metadata": {
        "id": "VVgYVl_kfHp0"
      },
      "execution_count": null,
      "outputs": []
    },
    {
      "cell_type": "code",
      "source": [
        "# 3. 모델 학습 및 시각화\n",
        "h1 = digit_model.fit(X_train, y_train,\n",
        "                     validation_split=0.2,\n",
        "                     epochs=20)\n",
        "\n",
        "# 문제발생!!\n",
        "# 오류 확인 -> 정답데이터의 shape 가 일치하지 않음! (shape 가 다르면 비교 X)\n",
        "# y_train 을 확인"
      ],
      "metadata": {
        "id": "w799LJfMfHuU",
        "colab": {
          "base_uri": "https://localhost:8080/"
        },
        "outputId": "47ffe1d6-e84b-414d-a851-8c8e310cb258"
      },
      "execution_count": null,
      "outputs": [
        {
          "output_type": "stream",
          "name": "stdout",
          "text": [
            "Epoch 1/20\n",
            "1500/1500 [==============================] - 3s 2ms/step - loss: 1.0768 - accuracy: 0.6502 - val_loss: 0.5977 - val_accuracy: 0.7965\n",
            "Epoch 2/20\n",
            "1500/1500 [==============================] - 2s 2ms/step - loss: 0.5738 - accuracy: 0.8365 - val_loss: 0.4660 - val_accuracy: 0.8686\n",
            "Epoch 3/20\n",
            "1500/1500 [==============================] - 2s 1ms/step - loss: 0.4852 - accuracy: 0.8647 - val_loss: 0.4356 - val_accuracy: 0.8822\n",
            "Epoch 4/20\n",
            "1500/1500 [==============================] - 2s 2ms/step - loss: 0.4307 - accuracy: 0.8792 - val_loss: 0.4067 - val_accuracy: 0.8901\n",
            "Epoch 5/20\n",
            "1500/1500 [==============================] - 2s 1ms/step - loss: 0.3853 - accuracy: 0.8936 - val_loss: 0.3658 - val_accuracy: 0.8994\n",
            "Epoch 6/20\n",
            "1500/1500 [==============================] - 3s 2ms/step - loss: 0.3574 - accuracy: 0.9026 - val_loss: 0.3439 - val_accuracy: 0.9047\n",
            "Epoch 7/20\n",
            "1500/1500 [==============================] - 3s 2ms/step - loss: 0.3381 - accuracy: 0.9075 - val_loss: 0.3142 - val_accuracy: 0.9158\n",
            "Epoch 8/20\n",
            "1500/1500 [==============================] - 3s 2ms/step - loss: 0.3223 - accuracy: 0.9123 - val_loss: 0.3140 - val_accuracy: 0.9159\n",
            "Epoch 9/20\n",
            "1500/1500 [==============================] - 2s 1ms/step - loss: 0.3107 - accuracy: 0.9145 - val_loss: 0.3135 - val_accuracy: 0.9163\n",
            "Epoch 10/20\n",
            "1500/1500 [==============================] - 2s 1ms/step - loss: 0.2975 - accuracy: 0.9178 - val_loss: 0.2963 - val_accuracy: 0.9190\n",
            "Epoch 11/20\n",
            "1500/1500 [==============================] - 3s 2ms/step - loss: 0.2903 - accuracy: 0.9199 - val_loss: 0.3136 - val_accuracy: 0.9158\n",
            "Epoch 12/20\n",
            "1500/1500 [==============================] - 3s 2ms/step - loss: 0.2827 - accuracy: 0.9214 - val_loss: 0.3014 - val_accuracy: 0.9178\n",
            "Epoch 13/20\n",
            "1500/1500 [==============================] - 2s 2ms/step - loss: 0.2766 - accuracy: 0.9223 - val_loss: 0.2877 - val_accuracy: 0.9228\n",
            "Epoch 14/20\n",
            "1500/1500 [==============================] - 2s 2ms/step - loss: 0.2748 - accuracy: 0.9228 - val_loss: 0.2773 - val_accuracy: 0.9233\n",
            "Epoch 15/20\n",
            "1500/1500 [==============================] - 2s 1ms/step - loss: 0.2666 - accuracy: 0.9256 - val_loss: 0.3021 - val_accuracy: 0.9181\n",
            "Epoch 16/20\n",
            "1500/1500 [==============================] - 2s 2ms/step - loss: 0.2644 - accuracy: 0.9257 - val_loss: 0.2808 - val_accuracy: 0.9237\n",
            "Epoch 17/20\n",
            "1500/1500 [==============================] - 3s 2ms/step - loss: 0.2599 - accuracy: 0.9277 - val_loss: 0.2902 - val_accuracy: 0.9232\n",
            "Epoch 18/20\n",
            "1500/1500 [==============================] - 2s 1ms/step - loss: 0.2515 - accuracy: 0.9297 - val_loss: 0.3254 - val_accuracy: 0.9122\n",
            "Epoch 19/20\n",
            "1500/1500 [==============================] - 2s 1ms/step - loss: 0.2476 - accuracy: 0.9310 - val_loss: 0.2809 - val_accuracy: 0.9245\n",
            "Epoch 20/20\n",
            "1500/1500 [==============================] - 2s 1ms/step - loss: 0.2449 - accuracy: 0.9308 - val_loss: 0.2771 - val_accuracy: 0.9247\n"
          ]
        }
      ]
    },
    {
      "cell_type": "code",
      "source": [],
      "metadata": {
        "id": "EA5lKQgjfHyT"
      },
      "execution_count": null,
      "outputs": []
    },
    {
      "cell_type": "code",
      "source": [
        "# 정답데이터의 형태확인\n",
        "y_train\n",
        "# 실제 결과값(클래스 중 하나를 출력 -> 범주형)\n",
        "# 모델링 결과 : 10개의 클래스에 대한 각각의 확률값\n",
        "# 1개와 10개는 비교가 불가능 하다\n",
        "\n",
        "# 해결방안 2가지\n",
        "# 1. 정답데이터를 확률로 변경 (원 핫 인코딩과 비슷)\n",
        "# 2. loss 함수를 변경 - keras에서 지원하는 자동으로 정답데이터를 알아서 확률로 계산해주는 방"
      ],
      "metadata": {
        "id": "J5_QYHbNfH21",
        "colab": {
          "base_uri": "https://localhost:8080/"
        },
        "outputId": "96ca1c9d-5df1-4d1a-c694-c28089071c9c"
      },
      "execution_count": null,
      "outputs": [
        {
          "output_type": "execute_result",
          "data": {
            "text/plain": [
              "array([5, 0, 4, ..., 5, 6, 8], dtype=uint8)"
            ]
          },
          "metadata": {},
          "execution_count": 13
        }
      ]
    },
    {
      "cell_type": "code",
      "source": [
        "# 방법1. 정답데이터를 확률값으로 변경하기\n",
        "# 모델의 예측값은 확률값으로 출력 / 정답데이터는 범주형데이터 비교(loss) 불가\n",
        "# 우리가 직접 정답데이터를 범주형에서 확률값으로 변경 해주자!\n",
        "from tensorflow.keras.utils import to_categorical\n",
        "# 범주형데이터를 확률값으로 변경!\n",
        "one_hot_y_train = to_categorical(y_train)\n",
        "one_hot_y_train[0:2]\n",
        "# 첫번째 데이터 5일 확률 100%, 두번째 데이터는 0일 확률 100%"
      ],
      "metadata": {
        "id": "iZHjBpzzfH7f",
        "colab": {
          "base_uri": "https://localhost:8080/"
        },
        "outputId": "6f22dfdd-8a57-4d99-d5ca-896d13ee887f"
      },
      "execution_count": null,
      "outputs": [
        {
          "output_type": "execute_result",
          "data": {
            "text/plain": [
              "array([[0., 0., 0., 0., 0., 1., 0., 0., 0., 0.],\n",
              "       [1., 0., 0., 0., 0., 0., 0., 0., 0., 0.]], dtype=float32)"
            ]
          },
          "metadata": {},
          "execution_count": 18
        }
      ]
    },
    {
      "cell_type": "code",
      "source": [
        "# 방법2. loss 함수를 'sparse_categorical_crossentropy'라고 변경\n",
        "# 평가를 할 때 알아서 확률값으로 변경해서 계산\n",
        "# 스스로 내부에서 범주값을 확률값으로 변경하는 작업을 수행 후 loss 값 계산\n",
        "digit_model.compile(loss='sparse_categorical_crossentropy',\n",
        "                    optimizer = 'SGD',\n",
        "                    metrics = ['accuracy'])\n",
        "\n",
        "# 2번 방법을 더 선호 한다."
      ],
      "metadata": {
        "id": "ptBL2pVkfIBh"
      },
      "execution_count": null,
      "outputs": []
    },
    {
      "cell_type": "code",
      "source": [
        "# 학습결과 시각화\n",
        "# loss\n",
        "# val_loss\n",
        "plt.figure(figsize = (15,5))\n",
        "plt.plot(h1.history['loss'], label = 'train_loss')\n",
        "plt.plot(h1.history['val_loss'], label = 'val_loss')\n",
        "plt.legend()\n",
        "plt.show()\n"
      ],
      "metadata": {
        "id": "PI8QdgO2fIGQ",
        "colab": {
          "base_uri": "https://localhost:8080/",
          "height": 410
        },
        "outputId": "548b8b45-7229-4aea-9cfd-ebaf54eb6a26"
      },
      "execution_count": null,
      "outputs": [
        {
          "output_type": "display_data",
          "data": {
            "text/plain": [
              "<Figure size 1500x500 with 1 Axes>"
            ],
            "image/png": "[encoded data removed]"
          },
          "metadata": {}
        }
      ]
    },
    {
      "cell_type": "code",
      "source": [
        "#4. 모델 예측 및 평가\n",
        "digit_model.evaluate(X_test, y_test)\n",
        "# 정확도 약 0.865\n",
        "# relu 정확도 약 0.925"
      ],
      "metadata": {
        "colab": {
          "base_uri": "https://localhost:8080/"
        },
        "id": "TS13A7q7RV85",
        "outputId": "2e936a02-a37a-44d7-8c42-ca5667dcf3fa"
      },
      "execution_count": null,
      "outputs": [
        {
          "output_type": "stream",
          "name": "stdout",
          "text": [
            "313/313 [==============================] - 0s 1ms/step - loss: 0.2726 - accuracy: 0.9285\n"
          ]
        },
        {
          "output_type": "execute_result",
          "data": {
            "text/plain": [
              "[0.27255120873451233, 0.9284999966621399]"
            ]
          },
          "metadata": {},
          "execution_count": 55
        }
      ]
    },
    {
      "cell_type": "markdown",
      "source": [
        "### 직접 작성한 손글씨 숫자 test 해보기"
      ],
      "metadata": {
        "id": "UJZA9CBTRWDQ"
      }
    },
    {
      "cell_type": "code",
      "source": [
        "# 파이썬에서 이미지를 처리하는 라이브러리\n",
        "import PIL.Image as pimg"
      ],
      "metadata": {
        "id": "pXdtDyXBRWH4"
      },
      "execution_count": null,
      "outputs": []
    },
    {
      "cell_type": "code",
      "source": [
        "img = pimg.open('/content/drive/MyDrive/Colab Notebooks/DeepLearning/data/손글씨/4.png').convert('L')\n",
        "plt.imshow(img, cmap='gray')"
      ],
      "metadata": {
        "colab": {
          "base_uri": "https://localhost:8080/",
          "height": 448
        },
        "id": "Isqq7wwVRWM9",
        "outputId": "02da8881-1a5e-49b4-b434-289cf9d2bd0f"
      },
      "execution_count": null,
      "outputs": [
        {
          "output_type": "execute_result",
          "data": {
            "text/plain": [
              "<matplotlib.image.AxesImage at 0x7e973944e3b0>"
            ]
          },
          "metadata": {},
          "execution_count": 42
        },
        {
          "output_type": "display_data",
          "data": {
            "text/plain": [
              "<Figure size 640x480 with 1 Axes>"
            ],
            "image/png": "[encoded data removed]"
          },
          "metadata": {}
        }
      ]
    },
    {
      "cell_type": "code",
      "source": [
        "# 전처리\n",
        "# 이미지타입을 배열로 변환\n",
        "img = np.array(img)\n",
        "img.shape"
      ],
      "metadata": {
        "colab": {
          "base_uri": "https://localhost:8080/"
        },
        "id": "8JesC0qBRWRm",
        "outputId": "0deec34b-0cfc-49b0-a36a-03530d7164dd"
      },
      "execution_count": null,
      "outputs": [
        {
          "output_type": "execute_result",
          "data": {
            "text/plain": [
              "(28, 28)"
            ]
          },
          "metadata": {},
          "execution_count": 43
        }
      ]
    },
    {
      "cell_type": "code",
      "source": [
        "# 2차원 -> 1차원\n",
        "test_img = img.reshape(1,28,28,1)\n",
        "test_img.astype('float32')/255\n",
        "test_img.shape"
      ],
      "metadata": {
        "colab": {
          "base_uri": "https://localhost:8080/"
        },
        "id": "3UJE3oKrRWWu",
        "outputId": "9b7bd879-4881-4f7f-ff64-460ab8212e9a"
      },
      "execution_count": null,
      "outputs": [
        {
          "output_type": "execute_result",
          "data": {
            "text/plain": [
              "(1, 28, 28, 1)"
            ]
          },
          "metadata": {},
          "execution_count": 45
        }
      ]
    },
    {
      "cell_type": "code",
      "source": [
        "# 예측\n",
        "digit_model.predict(test_img)\n",
        "# 결과 : 10개의 확률로 출력\n"
      ],
      "metadata": {
        "colab": {
          "base_uri": "https://localhost:8080/"
        },
        "id": "iWDR9c08RWba",
        "outputId": "7842b098-27ed-4830-a770-6b1f2f377163"
      },
      "execution_count": null,
      "outputs": [
        {
          "output_type": "stream",
          "name": "stdout",
          "text": [
            "1/1 [==============================] - 0s 63ms/step\n"
          ]
        },
        {
          "output_type": "execute_result",
          "data": {
            "text/plain": [
              "array([[0.24881741, 0.00283743, 0.5526416 , 0.0438966 , 0.01046528,\n",
              "        0.048622  , 0.04237645, 0.01118124, 0.01447232, 0.02468973]],\n",
              "      dtype=float32)"
            ]
          },
          "metadata": {},
          "execution_count": 46
        }
      ]
    },
    {
      "cell_type": "code",
      "source": [],
      "metadata": {
        "id": "e2SSCHqORWgH"
      },
      "execution_count": null,
      "outputs": []
    },
    {
      "cell_type": "code",
      "source": [],
      "metadata": {
        "id": "oeKqcp0oRWk1"
      },
      "execution_count": null,
      "outputs": []
    },
    {
      "cell_type": "code",
      "source": [],
      "metadata": {
        "id": "C5F8LvAGRWpl"
      },
      "execution_count": null,
      "outputs": []
    },
    {
      "cell_type": "code",
      "source": [],
      "metadata": {
        "id": "ePGpvQz0RWuO"
      },
      "execution_count": null,
      "outputs": []
    },
    {
      "cell_type": "code",
      "source": [],
      "metadata": {
        "id": "FN5q8OSERWzp"
      },
      "execution_count": null,
      "outputs": []
    },
    {
      "cell_type": "code",
      "source": [],
      "metadata": {
        "id": "7IDrXZxgRW4t"
      },
      "execution_count": null,
      "outputs": []
    }
  ]
}