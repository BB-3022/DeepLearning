{
  "nbformat": 4,
  "nbformat_minor": 0,
  "metadata": {
    "colab": {
      "provenance": [],
      "mount_file_id": "1wwG40cJBLtwHU8bH99jTA-H1e3CPi_b6",
      "authorship_tag": "ABX9TyOJW6QR/2/9EdcMkhm7UtfK",
      "include_colab_link": true
    },
    "kernelspec": {
      "name": "python3",
      "display_name": "Python 3"
    },
    "language_info": {
      "name": "python"
    }
  },
  "cells": [
    {
      "cell_type": "markdown",
      "metadata": {
        "id": "view-in-github",
        "colab_type": "text"
      },
      "source": [
        "<a href=\"https://colab.research.google.com/github/BB-3022/DeepLearning/blob/main/ex00_%EB%94%A5%EB%9F%AC%EB%8B%9D_%EB%A7%9B%EB%B3%B4%EA%B8%B0.ipynb\" target=\"_parent\"><img src=\"https://colab.research.google.com/assets/colab-badge.svg\" alt=\"Open In Colab\"/></a>"
      ]
    },
    {
      "cell_type": "code",
      "execution_count": null,
      "metadata": {
        "id": "jqm-Yc_CfgWr"
      },
      "outputs": [],
      "source": []
    },
    {
      "cell_type": "markdown",
      "source": [
        "### 단축키 사용법\n",
        "- 실행단축키\n",
        "  - ctrl + Enter : 실행 후 커서가 그대로 위치\n",
        "  - shift + Enter : 실행 후 커서가 아래 셀로 이동\n",
        "  - alt + Enter : 실행 후 아래 셀 생성, 아래 이동\n",
        "\n",
        "- 마크다운 변환(코드 -> 텍스트)\n",
        "  - ctrl + m + m\n",
        "\n",
        "- 코드모드로 변환(텍스트 -> 코드)\n",
        "  - ctrl + m + y\n",
        "\n",
        "- 셀 아래에 추가하기\n",
        "  - ctrl + m + b\n",
        "\n",
        "- 셀 위에 추가하기\n",
        "  - ctrl + m + a\n",
        "\n"
      ],
      "metadata": {
        "id": "jqCFzs8bgYTB"
      }
    },
    {
      "cell_type": "markdown",
      "source": [
        "### 딥러닝 맛보기\n",
        "- 딥러닝이란?\n",
        "  - 인간의 신경망을 모방하여 학습하고 예측하는 기술\n",
        "  - 대량의 데이터에서 복잡한 패턴이나 규칙을 찾아내는 능력이 뛰어남\n",
        "  - 머신러닝에 비해 조금 더 유연한 사고를 한다.\n",
        "  - 인간의 뉴런 == 딥러닝의 선형모델\n",
        "  - 주로 영상, 음성, 이미지 처리에 사용된다.\n",
        "\n",
        "- tensorflow\n",
        "  - 구글이 만든 딥러닝을 위한 라이브러리\n",
        "\n",
        "- keras\n",
        "  - tensorflow 위에서 동작하는 라이브러리로 사용자 친화적 라이브러리\n"
      ],
      "metadata": {
        "id": "mdpy-PyRhfeA"
      }
    },
    {
      "cell_type": "code",
      "source": [
        "# tensorflow 버전확인\n",
        "import tensorflow as tf\n",
        "print(tf.__version__)\n",
        "# 2.13.0\n",
        "# 설치버전 확인이유 : 프로젝트 진행시 오픈소스 가져다쓸때 충돌방지\n"
      ],
      "metadata": {
        "id": "UzbOOXsygXQq",
        "colab": {
          "base_uri": "https://localhost:8080/"
        },
        "outputId": "49edce40-fe5e-41f0-f7ef-051d4c0e3ae2"
      },
      "execution_count": null,
      "outputs": [
        {
          "output_type": "stream",
          "name": "stdout",
          "text": [
            "2.13.0\n"
          ]
        }
      ]
    },
    {
      "cell_type": "code",
      "source": [
        "# 리눅스기반으 코랩( 리눅스 명령어 그대로 사용가능)\n",
        "# 리눅스 명령어를 사용하여 현재 작업 디렉토리 확인\n",
        "!pwd # print work directory"
      ],
      "metadata": {
        "colab": {
          "base_uri": "https://localhost:8080/"
        },
        "id": "4KCqjEfAjdQ-",
        "outputId": "386c56cd-0ef7-4998-ca08-8122b443b90e"
      },
      "execution_count": null,
      "outputs": [
        {
          "output_type": "stream",
          "name": "stdout",
          "text": [
            "/content\n"
          ]
        }
      ]
    },
    {
      "cell_type": "code",
      "source": [
        "# 현재 작업 디렉토리의 파일 목록 조회\n",
        "!ls"
      ],
      "metadata": {
        "colab": {
          "base_uri": "https://localhost:8080/"
        },
        "id": "APWhrRu8jdgW",
        "outputId": "f1cdbc4e-1287-44fa-cd07-5731cd12158b"
      },
      "execution_count": null,
      "outputs": [
        {
          "output_type": "stream",
          "name": "stdout",
          "text": [
            "drive  sample_data\n"
          ]
        }
      ]
    },
    {
      "cell_type": "code",
      "source": [
        "# 작업 디렉토리 변경\n",
        "# %cd (change directory)\n",
        "%cd \"/content/drive/MyDrive/Colab Notebooks/DeepLearning\""
      ],
      "metadata": {
        "id": "nCO98q3hjdlf",
        "colab": {
          "base_uri": "https://localhost:8080/"
        },
        "outputId": "452fda66-4d43-45fd-fb2a-a0149bfb21e9"
      },
      "execution_count": null,
      "outputs": [
        {
          "output_type": "stream",
          "name": "stdout",
          "text": [
            "/content/drive/MyDrive/Colab Notebooks/DeepLearning\n"
          ]
        }
      ]
    },
    {
      "cell_type": "code",
      "source": [
        "# 다시 현재 폴더 경로 확인\n",
        "!pwd\n"
      ],
      "metadata": {
        "colab": {
          "base_uri": "https://localhost:8080/"
        },
        "id": "K9g08qspjdom",
        "outputId": "6ee1832f-52ab-4f26-d25d-235efa7ca847"
      },
      "execution_count": null,
      "outputs": [
        {
          "output_type": "stream",
          "name": "stdout",
          "text": [
            "/content/drive/MyDrive/Colab Notebooks/DeepLearning\n"
          ]
        }
      ]
    },
    {
      "cell_type": "markdown",
      "source": [
        "### 목표\n",
        "- 공부시간에 따른 수학성적을 예측하는 회귀모델을 만들어보자\n",
        "- keras 활용해서 신경망 구성하는 방법을 연습해보자"
      ],
      "metadata": {
        "id": "tLFwCpfVjdrK"
      }
    },
    {
      "cell_type": "code",
      "source": [
        "import numpy as np\n",
        "import pandas as pd\n",
        "import matplotlib.pyplot as plt"
      ],
      "metadata": {
        "id": "REEhRaKkjdtP"
      },
      "execution_count": null,
      "outputs": []
    },
    {
      "cell_type": "code",
      "source": [
        "#데이터 불러오기\n",
        "data=pd.read_csv('./data/student-mat.csv', delimiter=';')\n",
        "data"
      ],
      "metadata": {
        "colab": {
          "base_uri": "https://localhost:8080/",
          "height": 423
        },
        "id": "RrUDMVGyjdwE",
        "outputId": "8cfe4f08-7fd8-45b8-a7de-13d8063dcb0e"
      },
      "execution_count": null,
      "outputs": [
        {
          "output_type": "execute_result",
          "data": {
            "text/plain": [
              "    school sex  age address famsize Pstatus  Medu  Fedu      Mjob      Fjob  \\\n",
              "0       GP   F   18       U     GT3       A     4     4   at_home   teacher   \n",
              "1       GP   F   17       U     GT3       T     1     1   at_home     other   \n",
              "2       GP   F   15       U     LE3       T     1     1   at_home     other   \n",
              "3       GP   F   15       U     GT3       T     4     2    health  services   \n",
              "4       GP   F   16       U     GT3       T     3     3     other     other   \n",
              "..     ...  ..  ...     ...     ...     ...   ...   ...       ...       ...   \n",
              "390     MS   M   20       U     LE3       A     2     2  services  services   \n",
              "391     MS   M   17       U     LE3       T     3     1  services  services   \n",
              "392     MS   M   21       R     GT3       T     1     1     other     other   \n",
              "393     MS   M   18       R     LE3       T     3     2  services     other   \n",
              "394     MS   M   19       U     LE3       T     1     1     other   at_home   \n",
              "\n",
              "     ... famrel freetime  goout  Dalc  Walc health absences  G1  G2  G3  \n",
              "0    ...      4        3      4     1     1      3        6   5   6   6  \n",
              "1    ...      5        3      3     1     1      3        4   5   5   6  \n",
              "2    ...      4        3      2     2     3      3       10   7   8  10  \n",
              "3    ...      3        2      2     1     1      5        2  15  14  15  \n",
              "4    ...      4        3      2     1     2      5        4   6  10  10  \n",
              "..   ...    ...      ...    ...   ...   ...    ...      ...  ..  ..  ..  \n",
              "390  ...      5        5      4     4     5      4       11   9   9   9  \n",
              "391  ...      2        4      5     3     4      2        3  14  16  16  \n",
              "392  ...      5        5      3     3     3      3        3  10   8   7  \n",
              "393  ...      4        4      1     3     4      5        0  11  12  10  \n",
              "394  ...      3        2      3     3     3      5        5   8   9   9  \n",
              "\n",
              "[395 rows x 33 columns]"
            ],
            "text/html": [
              "\n",
              "  <div id=\"df-0ba5d2d8-8436-40e6-a6d5-74a3f33fae61\" class=\"colab-df-container\">\n",
              "    <div>\n",
              "<style scoped>\n",
              "    .dataframe tbody tr th:only-of-type {\n",
              "        vertical-align: middle;\n",
              "    }\n",
              "\n",
              "    .dataframe tbody tr th {\n",
              "        vertical-align: top;\n",
              "    }\n",
              "\n",
              "    .dataframe thead th {\n",
              "        text-align: right;\n",
              "    }\n",
              "</style>\n",
              "<table border=\"1\" class=\"dataframe\">\n",
              "  <thead>\n",
              "    <tr style=\"text-align: right;\">\n",
              "      <th></th>\n",
              "      <th>school</th>\n",
              "      <th>sex</th>\n",
              "      <th>age</th>\n",
              "      <th>address</th>\n",
              "      <th>famsize</th>\n",
              "      <th>Pstatus</th>\n",
              "      <th>Medu</th>\n",
              "      <th>Fedu</th>\n",
              "      <th>Mjob</th>\n",
              "      <th>Fjob</th>\n",
              "      <th>...</th>\n",
              "      <th>famrel</th>\n",
              "      <th>freetime</th>\n",
              "      <th>goout</th>\n",
              "      <th>Dalc</th>\n",
              "      <th>Walc</th>\n",
              "      <th>health</th>\n",
              "      <th>absences</th>\n",
              "      <th>G1</th>\n",
              "      <th>G2</th>\n",
              "      <th>G3</th>\n",
              "    </tr>\n",
              "  </thead>\n",
              "  <tbody>\n",
              "    <tr>\n",
              "      <th>0</th>\n",
              "      <td>GP</td>\n",
              "      <td>F</td>\n",
              "      <td>18</td>\n",
              "      <td>U</td>\n",
              "      <td>GT3</td>\n",
              "      <td>A</td>\n",
              "      <td>4</td>\n",
              "      <td>4</td>\n",
              "      <td>at_home</td>\n",
              "      <td>teacher</td>\n",
              "      <td>...</td>\n",
              "      <td>4</td>\n",
              "      <td>3</td>\n",
              "      <td>4</td>\n",
              "      <td>1</td>\n",
              "      <td>1</td>\n",
              "      <td>3</td>\n",
              "      <td>6</td>\n",
              "      <td>5</td>\n",
              "      <td>6</td>\n",
              "      <td>6</td>\n",
              "    </tr>\n",
              "    <tr>\n",
              "      <th>1</th>\n",
              "      <td>GP</td>\n",
              "      <td>F</td>\n",
              "      <td>17</td>\n",
              "      <td>U</td>\n",
              "      <td>GT3</td>\n",
              "      <td>T</td>\n",
              "      <td>1</td>\n",
              "      <td>1</td>\n",
              "      <td>at_home</td>\n",
              "      <td>other</td>\n",
              "      <td>...</td>\n",
              "      <td>5</td>\n",
              "      <td>3</td>\n",
              "      <td>3</td>\n",
              "      <td>1</td>\n",
              "      <td>1</td>\n",
              "      <td>3</td>\n",
              "      <td>4</td>\n",
              "      <td>5</td>\n",
              "      <td>5</td>\n",
              "      <td>6</td>\n",
              "    </tr>\n",
              "    <tr>\n",
              "      <th>2</th>\n",
              "      <td>GP</td>\n",
              "      <td>F</td>\n",
              "      <td>15</td>\n",
              "      <td>U</td>\n",
              "      <td>LE3</td>\n",
              "      <td>T</td>\n",
              "      <td>1</td>\n",
              "      <td>1</td>\n",
              "      <td>at_home</td>\n",
              "      <td>other</td>\n",
              "      <td>...</td>\n",
              "      <td>4</td>\n",
              "      <td>3</td>\n",
              "      <td>2</td>\n",
              "      <td>2</td>\n",
              "      <td>3</td>\n",
              "      <td>3</td>\n",
              "      <td>10</td>\n",
              "      <td>7</td>\n",
              "      <td>8</td>\n",
              "      <td>10</td>\n",
              "    </tr>\n",
              "    <tr>\n",
              "      <th>3</th>\n",
              "      <td>GP</td>\n",
              "      <td>F</td>\n",
              "      <td>15</td>\n",
              "      <td>U</td>\n",
              "      <td>GT3</td>\n",
              "      <td>T</td>\n",
              "      <td>4</td>\n",
              "      <td>2</td>\n",
              "      <td>health</td>\n",
              "      <td>services</td>\n",
              "      <td>...</td>\n",
              "      <td>3</td>\n",
              "      <td>2</td>\n",
              "      <td>2</td>\n",
              "      <td>1</td>\n",
              "      <td>1</td>\n",
              "      <td>5</td>\n",
              "      <td>2</td>\n",
              "      <td>15</td>\n",
              "      <td>14</td>\n",
              "      <td>15</td>\n",
              "    </tr>\n",
              "    <tr>\n",
              "      <th>4</th>\n",
              "      <td>GP</td>\n",
              "      <td>F</td>\n",
              "      <td>16</td>\n",
              "      <td>U</td>\n",
              "      <td>GT3</td>\n",
              "      <td>T</td>\n",
              "      <td>3</td>\n",
              "      <td>3</td>\n",
              "      <td>other</td>\n",
              "      <td>other</td>\n",
              "      <td>...</td>\n",
              "      <td>4</td>\n",
              "      <td>3</td>\n",
              "      <td>2</td>\n",
              "      <td>1</td>\n",
              "      <td>2</td>\n",
              "      <td>5</td>\n",
              "      <td>4</td>\n",
              "      <td>6</td>\n",
              "      <td>10</td>\n",
              "      <td>10</td>\n",
              "    </tr>\n",
              "    <tr>\n",
              "      <th>...</th>\n",
              "      <td>...</td>\n",
              "      <td>...</td>\n",
              "      <td>...</td>\n",
              "      <td>...</td>\n",
              "      <td>...</td>\n",
              "      <td>...</td>\n",
              "      <td>...</td>\n",
              "      <td>...</td>\n",
              "      <td>...</td>\n",
              "      <td>...</td>\n",
              "      <td>...</td>\n",
              "      <td>...</td>\n",
              "      <td>...</td>\n",
              "      <td>...</td>\n",
              "      <td>...</td>\n",
              "      <td>...</td>\n",
              "      <td>...</td>\n",
              "      <td>...</td>\n",
              "      <td>...</td>\n",
              "      <td>...</td>\n",
              "      <td>...</td>\n",
              "    </tr>\n",
              "    <tr>\n",
              "      <th>390</th>\n",
              "      <td>MS</td>\n",
              "      <td>M</td>\n",
              "      <td>20</td>\n",
              "      <td>U</td>\n",
              "      <td>LE3</td>\n",
              "      <td>A</td>\n",
              "      <td>2</td>\n",
              "      <td>2</td>\n",
              "      <td>services</td>\n",
              "      <td>services</td>\n",
              "      <td>...</td>\n",
              "      <td>5</td>\n",
              "      <td>5</td>\n",
              "      <td>4</td>\n",
              "      <td>4</td>\n",
              "      <td>5</td>\n",
              "      <td>4</td>\n",
              "      <td>11</td>\n",
              "      <td>9</td>\n",
              "      <td>9</td>\n",
              "      <td>9</td>\n",
              "    </tr>\n",
              "    <tr>\n",
              "      <th>391</th>\n",
              "      <td>MS</td>\n",
              "      <td>M</td>\n",
              "      <td>17</td>\n",
              "      <td>U</td>\n",
              "      <td>LE3</td>\n",
              "      <td>T</td>\n",
              "      <td>3</td>\n",
              "      <td>1</td>\n",
              "      <td>services</td>\n",
              "      <td>services</td>\n",
              "      <td>...</td>\n",
              "      <td>2</td>\n",
              "      <td>4</td>\n",
              "      <td>5</td>\n",
              "      <td>3</td>\n",
              "      <td>4</td>\n",
              "      <td>2</td>\n",
              "      <td>3</td>\n",
              "      <td>14</td>\n",
              "      <td>16</td>\n",
              "      <td>16</td>\n",
              "    </tr>\n",
              "    <tr>\n",
              "      <th>392</th>\n",
              "      <td>MS</td>\n",
              "      <td>M</td>\n",
              "      <td>21</td>\n",
              "      <td>R</td>\n",
              "      <td>GT3</td>\n",
              "      <td>T</td>\n",
              "      <td>1</td>\n",
              "      <td>1</td>\n",
              "      <td>other</td>\n",
              "      <td>other</td>\n",
              "      <td>...</td>\n",
              "      <td>5</td>\n",
              "      <td>5</td>\n",
              "      <td>3</td>\n",
              "      <td>3</td>\n",
              "      <td>3</td>\n",
              "      <td>3</td>\n",
              "      <td>3</td>\n",
              "      <td>10</td>\n",
              "      <td>8</td>\n",
              "      <td>7</td>\n",
              "    </tr>\n",
              "    <tr>\n",
              "      <th>393</th>\n",
              "      <td>MS</td>\n",
              "      <td>M</td>\n",
              "      <td>18</td>\n",
              "      <td>R</td>\n",
              "      <td>LE3</td>\n",
              "      <td>T</td>\n",
              "      <td>3</td>\n",
              "      <td>2</td>\n",
              "      <td>services</td>\n",
              "      <td>other</td>\n",
              "      <td>...</td>\n",
              "      <td>4</td>\n",
              "      <td>4</td>\n",
              "      <td>1</td>\n",
              "      <td>3</td>\n",
              "      <td>4</td>\n",
              "      <td>5</td>\n",
              "      <td>0</td>\n",
              "      <td>11</td>\n",
              "      <td>12</td>\n",
              "      <td>10</td>\n",
              "    </tr>\n",
              "    <tr>\n",
              "      <th>394</th>\n",
              "      <td>MS</td>\n",
              "      <td>M</td>\n",
              "      <td>19</td>\n",
              "      <td>U</td>\n",
              "      <td>LE3</td>\n",
              "      <td>T</td>\n",
              "      <td>1</td>\n",
              "      <td>1</td>\n",
              "      <td>other</td>\n",
              "      <td>at_home</td>\n",
              "      <td>...</td>\n",
              "      <td>3</td>\n",
              "      <td>2</td>\n",
              "      <td>3</td>\n",
              "      <td>3</td>\n",
              "      <td>3</td>\n",
              "      <td>5</td>\n",
              "      <td>5</td>\n",
              "      <td>8</td>\n",
              "      <td>9</td>\n",
              "      <td>9</td>\n",
              "    </tr>\n",
              "  </tbody>\n",
              "</table>\n",
              "<p>395 rows × 33 columns</p>\n",
              "</div>\n",
              "    <div class=\"colab-df-buttons\">\n",
              "\n",
              "  <div class=\"colab-df-container\">\n",
              "    <button class=\"colab-df-convert\" onclick=\"convertToInteractive('df-0ba5d2d8-8436-40e6-a6d5-74a3f33fae61')\"\n",
              "            title=\"Convert this dataframe to an interactive table.\"\n",
              "            style=\"display:none;\">\n",
              "\n",
              "  <svg xmlns=\"http://www.w3.org/2000/svg\" height=\"24px\" viewBox=\"0 -960 960 960\">\n",
              "    <path d=\"M120-120v-720h720v720H120Zm60-500h600v-160H180v160Zm220 220h160v-160H400v160Zm0 220h160v-160H400v160ZM180-400h160v-160H180v160Zm440 0h160v-160H620v160ZM180-180h160v-160H180v160Zm440 0h160v-160H620v160Z\"/>\n",
              "  </svg>\n",
              "    </button>\n",
              "\n",
              "  <style>\n",
              "    .colab-df-container {\n",
              "      display:flex;\n",
              "      gap: 12px;\n",
              "    }\n",
              "\n",
              "    .colab-df-convert {\n",
              "      background-color: #E8F0FE;\n",
              "      border: none;\n",
              "      border-radius: 50%;\n",
              "      cursor: pointer;\n",
              "      display: none;\n",
              "      fill: #1967D2;\n",
              "      height: 32px;\n",
              "      padding: 0 0 0 0;\n",
              "      width: 32px;\n",
              "    }\n",
              "\n",
              "    .colab-df-convert:hover {\n",
              "      background-color: #E2EBFA;\n",
              "      box-shadow: 0px 1px 2px rgba(60, 64, 67, 0.3), 0px 1px 3px 1px rgba(60, 64, 67, 0.15);\n",
              "      fill: #174EA6;\n",
              "    }\n",
              "\n",
              "    .colab-df-buttons div {\n",
              "      margin-bottom: 4px;\n",
              "    }\n",
              "\n",
              "    [theme=dark] .colab-df-convert {\n",
              "      background-color: #3B4455;\n",
              "      fill: #D2E3FC;\n",
              "    }\n",
              "\n",
              "    [theme=dark] .colab-df-convert:hover {\n",
              "      background-color: #434B5C;\n",
              "      box-shadow: 0px 1px 3px 1px rgba(0, 0, 0, 0.15);\n",
              "      filter: drop-shadow(0px 1px 2px rgba(0, 0, 0, 0.3));\n",
              "      fill: #FFFFFF;\n",
              "    }\n",
              "  </style>\n",
              "\n",
              "    <script>\n",
              "      const buttonEl =\n",
              "        document.querySelector('#df-0ba5d2d8-8436-40e6-a6d5-74a3f33fae61 button.colab-df-convert');\n",
              "      buttonEl.style.display =\n",
              "        google.colab.kernel.accessAllowed ? 'block' : 'none';\n",
              "\n",
              "      async function convertToInteractive(key) {\n",
              "        const element = document.querySelector('#df-0ba5d2d8-8436-40e6-a6d5-74a3f33fae61');\n",
              "        const dataTable =\n",
              "          await google.colab.kernel.invokeFunction('convertToInteractive',\n",
              "                                                    [key], {});\n",
              "        if (!dataTable) return;\n",
              "\n",
              "        const docLinkHtml = 'Like what you see? Visit the ' +\n",
              "          '<a target=\"_blank\" href=https://colab.research.google.com/notebooks/data_table.ipynb>data table notebook</a>'\n",
              "          + ' to learn more about interactive tables.';\n",
              "        element.innerHTML = '';\n",
              "        dataTable['output_type'] = 'display_data';\n",
              "        await google.colab.output.renderOutput(dataTable, element);\n",
              "        const docLink = document.createElement('div');\n",
              "        docLink.innerHTML = docLinkHtml;\n",
              "        element.appendChild(docLink);\n",
              "      }\n",
              "    </script>\n",
              "  </div>\n",
              "\n",
              "\n",
              "<div id=\"df-654cc506-d182-4ed8-84d3-f1b326b9dc1e\">\n",
              "  <button class=\"colab-df-quickchart\" onclick=\"quickchart('df-654cc506-d182-4ed8-84d3-f1b326b9dc1e')\"\n",
              "            title=\"Suggest charts.\"\n",
              "            style=\"display:none;\">\n",
              "\n",
              "<svg xmlns=\"http://www.w3.org/2000/svg\" height=\"24px\"viewBox=\"0 0 24 24\"\n",
              "     width=\"24px\">\n",
              "    <g>\n",
              "        <path d=\"M19 3H5c-1.1 0-2 .9-2 2v14c0 1.1.9 2 2 2h14c1.1 0 2-.9 2-2V5c0-1.1-.9-2-2-2zM9 17H7v-7h2v7zm4 0h-2V7h2v10zm4 0h-2v-4h2v4z\"/>\n",
              "    </g>\n",
              "</svg>\n",
              "  </button>\n",
              "\n",
              "<style>\n",
              "  .colab-df-quickchart {\n",
              "      --bg-color: #E8F0FE;\n",
              "      --fill-color: #1967D2;\n",
              "      --hover-bg-color: #E2EBFA;\n",
              "      --hover-fill-color: #174EA6;\n",
              "      --disabled-fill-color: #AAA;\n",
              "      --disabled-bg-color: #DDD;\n",
              "  }\n",
              "\n",
              "  [theme=dark] .colab-df-quickchart {\n",
              "      --bg-color: #3B4455;\n",
              "      --fill-color: #D2E3FC;\n",
              "      --hover-bg-color: #434B5C;\n",
              "      --hover-fill-color: #FFFFFF;\n",
              "      --disabled-bg-color: #3B4455;\n",
              "      --disabled-fill-color: #666;\n",
              "  }\n",
              "\n",
              "  .colab-df-quickchart {\n",
              "    background-color: var(--bg-color);\n",
              "    border: none;\n",
              "    border-radius: 50%;\n",
              "    cursor: pointer;\n",
              "    display: none;\n",
              "    fill: var(--fill-color);\n",
              "    height: 32px;\n",
              "    padding: 0;\n",
              "    width: 32px;\n",
              "  }\n",
              "\n",
              "  .colab-df-quickchart:hover {\n",
              "    background-color: var(--hover-bg-color);\n",
              "    box-shadow: 0 1px 2px rgba(60, 64, 67, 0.3), 0 1px 3px 1px rgba(60, 64, 67, 0.15);\n",
              "    fill: var(--button-hover-fill-color);\n",
              "  }\n",
              "\n",
              "  .colab-df-quickchart-complete:disabled,\n",
              "  .colab-df-quickchart-complete:disabled:hover {\n",
              "    background-color: var(--disabled-bg-color);\n",
              "    fill: var(--disabled-fill-color);\n",
              "    box-shadow: none;\n",
              "  }\n",
              "\n",
              "  .colab-df-spinner {\n",
              "    border: 2px solid var(--fill-color);\n",
              "    border-color: transparent;\n",
              "    border-bottom-color: var(--fill-color);\n",
              "    animation:\n",
              "      spin 1s steps(1) infinite;\n",
              "  }\n",
              "\n",
              "  @keyframes spin {\n",
              "    0% {\n",
              "      border-color: transparent;\n",
              "      border-bottom-color: var(--fill-color);\n",
              "      border-left-color: var(--fill-color);\n",
              "    }\n",
              "    20% {\n",
              "      border-color: transparent;\n",
              "      border-left-color: var(--fill-color);\n",
              "      border-top-color: var(--fill-color);\n",
              "    }\n",
              "    30% {\n",
              "      border-color: transparent;\n",
              "      border-left-color: var(--fill-color);\n",
              "      border-top-color: var(--fill-color);\n",
              "      border-right-color: var(--fill-color);\n",
              "    }\n",
              "    40% {\n",
              "      border-color: transparent;\n",
              "      border-right-color: var(--fill-color);\n",
              "      border-top-color: var(--fill-color);\n",
              "    }\n",
              "    60% {\n",
              "      border-color: transparent;\n",
              "      border-right-color: var(--fill-color);\n",
              "    }\n",
              "    80% {\n",
              "      border-color: transparent;\n",
              "      border-right-color: var(--fill-color);\n",
              "      border-bottom-color: var(--fill-color);\n",
              "    }\n",
              "    90% {\n",
              "      border-color: transparent;\n",
              "      border-bottom-color: var(--fill-color);\n",
              "    }\n",
              "  }\n",
              "</style>\n",
              "\n",
              "  <script>\n",
              "    async function quickchart(key) {\n",
              "      const quickchartButtonEl =\n",
              "        document.querySelector('#' + key + ' button');\n",
              "      quickchartButtonEl.disabled = true;  // To prevent multiple clicks.\n",
              "      quickchartButtonEl.classList.add('colab-df-spinner');\n",
              "      try {\n",
              "        const charts = await google.colab.kernel.invokeFunction(\n",
              "            'suggestCharts', [key], {});\n",
              "      } catch (error) {\n",
              "        console.error('Error during call to suggestCharts:', error);\n",
              "      }\n",
              "      quickchartButtonEl.classList.remove('colab-df-spinner');\n",
              "      quickchartButtonEl.classList.add('colab-df-quickchart-complete');\n",
              "    }\n",
              "    (() => {\n",
              "      let quickchartButtonEl =\n",
              "        document.querySelector('#df-654cc506-d182-4ed8-84d3-f1b326b9dc1e button');\n",
              "      quickchartButtonEl.style.display =\n",
              "        google.colab.kernel.accessAllowed ? 'block' : 'none';\n",
              "    })();\n",
              "  </script>\n",
              "</div>\n",
              "    </div>\n",
              "  </div>\n"
            ]
          },
          "metadata": {},
          "execution_count": 7
        }
      ]
    },
    {
      "cell_type": "code",
      "source": [
        "data.info()"
      ],
      "metadata": {
        "colab": {
          "base_uri": "https://localhost:8080/"
        },
        "id": "C_997uPkjdx_",
        "outputId": "b7c1fdcb-be1e-405f-c465-f379c83e177b"
      },
      "execution_count": null,
      "outputs": [
        {
          "output_type": "stream",
          "name": "stdout",
          "text": [
            "<class 'pandas.core.frame.DataFrame'>\n",
            "RangeIndex: 395 entries, 0 to 394\n",
            "Data columns (total 33 columns):\n",
            " #   Column      Non-Null Count  Dtype \n",
            "---  ------      --------------  ----- \n",
            " 0   school      395 non-null    object\n",
            " 1   sex         395 non-null    object\n",
            " 2   age         395 non-null    int64 \n",
            " 3   address     395 non-null    object\n",
            " 4   famsize     395 non-null    object\n",
            " 5   Pstatus     395 non-null    object\n",
            " 6   Medu        395 non-null    int64 \n",
            " 7   Fedu        395 non-null    int64 \n",
            " 8   Mjob        395 non-null    object\n",
            " 9   Fjob        395 non-null    object\n",
            " 10  reason      395 non-null    object\n",
            " 11  guardian    395 non-null    object\n",
            " 12  traveltime  395 non-null    int64 \n",
            " 13  studytime   395 non-null    int64 \n",
            " 14  failures    395 non-null    int64 \n",
            " 15  schoolsup   395 non-null    object\n",
            " 16  famsup      395 non-null    object\n",
            " 17  paid        395 non-null    object\n",
            " 18  activities  395 non-null    object\n",
            " 19  nursery     395 non-null    object\n",
            " 20  higher      395 non-null    object\n",
            " 21  internet    395 non-null    object\n",
            " 22  romantic    395 non-null    object\n",
            " 23  famrel      395 non-null    int64 \n",
            " 24  freetime    395 non-null    int64 \n",
            " 25  goout       395 non-null    int64 \n",
            " 26  Dalc        395 non-null    int64 \n",
            " 27  Walc        395 non-null    int64 \n",
            " 28  health      395 non-null    int64 \n",
            " 29  absences    395 non-null    int64 \n",
            " 30  G1          395 non-null    int64 \n",
            " 31  G2          395 non-null    int64 \n",
            " 32  G3          395 non-null    int64 \n",
            "dtypes: int64(16), object(17)\n",
            "memory usage: 102.0+ KB\n"
          ]
        }
      ]
    },
    {
      "cell_type": "markdown",
      "source": [
        "### 문제와 답으로 분리\n",
        "- 입력특성 : 1개(studytime)\n",
        "- 정답: G3"
      ],
      "metadata": {
        "id": "iFdL9BU_jd0S"
      }
    },
    {
      "cell_type": "code",
      "source": [
        "# 문제데이터 (X)\n",
        "X = data['studytime']\n",
        "# 정답데이터 (y)\n",
        "y = data['G3']"
      ],
      "metadata": {
        "id": "HWWhSk3OrqN4"
      },
      "execution_count": null,
      "outputs": []
    },
    {
      "cell_type": "code",
      "source": [
        "from sklearn.model_selection import train_test_split"
      ],
      "metadata": {
        "id": "CuU3uiS3rqd5"
      },
      "execution_count": null,
      "outputs": []
    },
    {
      "cell_type": "code",
      "source": [
        "# train, test 분리\n",
        "X_train,X_test,y_train,y_test = train_test_split(X,y,\n",
        "                                                 random_state=915,\n",
        "                                                 test_size=0.2)"
      ],
      "metadata": {
        "id": "fog8HZz-rq2J"
      },
      "execution_count": null,
      "outputs": []
    },
    {
      "cell_type": "code",
      "source": [
        "# 크기확인\n",
        "X_train.shape, y_train.shape"
      ],
      "metadata": {
        "colab": {
          "base_uri": "https://localhost:8080/"
        },
        "id": "K7KUcNPdrq8-",
        "outputId": "04a17f7b-307e-4144-e059-ad29b62a6130"
      },
      "execution_count": null,
      "outputs": [
        {
          "output_type": "execute_result",
          "data": {
            "text/plain": [
              "((316,), (316,))"
            ]
          },
          "metadata": {},
          "execution_count": 12
        }
      ]
    },
    {
      "cell_type": "code",
      "source": [
        "X_test.shape, y_test.shape"
      ],
      "metadata": {
        "colab": {
          "base_uri": "https://localhost:8080/"
        },
        "id": "Xt99DVWJrrB_",
        "outputId": "408967d7-3840-4fdb-afaa-0fd0dfba5500"
      },
      "execution_count": null,
      "outputs": [
        {
          "output_type": "execute_result",
          "data": {
            "text/plain": [
              "((79,), (79,))"
            ]
          },
          "metadata": {},
          "execution_count": 13
        }
      ]
    },
    {
      "cell_type": "markdown",
      "source": [
        "### 머신러닝모델과 딥러닝모델의 차이점\n",
        "- 머신러닝\n",
        "  - 완제품 장난감 : 팔정도만 움직일 수 있다.(하이퍼 파라미터만 조절)\n",
        "  - 모델생성(완성된 객체 사용) -> 모델학습 -> 모델예측 -> 모델평가\n",
        "\n",
        "- 딥러닝\n",
        "  - 레고블럭 : 다양한 구성이 가능하다.\n",
        "  - 모델생성(모델을 직접 구성) -> 모델학습 -> 모델예측 -> 모델평가\n",
        "  "
      ],
      "metadata": {
        "id": "L4b8c0B7rrG1"
      }
    },
    {
      "cell_type": "markdown",
      "source": [
        "### 머신러닝 모델링(선형회귀모델)"
      ],
      "metadata": {
        "id": "iqu0KD0prrLP"
      }
    },
    {
      "cell_type": "code",
      "source": [
        "from sklearn.linear_model import LinearRegression #선형회귀\n",
        "from sklearn.metrics import mean_squared_error # 회귀모델의 평가지표 도구 MSE"
      ],
      "metadata": {
        "id": "hZGnppyCrrPq"
      },
      "execution_count": null,
      "outputs": []
    },
    {
      "cell_type": "code",
      "source": [
        "from sklearn import linear_model\n",
        "\n",
        "# 1. 모델 생성\n",
        "linear_model=LinearRegression()\n",
        "\n",
        "# 2. 모델 학습(학습용 문제, 학습용 정답)\n",
        "linear_model.fit(X_train.values.reshape(-1,1), y_train)\n",
        "\n",
        "# 3. 모델 예측(테스트용 문제)\n",
        "linear_pre = linear_model.predict(X_test.values.reshape(-1,1))\n",
        "\n",
        "# 4. 모델 평가(실제값, 예측값)\n",
        "mean_squared_error(y_test, linear_pre)"
      ],
      "metadata": {
        "colab": {
          "base_uri": "https://localhost:8080/"
        },
        "id": "6BT6cbcOrrUW",
        "outputId": "bd4671bb-dd8a-4392-e436-e43102d29e34"
      },
      "execution_count": null,
      "outputs": [
        {
          "output_type": "execute_result",
          "data": {
            "text/plain": [
              "24.058078771701606"
            ]
          },
          "metadata": {},
          "execution_count": 15
        }
      ]
    },
    {
      "cell_type": "code",
      "source": [
        "# 머신러닝 모델은 입력특성을 2차원으로 받는다!\n",
        "# 1차원 -> 2차원 변경\n",
        "X_train.values.reshape(-1,1) #X_train.values.reshape(316,1)과 동일"
      ],
      "metadata": {
        "colab": {
          "base_uri": "https://localhost:8080/"
        },
        "id": "0vXjvda6rrZE",
        "outputId": "b7036d9a-3aff-4711-c8b1-17488f7c9399"
      },
      "execution_count": null,
      "outputs": [
        {
          "output_type": "execute_result",
          "data": {
            "text/plain": [
              "array([[1],\n",
              "       [1],\n",
              "       [1],\n",
              "       [2],\n",
              "       [1],\n",
              "       [4],\n",
              "       [1],\n",
              "       [2],\n",
              "       [2],\n",
              "       [1],\n",
              "       [1],\n",
              "       [3],\n",
              "       [2],\n",
              "       [1],\n",
              "       [2],\n",
              "       [2],\n",
              "       [2],\n",
              "       [2],\n",
              "       [2],\n",
              "       [3],\n",
              "       [2],\n",
              "       [1],\n",
              "       [2],\n",
              "       [3],\n",
              "       [4],\n",
              "       [3],\n",
              "       [2],\n",
              "       [1],\n",
              "       [1],\n",
              "       [2],\n",
              "       [2],\n",
              "       [1],\n",
              "       [2],\n",
              "       [2],\n",
              "       [2],\n",
              "       [2],\n",
              "       [1],\n",
              "       [2],\n",
              "       [2],\n",
              "       [2],\n",
              "       [2],\n",
              "       [2],\n",
              "       [1],\n",
              "       [2],\n",
              "       [2],\n",
              "       [2],\n",
              "       [1],\n",
              "       [1],\n",
              "       [4],\n",
              "       [3],\n",
              "       [3],\n",
              "       [2],\n",
              "       [1],\n",
              "       [1],\n",
              "       [2],\n",
              "       [3],\n",
              "       [2],\n",
              "       [2],\n",
              "       [2],\n",
              "       [2],\n",
              "       [1],\n",
              "       [3],\n",
              "       [2],\n",
              "       [2],\n",
              "       [2],\n",
              "       [2],\n",
              "       [1],\n",
              "       [2],\n",
              "       [1],\n",
              "       [3],\n",
              "       [1],\n",
              "       [2],\n",
              "       [1],\n",
              "       [3],\n",
              "       [1],\n",
              "       [4],\n",
              "       [3],\n",
              "       [2],\n",
              "       [2],\n",
              "       [2],\n",
              "       [2],\n",
              "       [1],\n",
              "       [2],\n",
              "       [1],\n",
              "       [2],\n",
              "       [2],\n",
              "       [1],\n",
              "       [2],\n",
              "       [2],\n",
              "       [2],\n",
              "       [2],\n",
              "       [2],\n",
              "       [4],\n",
              "       [2],\n",
              "       [1],\n",
              "       [1],\n",
              "       [1],\n",
              "       [2],\n",
              "       [1],\n",
              "       [1],\n",
              "       [2],\n",
              "       [2],\n",
              "       [4],\n",
              "       [2],\n",
              "       [1],\n",
              "       [2],\n",
              "       [2],\n",
              "       [4],\n",
              "       [2],\n",
              "       [2],\n",
              "       [1],\n",
              "       [2],\n",
              "       [1],\n",
              "       [4],\n",
              "       [1],\n",
              "       [3],\n",
              "       [3],\n",
              "       [2],\n",
              "       [2],\n",
              "       [2],\n",
              "       [2],\n",
              "       [4],\n",
              "       [1],\n",
              "       [2],\n",
              "       [2],\n",
              "       [1],\n",
              "       [4],\n",
              "       [2],\n",
              "       [1],\n",
              "       [1],\n",
              "       [2],\n",
              "       [1],\n",
              "       [2],\n",
              "       [4],\n",
              "       [2],\n",
              "       [1],\n",
              "       [3],\n",
              "       [2],\n",
              "       [1],\n",
              "       [2],\n",
              "       [2],\n",
              "       [2],\n",
              "       [3],\n",
              "       [3],\n",
              "       [3],\n",
              "       [1],\n",
              "       [2],\n",
              "       [1],\n",
              "       [2],\n",
              "       [2],\n",
              "       [2],\n",
              "       [2],\n",
              "       [3],\n",
              "       [2],\n",
              "       [3],\n",
              "       [1],\n",
              "       [3],\n",
              "       [2],\n",
              "       [2],\n",
              "       [1],\n",
              "       [1],\n",
              "       [2],\n",
              "       [2],\n",
              "       [1],\n",
              "       [2],\n",
              "       [1],\n",
              "       [2],\n",
              "       [1],\n",
              "       [1],\n",
              "       [2],\n",
              "       [1],\n",
              "       [3],\n",
              "       [2],\n",
              "       [2],\n",
              "       [4],\n",
              "       [1],\n",
              "       [4],\n",
              "       [1],\n",
              "       [2],\n",
              "       [2],\n",
              "       [3],\n",
              "       [2],\n",
              "       [2],\n",
              "       [1],\n",
              "       [2],\n",
              "       [2],\n",
              "       [1],\n",
              "       [1],\n",
              "       [2],\n",
              "       [2],\n",
              "       [2],\n",
              "       [2],\n",
              "       [2],\n",
              "       [3],\n",
              "       [1],\n",
              "       [1],\n",
              "       [2],\n",
              "       [2],\n",
              "       [2],\n",
              "       [4],\n",
              "       [1],\n",
              "       [3],\n",
              "       [2],\n",
              "       [3],\n",
              "       [3],\n",
              "       [2],\n",
              "       [1],\n",
              "       [2],\n",
              "       [2],\n",
              "       [1],\n",
              "       [4],\n",
              "       [2],\n",
              "       [2],\n",
              "       [2],\n",
              "       [2],\n",
              "       [2],\n",
              "       [2],\n",
              "       [3],\n",
              "       [1],\n",
              "       [3],\n",
              "       [2],\n",
              "       [3],\n",
              "       [1],\n",
              "       [2],\n",
              "       [2],\n",
              "       [3],\n",
              "       [3],\n",
              "       [1],\n",
              "       [3],\n",
              "       [2],\n",
              "       [2],\n",
              "       [3],\n",
              "       [2],\n",
              "       [2],\n",
              "       [3],\n",
              "       [2],\n",
              "       [1],\n",
              "       [1],\n",
              "       [1],\n",
              "       [2],\n",
              "       [2],\n",
              "       [1],\n",
              "       [2],\n",
              "       [4],\n",
              "       [3],\n",
              "       [3],\n",
              "       [2],\n",
              "       [1],\n",
              "       [1],\n",
              "       [2],\n",
              "       [2],\n",
              "       [3],\n",
              "       [1],\n",
              "       [3],\n",
              "       [1],\n",
              "       [1],\n",
              "       [3],\n",
              "       [1],\n",
              "       [2],\n",
              "       [2],\n",
              "       [2],\n",
              "       [1],\n",
              "       [3],\n",
              "       [2],\n",
              "       [3],\n",
              "       [2],\n",
              "       [1],\n",
              "       [2],\n",
              "       [3],\n",
              "       [4],\n",
              "       [1],\n",
              "       [2],\n",
              "       [1],\n",
              "       [2],\n",
              "       [1],\n",
              "       [3],\n",
              "       [1],\n",
              "       [2],\n",
              "       [2],\n",
              "       [1],\n",
              "       [2],\n",
              "       [3],\n",
              "       [2],\n",
              "       [3],\n",
              "       [2],\n",
              "       [1],\n",
              "       [4],\n",
              "       [3],\n",
              "       [2],\n",
              "       [4],\n",
              "       [2],\n",
              "       [1],\n",
              "       [3],\n",
              "       [1],\n",
              "       [3],\n",
              "       [3],\n",
              "       [2],\n",
              "       [2],\n",
              "       [3],\n",
              "       [2],\n",
              "       [2],\n",
              "       [3],\n",
              "       [2],\n",
              "       [1],\n",
              "       [4],\n",
              "       [2],\n",
              "       [2],\n",
              "       [2],\n",
              "       [2],\n",
              "       [2],\n",
              "       [2],\n",
              "       [1],\n",
              "       [4],\n",
              "       [3],\n",
              "       [2],\n",
              "       [1]])"
            ]
          },
          "metadata": {},
          "execution_count": 16
        }
      ]
    },
    {
      "cell_type": "code",
      "source": [],
      "metadata": {
        "id": "QY7ljTfhrreP"
      },
      "execution_count": null,
      "outputs": []
    },
    {
      "cell_type": "markdown",
      "source": [
        "### 딥러닝 모델링(모델 구조 설계)\n"
      ],
      "metadata": {
        "id": "r3wFwa6rrrio"
      }
    },
    {
      "cell_type": "code",
      "source": [
        "# 딥러닝 모델 도구 불러오기\n",
        "# 텐서플로우 안에있는 keras\n",
        "from tensorflow.keras.models import Sequential # 모델의 뼈대\n",
        "# 신경망의 구성요소(하나씩 조립)\n",
        "from tensorflow.keras.layers import InputLayer, Dense, Activation\n",
        "# InputLayer : 입력\n",
        "# Dense : 밀집도\n",
        "# Activation : 활성화 함수(인간을 모방하기 위해서 사용하는 함수)\n"
      ],
      "metadata": {
        "id": "-W87kLMprrnV"
      },
      "execution_count": null,
      "outputs": []
    },
    {
      "cell_type": "markdown",
      "source": [
        "### 딥러닝모델 설계 순서\n",
        "1. 신경망 구조 설계\n",
        "2. 신경망 학습 및 평가 방법 설정\n",
        "3. 학습\n",
        "4. 예측 및 평가"
      ],
      "metadata": {
        "id": "Q1mxl8y1s2f1"
      }
    },
    {
      "cell_type": "code",
      "source": [
        "# 1. 신경망 구조 설계\n",
        "#  뼈대 생성\n",
        "model = Sequential()\n",
        "# 입력층\n",
        "model.add(InputLayer(input_shape=(1,))) #입력특성의 개수를 작성(studytime 1개)\n",
        "# 중간층(은닉층)\n",
        "model.add(Dense(units = 10)) #뉴런 10개를 연결 -> 학습능력을 결정\n",
        "model.add(Activation('sigmoid')) #활성화 함수\n",
        "# 출력층\n",
        "model.add(Dense(units = 1)) # 예측할 데이터의 형태 (성적데이터 1개)\n"
      ],
      "metadata": {
        "id": "Lei7Z-fSs27v"
      },
      "execution_count": null,
      "outputs": []
    },
    {
      "cell_type": "code",
      "source": [
        "# 2. 학습 및 평가 방법 설정\n",
        "# 딥러닝 모델은 학습법과 평가법을 지정해주어야 한다.\n",
        "model.compile(loss='mean_squared_error', # 모델의 잘못된 정도(오차) 측정 알고리즘\n",
        "              optimizer = 'SGD', # 모델의 w,b 값을 최적화하는 알고리즘\n",
        "              metrics = ['mse'])"
      ],
      "metadata": {
        "id": "1LrRRgXCs3CX"
      },
      "execution_count": null,
      "outputs": []
    },
    {
      "cell_type": "code",
      "source": [
        "# 3. 모델학습\n",
        "h1 = model.fit(X_train, y_train, validation_split=0.2, # 교차검증을 위한 데이터 남겨두기\n",
        "          epochs = 20) #모델의 최적화(업데이트 횟수, 반복횟수)"
      ],
      "metadata": {
        "colab": {
          "base_uri": "https://localhost:8080/"
        },
        "id": "jIHZwJUIs3Ha",
        "outputId": "f30f2ae8-34ce-4fa0-e7ce-7c3239386964"
      },
      "execution_count": null,
      "outputs": [
        {
          "output_type": "stream",
          "name": "stdout",
          "text": [
            "Epoch 1/20\n",
            "8/8 [==============================] - 1s 24ms/step - loss: 83.0944 - mse: 83.0944 - val_loss: 45.1817 - val_mse: 45.1817\n",
            "Epoch 2/20\n",
            "8/8 [==============================] - 0s 5ms/step - loss: 30.8509 - mse: 30.8509 - val_loss: 25.0060 - val_mse: 25.0060\n",
            "Epoch 3/20\n",
            "8/8 [==============================] - 0s 5ms/step - loss: 20.6815 - mse: 20.6815 - val_loss: 22.8992 - val_mse: 22.8992\n",
            "Epoch 4/20\n",
            "8/8 [==============================] - 0s 7ms/step - loss: 19.5587 - mse: 19.5587 - val_loss: 22.7008 - val_mse: 22.7008\n",
            "Epoch 5/20\n",
            "8/8 [==============================] - 0s 4ms/step - loss: 19.4154 - mse: 19.4154 - val_loss: 22.6814 - val_mse: 22.6814\n",
            "Epoch 6/20\n",
            "8/8 [==============================] - 0s 5ms/step - loss: 19.3911 - mse: 19.3911 - val_loss: 22.6973 - val_mse: 22.6973\n",
            "Epoch 7/20\n",
            "8/8 [==============================] - 0s 4ms/step - loss: 19.4860 - mse: 19.4860 - val_loss: 22.7239 - val_mse: 22.7239\n",
            "Epoch 8/20\n",
            "8/8 [==============================] - 0s 4ms/step - loss: 19.3848 - mse: 19.3848 - val_loss: 22.6957 - val_mse: 22.6957\n",
            "Epoch 9/20\n",
            "8/8 [==============================] - 0s 4ms/step - loss: 19.3816 - mse: 19.3816 - val_loss: 22.7150 - val_mse: 22.7150\n",
            "Epoch 10/20\n",
            "8/8 [==============================] - 0s 4ms/step - loss: 19.3882 - mse: 19.3882 - val_loss: 22.7195 - val_mse: 22.7195\n",
            "Epoch 11/20\n",
            "8/8 [==============================] - 0s 4ms/step - loss: 19.4172 - mse: 19.4172 - val_loss: 22.7393 - val_mse: 22.7393\n",
            "Epoch 12/20\n",
            "8/8 [==============================] - 0s 4ms/step - loss: 19.3765 - mse: 19.3765 - val_loss: 22.7253 - val_mse: 22.7253\n",
            "Epoch 13/20\n",
            "8/8 [==============================] - 0s 7ms/step - loss: 19.5014 - mse: 19.5014 - val_loss: 22.7573 - val_mse: 22.7573\n",
            "Epoch 14/20\n",
            "8/8 [==============================] - 0s 4ms/step - loss: 19.3895 - mse: 19.3895 - val_loss: 22.7844 - val_mse: 22.7844\n",
            "Epoch 15/20\n",
            "8/8 [==============================] - 0s 4ms/step - loss: 19.4594 - mse: 19.4594 - val_loss: 22.8117 - val_mse: 22.8117\n",
            "Epoch 16/20\n",
            "8/8 [==============================] - 0s 4ms/step - loss: 19.3908 - mse: 19.3908 - val_loss: 22.7491 - val_mse: 22.7491\n",
            "Epoch 17/20\n",
            "8/8 [==============================] - 0s 4ms/step - loss: 19.3891 - mse: 19.3891 - val_loss: 22.7248 - val_mse: 22.7248\n",
            "Epoch 18/20\n",
            "8/8 [==============================] - 0s 4ms/step - loss: 19.3973 - mse: 19.3973 - val_loss: 22.7273 - val_mse: 22.7273\n",
            "Epoch 19/20\n",
            "8/8 [==============================] - 0s 4ms/step - loss: 19.4621 - mse: 19.4621 - val_loss: 22.7403 - val_mse: 22.7403\n",
            "Epoch 20/20\n",
            "8/8 [==============================] - 0s 4ms/step - loss: 19.4045 - mse: 19.4045 - val_loss: 22.7464 - val_mse: 22.7464\n"
          ]
        }
      ]
    },
    {
      "cell_type": "code",
      "source": [
        "# 4. 모델 평가\n",
        "model.evaluate(X_test, y_test)"
      ],
      "metadata": {
        "colab": {
          "base_uri": "https://localhost:8080/"
        },
        "id": "3h6lratWs3MK",
        "outputId": "adb73920-a99d-4223-ba0f-1380e3fddffe"
      },
      "execution_count": null,
      "outputs": [
        {
          "output_type": "stream",
          "name": "stdout",
          "text": [
            "3/3 [==============================] - 0s 3ms/step - loss: 24.1228 - mse: 24.1228\n"
          ]
        },
        {
          "output_type": "execute_result",
          "data": {
            "text/plain": [
              "[24.122793197631836, 24.122793197631836]"
            ]
          },
          "metadata": {},
          "execution_count": 25
        }
      ]
    },
    {
      "cell_type": "code",
      "source": [
        "# 모델학습 로그 출력\n",
        "h1.history"
      ],
      "metadata": {
        "colab": {
          "base_uri": "https://localhost:8080/"
        },
        "id": "yxahzDxCs3QJ",
        "outputId": "93f70dc0-272a-473b-caf1-f2e44ef1232e"
      },
      "execution_count": null,
      "outputs": [
        {
          "output_type": "execute_result",
          "data": {
            "text/plain": [
              "{'loss': [83.09439849853516,\n",
              "  30.850902557373047,\n",
              "  20.681476593017578,\n",
              "  19.558717727661133,\n",
              "  19.415353775024414,\n",
              "  19.391090393066406,\n",
              "  19.486040115356445,\n",
              "  19.38483238220215,\n",
              "  19.381593704223633,\n",
              "  19.388216018676758,\n",
              "  19.417224884033203,\n",
              "  19.376466751098633,\n",
              "  19.501401901245117,\n",
              "  19.38947105407715,\n",
              "  19.459413528442383,\n",
              "  19.390790939331055,\n",
              "  19.38909339904785,\n",
              "  19.397300720214844,\n",
              "  19.462142944335938,\n",
              "  19.40447425842285],\n",
              " 'mse': [83.09439849853516,\n",
              "  30.850902557373047,\n",
              "  20.681476593017578,\n",
              "  19.558717727661133,\n",
              "  19.415353775024414,\n",
              "  19.391090393066406,\n",
              "  19.486040115356445,\n",
              "  19.38483238220215,\n",
              "  19.381593704223633,\n",
              "  19.388216018676758,\n",
              "  19.417224884033203,\n",
              "  19.376466751098633,\n",
              "  19.501401901245117,\n",
              "  19.38947105407715,\n",
              "  19.459413528442383,\n",
              "  19.390790939331055,\n",
              "  19.38909339904785,\n",
              "  19.397300720214844,\n",
              "  19.462142944335938,\n",
              "  19.40447425842285],\n",
              " 'val_loss': [45.181697845458984,\n",
              "  25.005979537963867,\n",
              "  22.899188995361328,\n",
              "  22.700767517089844,\n",
              "  22.681419372558594,\n",
              "  22.69732666015625,\n",
              "  22.723896026611328,\n",
              "  22.695667266845703,\n",
              "  22.714981079101562,\n",
              "  22.719470977783203,\n",
              "  22.73929786682129,\n",
              "  22.725326538085938,\n",
              "  22.757312774658203,\n",
              "  22.784393310546875,\n",
              "  22.811710357666016,\n",
              "  22.749095916748047,\n",
              "  22.7248477935791,\n",
              "  22.72732162475586,\n",
              "  22.740327835083008,\n",
              "  22.746429443359375],\n",
              " 'val_mse': [45.181697845458984,\n",
              "  25.005979537963867,\n",
              "  22.899188995361328,\n",
              "  22.700767517089844,\n",
              "  22.681419372558594,\n",
              "  22.69732666015625,\n",
              "  22.723896026611328,\n",
              "  22.695667266845703,\n",
              "  22.714981079101562,\n",
              "  22.719470977783203,\n",
              "  22.73929786682129,\n",
              "  22.725326538085938,\n",
              "  22.757312774658203,\n",
              "  22.784393310546875,\n",
              "  22.811710357666016,\n",
              "  22.749095916748047,\n",
              "  22.7248477935791,\n",
              "  22.72732162475586,\n",
              "  22.740327835083008,\n",
              "  22.746429443359375]}"
            ]
          },
          "metadata": {},
          "execution_count": 26
        }
      ]
    },
    {
      "cell_type": "code",
      "source": [
        "# 모델학습 시각화\n",
        "plt.figure(figsize=(10,5))\n",
        "plt.plot(h1.history['loss'], label = 'train_loss')\n",
        "plt.plot(h1.history['val_loss'], label='val_loss')\n",
        "plt.legend()\n",
        "plt.show()"
      ],
      "metadata": {
        "colab": {
          "base_uri": "https://localhost:8080/",
          "height": 445
        },
        "id": "dnHqTvkss3UQ",
        "outputId": "8ee0cad7-b358-43dd-c798-3cbaf250a41b"
      },
      "execution_count": null,
      "outputs": [
        {
          "output_type": "display_data",
          "data": {
            "text/plain": [
              "<Figure size 1000x500 with 1 Axes>"
            ],
            "image/png": "[encoded data removed]"
          },
          "metadata": {}
        }
      ]
    },
    {
      "cell_type": "markdown",
      "source": [
        "### 4개의 입력틀성을 골라 학습시켜보자!"
      ],
      "metadata": {
        "id": "BzSHU2Nns3Yq"
      }
    },
    {
      "cell_type": "code",
      "source": [
        "X=data[['studytime','freetime','traveltime','health']]\n",
        "y=data['G3']"
      ],
      "metadata": {
        "id": "3JlzRUPCs3cj"
      },
      "execution_count": null,
      "outputs": []
    },
    {
      "cell_type": "code",
      "source": [
        "# train, test 분리\n",
        "X_train, X_test, y_train, y_test = train_test_split(X,y,\n",
        "                                                    random_state=200,\n",
        "                                                    test_size=0.2)"
      ],
      "metadata": {
        "id": "_C7bb1QVs3g2"
      },
      "execution_count": null,
      "outputs": []
    },
    {
      "cell_type": "code",
      "source": [
        "# 크기확인\n",
        "X_train.shape, y_train.shape"
      ],
      "metadata": {
        "colab": {
          "base_uri": "https://localhost:8080/"
        },
        "id": "_hW5oonqs3lp",
        "outputId": "d88f905a-49e9-42e9-d181-db36f0164869"
      },
      "execution_count": null,
      "outputs": [
        {
          "output_type": "execute_result",
          "data": {
            "text/plain": [
              "((316, 4), (316,))"
            ]
          },
          "metadata": {},
          "execution_count": 60
        }
      ]
    },
    {
      "cell_type": "code",
      "source": [
        "X_test.shape, y_test.shape"
      ],
      "metadata": {
        "colab": {
          "base_uri": "https://localhost:8080/"
        },
        "id": "XV_30WUjs3qA",
        "outputId": "42f7bf48-6bb4-4446-fb46-74a30619e8f1"
      },
      "execution_count": null,
      "outputs": [
        {
          "output_type": "execute_result",
          "data": {
            "text/plain": [
              "((79, 4), (79,))"
            ]
          },
          "metadata": {},
          "execution_count": 61
        }
      ]
    },
    {
      "cell_type": "code",
      "source": [
        "# 1. 신경망 구조 설계\n",
        "# 뼈대\n",
        "model2 = Sequential()\n",
        "# 입력층 input_shape = 나의 특성수\n",
        "model.add(InputLayer(input_shape=(4,)))\n",
        "# 중간층\n",
        "model2.add(Dense(units=10))\n",
        "model2.add(Activation('sigmoid'))\n",
        "# 출력층\n",
        "model2.add(Dense(units=1))"
      ],
      "metadata": {
        "id": "Zr64pah5s3uX"
      },
      "execution_count": null,
      "outputs": []
    },
    {
      "cell_type": "code",
      "source": [
        "# 2. 학습방법과 평가방법 설정\n",
        "model2.compile(loss='mean_squared_error',\n",
        "               optimizer = 'SGD',\n",
        "               metrics=['mse'])"
      ],
      "metadata": {
        "id": "91UQyorYs3yx"
      },
      "execution_count": null,
      "outputs": []
    },
    {
      "cell_type": "code",
      "source": [
        "# 3. 학습\n",
        "h2 = model2.fit(X_train, y_train, validation_split=0.2, epochs=20)"
      ],
      "metadata": {
        "colab": {
          "base_uri": "https://localhost:8080/"
        },
        "id": "njPFDmFJs33P",
        "outputId": "14b627c2-1ae0-4def-ccce-aa2f7ebc8945"
      },
      "execution_count": null,
      "outputs": [
        {
          "output_type": "stream",
          "name": "stdout",
          "text": [
            "Epoch 1/20\n",
            "8/8 [==============================] - 0s 7ms/step - loss: 28.7662 - mse: 28.7662 - val_loss: 22.5355 - val_mse: 22.5355\n",
            "Epoch 2/20\n",
            "8/8 [==============================] - 0s 4ms/step - loss: 23.5965 - mse: 23.5965 - val_loss: 21.9151 - val_mse: 21.9151\n",
            "Epoch 3/20\n",
            "8/8 [==============================] - 0s 4ms/step - loss: 22.9053 - mse: 22.9053 - val_loss: 21.9688 - val_mse: 21.9688\n",
            "Epoch 4/20\n",
            "8/8 [==============================] - 0s 4ms/step - loss: 22.7902 - mse: 22.7902 - val_loss: 21.9493 - val_mse: 21.9493\n",
            "Epoch 5/20\n",
            "8/8 [==============================] - 0s 4ms/step - loss: 22.8012 - mse: 22.8012 - val_loss: 21.9720 - val_mse: 21.9720\n",
            "Epoch 6/20\n",
            "8/8 [==============================] - 0s 7ms/step - loss: 22.8008 - mse: 22.8008 - val_loss: 22.0775 - val_mse: 22.0775\n",
            "Epoch 7/20\n",
            "8/8 [==============================] - 0s 4ms/step - loss: 22.7392 - mse: 22.7392 - val_loss: 22.1380 - val_mse: 22.1380\n",
            "Epoch 8/20\n",
            "8/8 [==============================] - 0s 7ms/step - loss: 22.7565 - mse: 22.7565 - val_loss: 22.0132 - val_mse: 22.0132\n",
            "Epoch 9/20\n",
            "8/8 [==============================] - 0s 7ms/step - loss: 22.7206 - mse: 22.7206 - val_loss: 21.9666 - val_mse: 21.9666\n",
            "Epoch 10/20\n",
            "8/8 [==============================] - 0s 7ms/step - loss: 22.6737 - mse: 22.6737 - val_loss: 22.0073 - val_mse: 22.0073\n",
            "Epoch 11/20\n",
            "8/8 [==============================] - 0s 5ms/step - loss: 22.6047 - mse: 22.6047 - val_loss: 22.0150 - val_mse: 22.0150\n",
            "Epoch 12/20\n",
            "8/8 [==============================] - 0s 7ms/step - loss: 22.7117 - mse: 22.7117 - val_loss: 22.0548 - val_mse: 22.0548\n",
            "Epoch 13/20\n",
            "8/8 [==============================] - 0s 5ms/step - loss: 22.5758 - mse: 22.5758 - val_loss: 22.0922 - val_mse: 22.0922\n",
            "Epoch 14/20\n",
            "8/8 [==============================] - 0s 4ms/step - loss: 22.6090 - mse: 22.6090 - val_loss: 21.9701 - val_mse: 21.9701\n",
            "Epoch 15/20\n",
            "8/8 [==============================] - 0s 4ms/step - loss: 22.6144 - mse: 22.6144 - val_loss: 22.0211 - val_mse: 22.0211\n",
            "Epoch 16/20\n",
            "8/8 [==============================] - 0s 4ms/step - loss: 22.5810 - mse: 22.5810 - val_loss: 22.0371 - val_mse: 22.0371\n",
            "Epoch 17/20\n",
            "8/8 [==============================] - 0s 7ms/step - loss: 22.5615 - mse: 22.5615 - val_loss: 21.9783 - val_mse: 21.9783\n",
            "Epoch 18/20\n",
            "8/8 [==============================] - 0s 4ms/step - loss: 22.6205 - mse: 22.6205 - val_loss: 21.9829 - val_mse: 21.9829\n",
            "Epoch 19/20\n",
            "8/8 [==============================] - 0s 4ms/step - loss: 22.5197 - mse: 22.5197 - val_loss: 21.9625 - val_mse: 21.9625\n",
            "Epoch 20/20\n",
            "8/8 [==============================] - 0s 4ms/step - loss: 22.5400 - mse: 22.5400 - val_loss: 22.0132 - val_mse: 22.0132\n"
          ]
        }
      ]
    },
    {
      "cell_type": "code",
      "source": [
        "# 4. 예측 및 평가\n",
        "model2.evaluate(X_test, y_test)"
      ],
      "metadata": {
        "colab": {
          "base_uri": "https://localhost:8080/"
        },
        "id": "ai1xs2GLs38S",
        "outputId": "1e610fd6-34d9-42e6-cfee-c84352f7d1b1"
      },
      "execution_count": null,
      "outputs": [
        {
          "output_type": "stream",
          "name": "stdout",
          "text": [
            "3/3 [==============================] - 0s 3ms/step - loss: 15.2502 - mse: 15.2502\n"
          ]
        },
        {
          "output_type": "execute_result",
          "data": {
            "text/plain": [
              "[15.25020694732666, 15.25020694732666]"
            ]
          },
          "metadata": {},
          "execution_count": 56
        }
      ]
    },
    {
      "cell_type": "code",
      "source": [
        "# 모델학습 시각화\n",
        "plt.figure(figsize=(10,5))\n",
        "plt.plot(h2.history['loss'], label = 'train_loss')\n",
        "plt.plot(h2.history['val_loss'], label='val_loss')\n",
        "plt.legend()\n",
        "plt.show()"
      ],
      "metadata": {
        "colab": {
          "base_uri": "https://localhost:8080/",
          "height": 445
        },
        "id": "NSKyKce5s4BG",
        "outputId": "61d89add-a47a-4276-e006-90c543ff4975"
      },
      "execution_count": null,
      "outputs": [
        {
          "output_type": "display_data",
          "data": {
            "text/plain": [
              "<Figure size 1000x500 with 1 Axes>"
            ],
            "image/png": "[encoded data removed]"
          },
          "metadata": {}
        }
      ]
    },
    {
      "cell_type": "code",
      "source": [],
      "metadata": {
        "id": "KA2AiTios4E_"
      },
      "execution_count": null,
      "outputs": []
    },
    {
      "cell_type": "markdown",
      "source": [],
      "metadata": {
        "id": "PJdY207LgU0s"
      }
    }
  ]
}