{
  "nbformat": 4,
  "nbformat_minor": 0,
  "metadata": {
    "colab": {
      "provenance": [],
      "gpuType": "T4",
      "mount_file_id": "1bBq5LeDqRsG1-v2Jp12N8jMofsK4kWT-",
      "authorship_tag": "ABX9TyOdr4njKnM/lDtDIGn6fwa5",
      "include_colab_link": true
    },
    "kernelspec": {
      "name": "python3",
      "display_name": "Python 3"
    },
    "language_info": {
      "name": "python"
    },
    "accelerator": "GPU"
  },
  "cells": [
    {
      "cell_type": "markdown",
      "metadata": {
        "id": "view-in-github",
        "colab_type": "text"
      },
      "source": [
        "<a href=\"https://colab.research.google.com/github/BB-3022/DeepLearning/blob/main/ex04_%EA%B0%9C_%EA%B3%A0%EC%96%91%EC%9D%B4_%EB%B6%84%EB%A5%98%ED%95%98%EA%B8%B0.ipynb\" target=\"_parent\"><img src=\"https://colab.research.google.com/assets/colab-badge.svg\" alt=\"Open In Colab\"/></a>"
      ]
    },
    {
      "cell_type": "code",
      "execution_count": 1,
      "metadata": {
        "id": "yXdf0g3Z0F2_"
      },
      "outputs": [],
      "source": [
        "#/content/drive/MyDrive/Colab Notebooks/DeepLearning/dogs_vs_cats_small\n",
        "# 데이터 경로지정\n",
        "train_dir = '/content/drive/MyDrive/Colab Notebooks/DeepLearning/dogs_vs_cats_small/train'\n",
        "valid_dir = '/content/drive/MyDrive/Colab Notebooks/DeepLearning/dogs_vs_cats_small/validation'"
      ]
    },
    {
      "cell_type": "code",
      "source": [
        "import os\n",
        "\n",
        "train_dir_dog = os.path.join(train_dir, \"dogs\")\n",
        "train_dir_cat = os.path.join(train_dir, \"cats\")\n",
        "valid_dir_dog = os.path.join(valid_dir, \"dogs\")\n",
        "valid_dir_cat = os.path.join(valid_dir, \"cats\")"
      ],
      "metadata": {
        "id": "FqBrxK7NJ2ly"
      },
      "execution_count": 2,
      "outputs": []
    },
    {
      "cell_type": "code",
      "source": [
        "print(f\"훈련데이터 개수 (개) : {len(os.listdir(train_dir_dog))}\")\n",
        "print(f\"훈련데이터 개수 (고양이) : {len(os.listdir(train_dir_cat))}\")\n",
        "print(f\"훈련데이터 개수 (개) : {len(os.listdir(valid_dir_dog))}\")\n",
        "print(f\"훈련데이터 개수 (고양이) : {len(os.listdir(valid_dir_cat))}\")"
      ],
      "metadata": {
        "colab": {
          "base_uri": "https://localhost:8080/"
        },
        "id": "GafIVFU8J2w7",
        "outputId": "714ca56a-f70a-48eb-b7b7-77d9fb92fdf2"
      },
      "execution_count": 3,
      "outputs": [
        {
          "output_type": "stream",
          "name": "stdout",
          "text": [
            "훈련데이터 개수 (개) : 1000\n",
            "훈련데이터 개수 (고양이) : 1000\n",
            "훈련데이터 개수 (개) : 500\n",
            "훈련데이터 개수 (고양이) : 500\n"
          ]
        }
      ]
    },
    {
      "cell_type": "code",
      "source": [
        "from google.colab import drive\n",
        "drive.mount('/content/drive')"
      ],
      "metadata": {
        "colab": {
          "base_uri": "https://localhost:8080/"
        },
        "id": "JVLDURiTB_1i",
        "outputId": "4f6db41d-c963-42d1-a0bd-ca414f05ec6e"
      },
      "execution_count": null,
      "outputs": [
        {
          "output_type": "stream",
          "name": "stdout",
          "text": [
            "Drive already mounted at /content/drive; to attempt to forcibly remount, call drive.mount(\"/content/drive\", force_remount=True).\n"
          ]
        }
      ]
    },
    {
      "cell_type": "code",
      "source": [
        "# 하나의 변수에 이미지 파일 전부 합치기\n",
        "# 1. 픽셀값(0~255/정수) > (0~1/실수)\n",
        "# [ 픽셀값 변경이유 ]\n",
        "#  - 숫자 크기 줄이기, 값 자체가 크면 연상량이 많아서 컴퓨터의 자원소모가 크다.\n",
        "#  - 분산(값이 분포해 있는 범위) 줄이기 : 연산의 오류가 줄어든다.\n",
        "# 2. 이미지 크기 맞춰주기(150,150)\n",
        "# 3. 라벨링\n",
        "from tensorflow.keras.preprocessing.image import ImageDataGenerator"
      ],
      "metadata": {
        "id": "nf6cL8A476b6"
      },
      "execution_count": null,
      "outputs": []
    },
    {
      "cell_type": "code",
      "source": [
        "# 1. 픽셀값 변경\n",
        "# 묵시적 형변환\n",
        "## 프로그래밍에서 연산상에서 타입이 변경되도록 하기\n",
        "generator = ImageDataGenerator(rescale = 1./255) # 1. = 1.0"
      ],
      "metadata": {
        "id": "rAEbodY79OQ1"
      },
      "execution_count": null,
      "outputs": []
    },
    {
      "cell_type": "code",
      "source": [
        "# 하나의 변수에 이미지 파일 전부다 합치기\n",
        "# 이미지 크기 동일하게 만들어주기\n",
        "# 라벨링\n",
        "train_generator = generator.flow_from_directory(\n",
        "    directory = train_dir, #train 이미지 경로\n",
        "    target_size=(150,150), # 변환할 이미지 크기\n",
        "    batch_size=100, #한번에 변환할 이미지 개수\n",
        "    class_mode='binary' #라벨링 방법(이진분류-binary, 다중분류-categorical)\n",
        ")\n"
      ],
      "metadata": {
        "colab": {
          "base_uri": "https://localhost:8080/"
        },
        "id": "Yu0qZf109OXb",
        "outputId": "5916a7ca-8c5a-44ca-f1bc-8246f635a3ec"
      },
      "execution_count": null,
      "outputs": [
        {
          "output_type": "stream",
          "name": "stdout",
          "text": [
            "Found 2000 images belonging to 2 classes.\n"
          ]
        }
      ]
    },
    {
      "cell_type": "code",
      "source": [
        "valid_generator = generator.flow_from_directory(\n",
        "    directory = valid_dir, #train 이미지 경로\n",
        "    target_size=(150,150), # 변환할 이미지 크기\n",
        "    batch_size=100, #한번에 변환할 이미지 개수\n",
        "    class_mode='binary' #라벨링 방법(이진분류-binary, 다중분류-categorical)\n",
        ")"
      ],
      "metadata": {
        "colab": {
          "base_uri": "https://localhost:8080/"
        },
        "id": "CEAKYOGV9OcN",
        "outputId": "21b7c204-2daf-46a6-c343-ddb8cb9a1a39"
      },
      "execution_count": null,
      "outputs": [
        {
          "output_type": "stream",
          "name": "stdout",
          "text": [
            "Found 1000 images belonging to 2 classes.\n"
          ]
        }
      ]
    },
    {
      "cell_type": "code",
      "source": [
        "# CNN 모델 설계\n",
        "from tensorflow.keras import Sequential\n",
        "from tensorflow.keras.layers import Dense, Conv2D, MaxPool2D, Flatten"
      ],
      "metadata": {
        "id": "5L-cyMR09Ogk"
      },
      "execution_count": null,
      "outputs": []
    },
    {
      "cell_type": "code",
      "source": [
        "# 딥러닝 모델 생성\n",
        "# 건물 토대 설계\n",
        "model1 = Sequential()\n",
        "\n",
        "# 입력층\n",
        "model1.add(Conv2D(#특징 찾기\n",
        "    filters = 32, #찾을 특징의 갯수\n",
        "    kernel_size = (3,3), #특징의 크기\n",
        "    input_shape = (150,150,3), # 입력 데이터의 모양(3=RGB) # 0:검은색, 255:흰색 / 입력층 첫번째에만 작성\n",
        "    activation = 'relu' #출력층\n",
        "))\n",
        "\n",
        "model1.add(MaxPool2D( # 특징이 아닌부분 삭제하기\n",
        "    pool_size = (2,2) # 기준 크기에서 1개의 특징만 가져오기 / 4개중에 한개 사용하기\n",
        "\n",
        "))\n",
        "\n",
        "# 입력층\n",
        "model1.add(Conv2D(#특징 찾기\n",
        "    filters = 32, #찾을 특징의 갯수\n",
        "    kernel_size = (3,3), #특징의 크기\n",
        "    activation = 'relu' #출력층\n",
        "))\n",
        "\n",
        "model1.add(MaxPool2D( # 특징이 아닌부분 삭제하기\n",
        "    pool_size = (2,2) # 기준 크기에서 1개의 특징만 가져오기 / 4개중에 한개 사용하기\n",
        "\n",
        "))\n",
        "\n",
        "#################특징 추출 부 끝 #####################\n",
        "model1.add(Flatten()) # 특징추출부와 분류부를 이어주는 역할\n",
        "##################분류 분석 시작 ################\n",
        "model1.add(Dense(units = 32, activation='relu')) #출력층이 아닌 activation 에는 relu를 적어주면 작동한다.\n",
        "\n",
        "\n",
        "# 출력층\n",
        "model1.add(Dense(units=1, activation='sigmoid'))\n",
        "# 0~1의 값을 이진분류에 사용\n",
        "# 0.5를 기준으로 0.5 보다 작으면 0, 0.5 보다 크면 1로 인식한다.\n"
      ],
      "metadata": {
        "id": "atMY5oeO9OlW"
      },
      "execution_count": null,
      "outputs": []
    },
    {
      "cell_type": "code",
      "source": [
        "# 학습 방법 설정\n",
        "model1.compile(\n",
        "    loss = 'binary_crossentropy',\n",
        "    optimizer = 'Adam',\n",
        "    metrics = ['accuracy']\n",
        ")"
      ],
      "metadata": {
        "id": "fD7OMyqW9OqF"
      },
      "execution_count": null,
      "outputs": []
    },
    {
      "cell_type": "code",
      "source": [
        "model1.fit(\n",
        "    train_generator, #학습데이터(X_train, y_train 합쳐져 있다.)\n",
        "    epochs = 20,\n",
        "    validation_data = valid_generator\n",
        "\n",
        ")"
      ],
      "metadata": {
        "colab": {
          "base_uri": "https://localhost:8080/"
        },
        "id": "XTSPDaeT9Ouu",
        "outputId": "1b7d7de5-37ed-4e45-8dc4-f72b1e55deb2"
      },
      "execution_count": null,
      "outputs": [
        {
          "output_type": "stream",
          "name": "stdout",
          "text": [
            "Epoch 1/20\n",
            "20/20 [==============================] - 633s 32s/step - loss: 0.8306 - accuracy: 0.5015 - val_loss: 0.6915 - val_accuracy: 0.5090\n",
            "Epoch 2/20\n",
            "20/20 [==============================] - 11s 583ms/step - loss: 0.6844 - accuracy: 0.5535 - val_loss: 0.6710 - val_accuracy: 0.5990\n",
            "Epoch 3/20\n",
            "20/20 [==============================] - 9s 453ms/step - loss: 0.6500 - accuracy: 0.6290 - val_loss: 0.6917 - val_accuracy: 0.5610\n",
            "Epoch 4/20\n",
            "20/20 [==============================] - 11s 559ms/step - loss: 0.6264 - accuracy: 0.6380 - val_loss: 0.6540 - val_accuracy: 0.5930\n",
            "Epoch 5/20\n",
            "20/20 [==============================] - 8s 420ms/step - loss: 0.5613 - accuracy: 0.7140 - val_loss: 0.6054 - val_accuracy: 0.6630\n",
            "Epoch 6/20\n",
            "20/20 [==============================] - 9s 463ms/step - loss: 0.4845 - accuracy: 0.7885 - val_loss: 0.6004 - val_accuracy: 0.6850\n",
            "Epoch 7/20\n",
            "20/20 [==============================] - 9s 446ms/step - loss: 0.4251 - accuracy: 0.8090 - val_loss: 0.6422 - val_accuracy: 0.6580\n",
            "Epoch 8/20\n",
            "20/20 [==============================] - 9s 433ms/step - loss: 0.3667 - accuracy: 0.8400 - val_loss: 0.6284 - val_accuracy: 0.6870\n",
            "Epoch 9/20\n",
            "20/20 [==============================] - 9s 473ms/step - loss: 0.3016 - accuracy: 0.8835 - val_loss: 0.6415 - val_accuracy: 0.6950\n",
            "Epoch 10/20\n",
            "20/20 [==============================] - 11s 549ms/step - loss: 0.2631 - accuracy: 0.8995 - val_loss: 0.6993 - val_accuracy: 0.6710\n",
            "Epoch 11/20\n",
            "20/20 [==============================] - 8s 416ms/step - loss: 0.2275 - accuracy: 0.9235 - val_loss: 0.7400 - val_accuracy: 0.6920\n",
            "Epoch 12/20\n",
            "20/20 [==============================] - 9s 460ms/step - loss: 0.1821 - accuracy: 0.9420 - val_loss: 0.7469 - val_accuracy: 0.6930\n",
            "Epoch 13/20\n",
            "20/20 [==============================] - 9s 452ms/step - loss: 0.1411 - accuracy: 0.9615 - val_loss: 0.8419 - val_accuracy: 0.6900\n",
            "Epoch 14/20\n",
            "20/20 [==============================] - 8s 422ms/step - loss: 0.1084 - accuracy: 0.9710 - val_loss: 0.8890 - val_accuracy: 0.6980\n",
            "Epoch 15/20\n",
            "20/20 [==============================] - 9s 454ms/step - loss: 0.0768 - accuracy: 0.9860 - val_loss: 0.9758 - val_accuracy: 0.6960\n",
            "Epoch 16/20\n",
            "20/20 [==============================] - 9s 454ms/step - loss: 0.0569 - accuracy: 0.9905 - val_loss: 0.9990 - val_accuracy: 0.6890\n",
            "Epoch 17/20\n",
            "20/20 [==============================] - 11s 541ms/step - loss: 0.0413 - accuracy: 0.9950 - val_loss: 1.0909 - val_accuracy: 0.6970\n",
            "Epoch 18/20\n",
            "20/20 [==============================] - 8s 422ms/step - loss: 0.0338 - accuracy: 0.9960 - val_loss: 1.1456 - val_accuracy: 0.7000\n",
            "Epoch 19/20\n",
            "20/20 [==============================] - 8s 425ms/step - loss: 0.0256 - accuracy: 0.9990 - val_loss: 1.1531 - val_accuracy: 0.6990\n",
            "Epoch 20/20\n",
            "20/20 [==============================] - 9s 446ms/step - loss: 0.0183 - accuracy: 0.9995 - val_loss: 1.2265 - val_accuracy: 0.6980\n"
          ]
        },
        {
          "output_type": "execute_result",
          "data": {
            "text/plain": [
              "<keras.src.callbacks.History at 0x7fe35c0a6a40>"
            ]
          },
          "metadata": {},
          "execution_count": 10
        }
      ]
    },
    {
      "cell_type": "code",
      "source": [
        "import PIL.Image as pimg\n",
        "import cv2\n",
        "# 이미지 불러오기\n",
        "pre_img = cv2.imread('/content/dog.jpg' ,cv2.IMREAD_COLOR)\n",
        "# 이미지 색상 변경하기\n",
        "pre_img = cv2.cvtColor(pre_img, cv2.COLOR_BGR2RGB)\n",
        "# 이미지 크기 변경하기\n",
        "pre_img = cv2.resize(pre_img,(150,150))\n",
        "# 이미지 차원 변경하기\n",
        "pre_img = pre_img.reshape((1,150,150,3))"
      ],
      "metadata": {
        "id": "bwQ6wOEi9OzO",
        "colab": {
          "base_uri": "https://localhost:8080/",
          "height": 256
        },
        "outputId": "4f84930f-46b6-4eac-dc94-63d96ee02d97"
      },
      "execution_count": null,
      "outputs": [
        {
          "output_type": "error",
          "ename": "error",
          "evalue": "ignored",
          "traceback": [
            "\u001b[0;31m---------------------------------------------------------------------------\u001b[0m",
            "\u001b[0;31merror\u001b[0m                                     Traceback (most recent call last)",
            "\u001b[0;32m<ipython-input-11-e89fff85b05f>\u001b[0m in \u001b[0;36m<cell line: 6>\u001b[0;34m()\u001b[0m\n\u001b[1;32m      4\u001b[0m \u001b[0mpre_img\u001b[0m \u001b[0;34m=\u001b[0m \u001b[0mcv2\u001b[0m\u001b[0;34m.\u001b[0m\u001b[0mimread\u001b[0m\u001b[0;34m(\u001b[0m\u001b[0;34m'/content/dog.jpg'\u001b[0m \u001b[0;34m,\u001b[0m\u001b[0mcv2\u001b[0m\u001b[0;34m.\u001b[0m\u001b[0mIMREAD_COLOR\u001b[0m\u001b[0;34m)\u001b[0m\u001b[0;34m\u001b[0m\u001b[0;34m\u001b[0m\u001b[0m\n\u001b[1;32m      5\u001b[0m \u001b[0;31m# 이미지 색상 변경하기\u001b[0m\u001b[0;34m\u001b[0m\u001b[0;34m\u001b[0m\u001b[0m\n\u001b[0;32m----> 6\u001b[0;31m \u001b[0mpre_img\u001b[0m \u001b[0;34m=\u001b[0m \u001b[0mcv2\u001b[0m\u001b[0;34m.\u001b[0m\u001b[0mcvtColor\u001b[0m\u001b[0;34m(\u001b[0m\u001b[0mpre_img\u001b[0m\u001b[0;34m,\u001b[0m \u001b[0mcv2\u001b[0m\u001b[0;34m.\u001b[0m\u001b[0mCOLOR_BGR2RGB\u001b[0m\u001b[0;34m)\u001b[0m\u001b[0;34m\u001b[0m\u001b[0;34m\u001b[0m\u001b[0m\n\u001b[0m\u001b[1;32m      7\u001b[0m \u001b[0;31m# 이미지 크기 변경하기\u001b[0m\u001b[0;34m\u001b[0m\u001b[0;34m\u001b[0m\u001b[0m\n\u001b[1;32m      8\u001b[0m \u001b[0mpre_img\u001b[0m \u001b[0;34m=\u001b[0m \u001b[0mcv2\u001b[0m\u001b[0;34m.\u001b[0m\u001b[0mresize\u001b[0m\u001b[0;34m(\u001b[0m\u001b[0mpre_img\u001b[0m\u001b[0;34m,\u001b[0m\u001b[0;34m(\u001b[0m\u001b[0;36m150\u001b[0m\u001b[0;34m,\u001b[0m\u001b[0;36m150\u001b[0m\u001b[0;34m)\u001b[0m\u001b[0;34m)\u001b[0m\u001b[0;34m\u001b[0m\u001b[0;34m\u001b[0m\u001b[0m\n",
            "\u001b[0;31merror\u001b[0m: OpenCV(4.8.0) /io/opencv/modules/imgproc/src/color.cpp:182: error: (-215:Assertion failed) !_src.empty() in function 'cvtColor'\n"
          ]
        }
      ]
    },
    {
      "cell_type": "code",
      "source": [
        "# 0 = cat\n",
        "# 1 = dog\n",
        "# 대다수의 사람이 'dog' 라는 결과를 얻는다.\n",
        "# 모델이 학습이 덜 되서 개의 규칙은 잘 찾았지만, 고양이의 규칙은 찾지 못했기 때문이다.\n",
        "model1.predict(pre_img)"
      ],
      "metadata": {
        "id": "JoXS1d579O4P"
      },
      "execution_count": null,
      "outputs": []
    },
    {
      "cell_type": "code",
      "source": [
        "# 부동소수점 :소수점의 위치가 변하지 않는다.\n",
        "# 1.7243704e-35 = 7243704 * 10^(-35) 0에 가까운 숫자이다."
      ],
      "metadata": {
        "id": "cgJZiUrQ9O88"
      },
      "execution_count": null,
      "outputs": []
    },
    {
      "cell_type": "code",
      "source": [
        "# train accuracy : 1.0\n",
        "# val accruracy : 0.701\n",
        "# train 은 학습이 잘 되었고, val은 학습이 잘 되지 않았다. => 과대적합에 걸렸다.\n",
        "\n",
        "# 과대적합을 해소하는 방법\n",
        "# 1. 데이터의 양을 늘린다.( 추가적으로 데이터를 수집)\n",
        "# 2. 모델을 더 깊게 구성한다.(층을 더 많이 쌓는다)\n",
        "# 3. 데이터를 확장한다. (가지고 있는 데이터를 다양하게 표현)"
      ],
      "metadata": {
        "id": "W8o9K6Pa9PBU"
      },
      "execution_count": null,
      "outputs": []
    },
    {
      "cell_type": "code",
      "source": [
        "# 데이터 확장을 하고 새롭게 학습한다.\n",
        "# 데이터를 확장하면 원본 데이터는 사라진다.\n",
        "# 모델 설계 > 확장 안된 이미지로 학습 > 결과 확인 > 만족스럽지 않다 > 데이터 확장 후 학습(재 학습은 기존의 모델을 사용)"
      ],
      "metadata": {
        "id": "D4tc7Wj59PGt"
      },
      "execution_count": null,
      "outputs": []
    },
    {
      "cell_type": "code",
      "source": [
        "# 기존 모델에 확장 데이터로 학습하기\n",
        "\n",
        "# 확장 방법 설정\n",
        "aug_generator = ImageDataGenerator(\n",
        "    rescale = 1./255, # 픽셀값 조정\n",
        "    rotation_range = 20, # 회전 범위\n",
        "    width_shift_range = 0.1, # 수평 이동\n",
        "    height_shift_range = 0.1, # 수직 이동\n",
        "    shear_range = 0.1, #반시계 회전\n",
        "    zoom_range = 0.1, #확대/축소 비율\n",
        "    horizontal_flip = True, #수평 뒤집기\n",
        "    fill_mode = 'nearest' # 가까운 값으로 비어있는 곳을 채운\n",
        ")"
      ],
      "metadata": {
        "id": "ocAVLF5U9PLe"
      },
      "execution_count": null,
      "outputs": []
    },
    {
      "cell_type": "code",
      "source": [
        "# 확장\n",
        "train_aug_generator = aug_generator.flow_from_directory(\n",
        "    train_dir,\n",
        "    target_size = (150,150),\n",
        "    batch_size = 100,\n",
        "    class_mode = 'binary'\n",
        ")"
      ],
      "metadata": {
        "id": "6mSi2Vwy9PP1"
      },
      "execution_count": null,
      "outputs": []
    },
    {
      "cell_type": "code",
      "source": [
        "model1.fit(\n",
        "    train_aug_generator,\n",
        "    epochs = 20,\n",
        "    validation_data = valid_generator\n",
        ")"
      ],
      "metadata": {
        "id": "rPBh_3yB9PUl"
      },
      "execution_count": null,
      "outputs": []
    },
    {
      "cell_type": "code",
      "source": [],
      "metadata": {
        "id": "ytqnwsFE9PZk"
      },
      "execution_count": null,
      "outputs": []
    },
    {
      "cell_type": "code",
      "source": [],
      "metadata": {
        "id": "Za4NsDxc9Pek"
      },
      "execution_count": null,
      "outputs": []
    },
    {
      "cell_type": "code",
      "source": [],
      "metadata": {
        "id": "ndBxlqoJ9Pjl"
      },
      "execution_count": null,
      "outputs": []
    },
    {
      "cell_type": "code",
      "source": [],
      "metadata": {
        "id": "KXxTVTMI9PoU"
      },
      "execution_count": null,
      "outputs": []
    },
    {
      "cell_type": "code",
      "source": [],
      "metadata": {
        "id": "TORH0ki09Psg"
      },
      "execution_count": null,
      "outputs": []
    },
    {
      "cell_type": "code",
      "source": [],
      "metadata": {
        "id": "wOwjLhJ79PxM"
      },
      "execution_count": null,
      "outputs": []
    },
    {
      "cell_type": "code",
      "source": [],
      "metadata": {
        "id": "ND7QKyWR9P1M"
      },
      "execution_count": null,
      "outputs": []
    },
    {
      "cell_type": "markdown",
      "source": [
        "# 과대적합을 줄이는 방법들\n",
        "  - 증식\n",
        "    - 장점 : 간다\n",
        "    - 단점 : 가짜는 가짜다(급격한 성능 향상은 없다)\n",
        "    - epoch 수는 증가시켜주어야 한다.\n",
        "  - Dropout()\n",
        "    - 층에 사용하는 퍼셉트론의 수를 설정한 비율만큼 사용하지 않는 방법\n",
        "    - epoch 마다 사용하지 않는 퍼셉트론은 랜덤\n",
        "  - BatchNormalization\n",
        "    - CNN층 = Conv(특성추출) + Maxpooling (크기축소)\n",
        "    - Conv층의 파라미터를 정규화 (평균 0, 분산 1)\n",
        "      -> 음수가 발생\n",
        "      -> relu를 적용하면 음수가 사라지는 문제 -> leaky relu\n",
        "  - GlobalAveragePooling2D()\n",
        "    - CNN 가장 문제가 되는 층 : Maxpooling 층\n",
        "      -> CNN 속도의 60% 이상을 차지\n",
        "    - Maxpooling2D + Flatten()\n",
        "    - Dense 층과 연결되는 층에 사용\n"
      ],
      "metadata": {
        "id": "WQF9ACE2L_HY"
      }
    },
    {
      "cell_type": "markdown",
      "source": [
        "- Data Generator : 학습 시킬 때 한번에 전체 데이터를 가져오는 것이 아니라 batch_size 만큼씩만 가져와서 처리하도록 하는 것(메모리 자원 부족을 해결)"
      ],
      "metadata": {
        "id": "Xu7B5kR8L_ZI"
      }
    },
    {
      "cell_type": "code",
      "source": [
        "from tensorflow.keras.preprocessing.image import ImageDataGenerator\n",
        "\n",
        "generator = ImageDataGenerator(rescale = 1./255)\n",
        "\n",
        "train_generator = generator.flow_from_directory(\n",
        "    directory = train_dir, #train 이미지 경로\n",
        "    target_size=(150,150), # 변환할 이미지 크기\n",
        "    batch_size=100, #한번에 변환할 이미지 개수\n",
        "    class_mode='binary' #라벨링 방법(이진분류-binary, 다중분류-categorical)\n",
        ")\n",
        "\n",
        "valid_generator = generator.flow_from_directory(\n",
        "    directory = valid_dir,\n",
        "    target_size=(150,150),\n",
        "    batch_size=100,\n",
        "    class_mode='binary'\n",
        ")"
      ],
      "metadata": {
        "colab": {
          "base_uri": "https://localhost:8080/"
        },
        "id": "Uzv-txWIL_dq",
        "outputId": "ca6cff02-9ebb-4055-f0c4-41d8146b7d24"
      },
      "execution_count": 4,
      "outputs": [
        {
          "output_type": "stream",
          "name": "stdout",
          "text": [
            "Found 2000 images belonging to 2 classes.\n",
            "Found 1000 images belonging to 2 classes.\n"
          ]
        }
      ]
    },
    {
      "cell_type": "code",
      "source": [
        "train_generator.class_indices, valid_generator.class_indices"
      ],
      "metadata": {
        "colab": {
          "base_uri": "https://localhost:8080/"
        },
        "id": "szs2TbnAUFqM",
        "outputId": "eb7d3745-8c0b-40b7-c466-422e007017c5"
      },
      "execution_count": null,
      "outputs": [
        {
          "output_type": "execute_result",
          "data": {
            "text/plain": [
              "({'cats': 0, 'dogs': 1}, {'cats': 0, 'dogs': 1})"
            ]
          },
          "metadata": {},
          "execution_count": 15
        }
      ]
    },
    {
      "cell_type": "code",
      "source": [
        "from tensorflow.keras import Sequential\n",
        "from tensorflow.keras.layers import Dense, Conv2D, MaxPool2D, Flatten\n",
        "from tensorflow.keras.layers import Dropout, BatchNormalization, GlobalAveragePooling2D\n",
        "\n",
        "model1 = Sequential()\n",
        "\n",
        "model1.add(Conv2D(filters = 32, kernel_size = (3,3),\n",
        "    input_shape = (150,150,3), activation = 'relu'))\n",
        "model1.add(MaxPool2D(pool_size = (2,2)))\n",
        "\n",
        "model1.add(Conv2D(filters = 32, kernel_size = (3,3),\n",
        "    activation = 'relu'))\n",
        "model1.add(MaxPool2D(pool_size = (2,2)))\n",
        "\n",
        "model1.add(Conv2D(filters = 32, kernel_size = (3,3),\n",
        "    activation = 'relu'))\n",
        "model1.add(MaxPool2D(pool_size = (2,2)))\n",
        "\n",
        "model1.add(Conv2D(filters = 128, kernel_size = (3,3),\n",
        "    activation = 'relu'))\n",
        "model1.add(MaxPool2D(pool_size = (2,2)))\n",
        "\n",
        "model1.add(Conv2D(filters = 64, kernel_size = (3,3),\n",
        "    activation = 'relu'))\n",
        "model1.add(MaxPool2D( pool_size = (2,2)))\n",
        "\n",
        "model1.add(Flatten())\n",
        "\n",
        "model1.add(Dropout(0.5))\n",
        "model1.add(Dense(units = 64, activation = 'relu'))\n",
        "model1.add(Dense(units = 128, activation = 'relu'))\n",
        "model1.add(Dense(units = 64, activation = 'relu'))\n",
        "model1.add(Dense(units = 32, activation = 'relu'))\n",
        "\n",
        "model1.add(Dense(units = 1, activation = 'sigmoid'))\n",
        "\n",
        "model1.summary()"
      ],
      "metadata": {
        "colab": {
          "base_uri": "https://localhost:8080/"
        },
        "id": "v7UXBw_-UFuk",
        "outputId": "1b108343-c80c-4659-b5cb-9757f9e0c6f4"
      },
      "execution_count": null,
      "outputs": [
        {
          "output_type": "stream",
          "name": "stdout",
          "text": [
            "Model: \"sequential_4\"\n",
            "_________________________________________________________________\n",
            " Layer (type)                Output Shape              Param #   \n",
            "=================================================================\n",
            " conv2d_17 (Conv2D)          (None, 148, 148, 32)      896       \n",
            "                                                                 \n",
            " max_pooling2d_16 (MaxPooli  (None, 74, 74, 32)        0         \n",
            " ng2D)                                                           \n",
            "                                                                 \n",
            " conv2d_18 (Conv2D)          (None, 72, 72, 32)        9248      \n",
            "                                                                 \n",
            " max_pooling2d_17 (MaxPooli  (None, 36, 36, 32)        0         \n",
            " ng2D)                                                           \n",
            "                                                                 \n",
            " conv2d_19 (Conv2D)          (None, 34, 34, 32)        9248      \n",
            "                                                                 \n",
            " max_pooling2d_18 (MaxPooli  (None, 17, 17, 32)        0         \n",
            " ng2D)                                                           \n",
            "                                                                 \n",
            " conv2d_20 (Conv2D)          (None, 15, 15, 128)       36992     \n",
            "                                                                 \n",
            " max_pooling2d_19 (MaxPooli  (None, 7, 7, 128)         0         \n",
            " ng2D)                                                           \n",
            "                                                                 \n",
            " conv2d_21 (Conv2D)          (None, 5, 5, 64)          73792     \n",
            "                                                                 \n",
            " global_average_pooling2d (  (None, 64)                0         \n",
            " GlobalAveragePooling2D)                                         \n",
            "                                                                 \n",
            " dropout_1 (Dropout)         (None, 64)                0         \n",
            "                                                                 \n",
            " dense_12 (Dense)            (None, 64)                4160      \n",
            "                                                                 \n",
            " dense_13 (Dense)            (None, 128)               8320      \n",
            "                                                                 \n",
            " dense_14 (Dense)            (None, 64)                8256      \n",
            "                                                                 \n",
            " dense_15 (Dense)            (None, 32)                2080      \n",
            "                                                                 \n",
            " dense_16 (Dense)            (None, 1)                 33        \n",
            "                                                                 \n",
            "=================================================================\n",
            "Total params: 153025 (597.75 KB)\n",
            "Trainable params: 153025 (597.75 KB)\n",
            "Non-trainable params: 0 (0.00 Byte)\n",
            "_________________________________________________________________\n"
          ]
        }
      ]
    },
    {
      "cell_type": "code",
      "source": [
        "# 학습 방법 설정\n",
        "model1.compile(\n",
        "    loss = 'binary_crossentropy',\n",
        "    optimizer = 'Adam',\n",
        "    metrics = ['accuracy']\n",
        ")"
      ],
      "metadata": {
        "id": "GXkl8k1TUFzF"
      },
      "execution_count": null,
      "outputs": []
    },
    {
      "cell_type": "code",
      "source": [
        "model1.fit(\n",
        "    train_generator, #학습데이터(X_train, y_train 합쳐져 있다.)\n",
        "    epochs = 20,\n",
        "    validation_data = valid_generator\n",
        "\n",
        ")"
      ],
      "metadata": {
        "colab": {
          "base_uri": "https://localhost:8080/"
        },
        "id": "MIivA-63UF3G",
        "outputId": "ec106ee4-2570-4443-dc95-1fc6414c5814"
      },
      "execution_count": null,
      "outputs": [
        {
          "output_type": "stream",
          "name": "stdout",
          "text": [
            "Epoch 1/20\n",
            "20/20 [==============================] - 15s 549ms/step - loss: 0.6949 - accuracy: 0.4980 - val_loss: 0.6922 - val_accuracy: 0.5000\n",
            "Epoch 2/20\n",
            "20/20 [==============================] - 9s 459ms/step - loss: 0.6930 - accuracy: 0.5010 - val_loss: 0.6902 - val_accuracy: 0.6220\n",
            "Epoch 3/20\n",
            "20/20 [==============================] - 9s 454ms/step - loss: 0.6876 - accuracy: 0.5940 - val_loss: 0.6883 - val_accuracy: 0.5020\n",
            "Epoch 4/20\n",
            "20/20 [==============================] - 9s 435ms/step - loss: 0.6787 - accuracy: 0.5735 - val_loss: 0.6756 - val_accuracy: 0.5710\n",
            "Epoch 5/20\n",
            "20/20 [==============================] - 9s 479ms/step - loss: 0.6693 - accuracy: 0.5900 - val_loss: 0.6552 - val_accuracy: 0.5990\n",
            "Epoch 6/20\n",
            "20/20 [==============================] - 9s 443ms/step - loss: 0.6477 - accuracy: 0.6300 - val_loss: 0.6241 - val_accuracy: 0.6640\n",
            "Epoch 7/20\n",
            "20/20 [==============================] - 9s 437ms/step - loss: 0.6288 - accuracy: 0.6525 - val_loss: 0.6184 - val_accuracy: 0.6420\n",
            "Epoch 8/20\n",
            "20/20 [==============================] - 9s 465ms/step - loss: 0.6016 - accuracy: 0.6795 - val_loss: 0.6089 - val_accuracy: 0.6720\n",
            "Epoch 9/20\n",
            "20/20 [==============================] - 9s 450ms/step - loss: 0.5767 - accuracy: 0.7030 - val_loss: 0.5675 - val_accuracy: 0.7100\n",
            "Epoch 10/20\n",
            "20/20 [==============================] - 9s 441ms/step - loss: 0.5653 - accuracy: 0.7125 - val_loss: 0.6150 - val_accuracy: 0.6620\n",
            "Epoch 11/20\n",
            "20/20 [==============================] - 9s 472ms/step - loss: 0.5435 - accuracy: 0.7310 - val_loss: 0.5491 - val_accuracy: 0.7140\n",
            "Epoch 12/20\n",
            "20/20 [==============================] - 8s 430ms/step - loss: 0.5249 - accuracy: 0.7460 - val_loss: 0.6289 - val_accuracy: 0.6600\n",
            "Epoch 13/20\n",
            "20/20 [==============================] - 9s 454ms/step - loss: 0.5156 - accuracy: 0.7595 - val_loss: 0.5450 - val_accuracy: 0.7330\n",
            "Epoch 14/20\n",
            "20/20 [==============================] - 9s 443ms/step - loss: 0.4911 - accuracy: 0.7635 - val_loss: 0.5269 - val_accuracy: 0.7470\n",
            "Epoch 15/20\n",
            "20/20 [==============================] - 9s 433ms/step - loss: 0.4849 - accuracy: 0.7680 - val_loss: 0.5801 - val_accuracy: 0.7080\n",
            "Epoch 16/20\n",
            "20/20 [==============================] - 9s 441ms/step - loss: 0.4619 - accuracy: 0.7855 - val_loss: 0.5182 - val_accuracy: 0.7440\n",
            "Epoch 17/20\n",
            "20/20 [==============================] - 9s 466ms/step - loss: 0.4076 - accuracy: 0.8260 - val_loss: 0.5128 - val_accuracy: 0.7580\n",
            "Epoch 18/20\n",
            "20/20 [==============================] - 11s 545ms/step - loss: 0.4658 - accuracy: 0.7855 - val_loss: 0.5377 - val_accuracy: 0.7420\n",
            "Epoch 19/20\n",
            "20/20 [==============================] - 8s 421ms/step - loss: 0.4002 - accuracy: 0.8340 - val_loss: 0.5441 - val_accuracy: 0.7440\n",
            "Epoch 20/20\n",
            "20/20 [==============================] - 9s 433ms/step - loss: 0.3373 - accuracy: 0.8635 - val_loss: 0.5358 - val_accuracy: 0.7630\n"
          ]
        },
        {
          "output_type": "execute_result",
          "data": {
            "text/plain": [
              "<keras.src.callbacks.History at 0x7fe2aa152410>"
            ]
          },
          "metadata": {},
          "execution_count": 21
        }
      ]
    },
    {
      "cell_type": "markdown",
      "source": [
        "GlobalAveragePooling2D"
      ],
      "metadata": {
        "id": "IYJeWUGOUF7k"
      }
    },
    {
      "cell_type": "code",
      "source": [
        "from tensorflow.keras import Sequential\n",
        "from tensorflow.keras.layers import Dense, Conv2D, MaxPool2D, Flatten\n",
        "from tensorflow.keras.layers import Dropout, BatchNormalization, GlobalAveragePooling2D\n",
        "\n",
        "model1 = Sequential()\n",
        "\n",
        "model1.add(Conv2D(filters = 32, kernel_size = (3,3),\n",
        "    input_shape = (150,150,3), activation = 'relu'))\n",
        "model1.add(MaxPool2D(pool_size = (2,2)))\n",
        "\n",
        "model1.add(Conv2D(filters = 32, kernel_size = (3,3),\n",
        "    activation = 'relu'))\n",
        "model1.add(MaxPool2D(pool_size = (2,2)))\n",
        "\n",
        "model1.add(Conv2D(filters = 32, kernel_size = (3,3),\n",
        "    activation = 'relu'))\n",
        "model1.add(MaxPool2D(pool_size = (2,2)))\n",
        "\n",
        "model1.add(Conv2D(filters = 128, kernel_size = (3,3),\n",
        "    activation = 'relu'))\n",
        "model1.add(MaxPool2D(pool_size = (2,2)))\n",
        "\n",
        "model1.add(Conv2D(filters = 64, kernel_size = (3,3),\n",
        "    activation = 'relu'))\n",
        "# model1.add(MaxPool2D( pool_size = (2,2)))\n",
        "\n",
        "# model1.add(Flatten())\n",
        "\n",
        "model1.add(GlobalAveragePooling2D())\n",
        "\n",
        "model1.add(Dropout(0.5))\n",
        "model1.add(Dense(units = 64, activation = 'relu'))\n",
        "model1.add(Dense(units = 128, activation = 'relu'))\n",
        "model1.add(Dense(units = 64, activation = 'relu'))\n",
        "model1.add(Dense(units = 32, activation = 'relu'))\n",
        "\n",
        "model1.add(Dense(units = 1, activation = 'sigmoid'))\n",
        "\n",
        "model1.summary()"
      ],
      "metadata": {
        "colab": {
          "base_uri": "https://localhost:8080/"
        },
        "id": "XfM7Lqb9UF_W",
        "outputId": "3f00249a-5dd3-4a6c-8982-1703d1db50be"
      },
      "execution_count": null,
      "outputs": [
        {
          "output_type": "stream",
          "name": "stdout",
          "text": [
            "Model: \"sequential_5\"\n",
            "_________________________________________________________________\n",
            " Layer (type)                Output Shape              Param #   \n",
            "=================================================================\n",
            " conv2d_22 (Conv2D)          (None, 148, 148, 32)      896       \n",
            "                                                                 \n",
            " max_pooling2d_20 (MaxPooli  (None, 74, 74, 32)        0         \n",
            " ng2D)                                                           \n",
            "                                                                 \n",
            " conv2d_23 (Conv2D)          (None, 72, 72, 32)        9248      \n",
            "                                                                 \n",
            " max_pooling2d_21 (MaxPooli  (None, 36, 36, 32)        0         \n",
            " ng2D)                                                           \n",
            "                                                                 \n",
            " conv2d_24 (Conv2D)          (None, 34, 34, 32)        9248      \n",
            "                                                                 \n",
            " max_pooling2d_22 (MaxPooli  (None, 17, 17, 32)        0         \n",
            " ng2D)                                                           \n",
            "                                                                 \n",
            " conv2d_25 (Conv2D)          (None, 15, 15, 128)       36992     \n",
            "                                                                 \n",
            " max_pooling2d_23 (MaxPooli  (None, 7, 7, 128)         0         \n",
            " ng2D)                                                           \n",
            "                                                                 \n",
            " conv2d_26 (Conv2D)          (None, 5, 5, 64)          73792     \n",
            "                                                                 \n",
            " global_average_pooling2d_1  (None, 64)                0         \n",
            "  (GlobalAveragePooling2D)                                       \n",
            "                                                                 \n",
            " dropout_2 (Dropout)         (None, 64)                0         \n",
            "                                                                 \n",
            " dense_17 (Dense)            (None, 64)                4160      \n",
            "                                                                 \n",
            " dense_18 (Dense)            (None, 128)               8320      \n",
            "                                                                 \n",
            " dense_19 (Dense)            (None, 64)                8256      \n",
            "                                                                 \n",
            " dense_20 (Dense)            (None, 32)                2080      \n",
            "                                                                 \n",
            " dense_21 (Dense)            (None, 1)                 33        \n",
            "                                                                 \n",
            "=================================================================\n",
            "Total params: 153025 (597.75 KB)\n",
            "Trainable params: 153025 (597.75 KB)\n",
            "Non-trainable params: 0 (0.00 Byte)\n",
            "_________________________________________________________________\n"
          ]
        }
      ]
    },
    {
      "cell_type": "code",
      "source": [
        "# 학습 방법 설정\n",
        "model1.compile(\n",
        "    loss = 'binary_crossentropy',\n",
        "    optimizer = 'Adam',\n",
        "    metrics = ['accuracy']\n",
        ")"
      ],
      "metadata": {
        "id": "EY8knJdAUGDt"
      },
      "execution_count": null,
      "outputs": []
    },
    {
      "cell_type": "code",
      "source": [
        "model1.fit(\n",
        "    train_generator, #학습데이터(X_train, y_train 합쳐져 있다.)\n",
        "    epochs = 20,\n",
        "    validation_data = valid_generator\n",
        "\n",
        ")"
      ],
      "metadata": {
        "colab": {
          "base_uri": "https://localhost:8080/"
        },
        "id": "g5l6CxkwL_iA",
        "outputId": "1771d7b3-b3d3-4ff4-a48e-50d3fabe4a12"
      },
      "execution_count": null,
      "outputs": [
        {
          "output_type": "stream",
          "name": "stdout",
          "text": [
            "Epoch 1/20\n",
            "20/20 [==============================] - 14s 554ms/step - loss: 0.6931 - accuracy: 0.5065 - val_loss: 0.6924 - val_accuracy: 0.5050\n",
            "Epoch 2/20\n",
            "20/20 [==============================] - 9s 442ms/step - loss: 0.6913 - accuracy: 0.5250 - val_loss: 0.6863 - val_accuracy: 0.6050\n",
            "Epoch 3/20\n",
            "20/20 [==============================] - 9s 455ms/step - loss: 0.6794 - accuracy: 0.5785 - val_loss: 0.6591 - val_accuracy: 0.6290\n",
            "Epoch 4/20\n",
            "20/20 [==============================] - 9s 447ms/step - loss: 0.6572 - accuracy: 0.5980 - val_loss: 0.6455 - val_accuracy: 0.6200\n",
            "Epoch 5/20\n",
            "20/20 [==============================] - 11s 554ms/step - loss: 0.6332 - accuracy: 0.6425 - val_loss: 0.6005 - val_accuracy: 0.6910\n",
            "Epoch 6/20\n",
            "20/20 [==============================] - 9s 428ms/step - loss: 0.6481 - accuracy: 0.6285 - val_loss: 0.6439 - val_accuracy: 0.6070\n",
            "Epoch 7/20\n",
            "20/20 [==============================] - 11s 577ms/step - loss: 0.6307 - accuracy: 0.6420 - val_loss: 0.6154 - val_accuracy: 0.6870\n",
            "Epoch 8/20\n",
            "20/20 [==============================] - 11s 544ms/step - loss: 0.6185 - accuracy: 0.6660 - val_loss: 0.6027 - val_accuracy: 0.6950\n",
            "Epoch 9/20\n",
            "20/20 [==============================] - 8s 425ms/step - loss: 0.6010 - accuracy: 0.6730 - val_loss: 0.6141 - val_accuracy: 0.6600\n",
            "Epoch 10/20\n",
            "20/20 [==============================] - 9s 456ms/step - loss: 0.6010 - accuracy: 0.6795 - val_loss: 0.5902 - val_accuracy: 0.6890\n",
            "Epoch 11/20\n",
            "20/20 [==============================] - 9s 452ms/step - loss: 0.5792 - accuracy: 0.7030 - val_loss: 0.5620 - val_accuracy: 0.7220\n",
            "Epoch 12/20\n",
            "20/20 [==============================] - 9s 445ms/step - loss: 0.5635 - accuracy: 0.7150 - val_loss: 0.5763 - val_accuracy: 0.7020\n",
            "Epoch 13/20\n",
            "20/20 [==============================] - 8s 426ms/step - loss: 0.5689 - accuracy: 0.7125 - val_loss: 0.6360 - val_accuracy: 0.6560\n",
            "Epoch 14/20\n",
            "20/20 [==============================] - 9s 431ms/step - loss: 0.5555 - accuracy: 0.7200 - val_loss: 0.6101 - val_accuracy: 0.6770\n",
            "Epoch 15/20\n",
            "20/20 [==============================] - 9s 450ms/step - loss: 0.5451 - accuracy: 0.7270 - val_loss: 0.5647 - val_accuracy: 0.7150\n",
            "Epoch 16/20\n",
            "20/20 [==============================] - 11s 549ms/step - loss: 0.5284 - accuracy: 0.7375 - val_loss: 0.5151 - val_accuracy: 0.7630\n",
            "Epoch 17/20\n",
            "20/20 [==============================] - 8s 421ms/step - loss: 0.5186 - accuracy: 0.7510 - val_loss: 0.6202 - val_accuracy: 0.6640\n",
            "Epoch 18/20\n",
            "20/20 [==============================] - 9s 449ms/step - loss: 0.5386 - accuracy: 0.7280 - val_loss: 0.5299 - val_accuracy: 0.7380\n",
            "Epoch 19/20\n",
            "20/20 [==============================] - 9s 454ms/step - loss: 0.5109 - accuracy: 0.7545 - val_loss: 0.5871 - val_accuracy: 0.6940\n",
            "Epoch 20/20\n",
            "20/20 [==============================] - 11s 542ms/step - loss: 0.4811 - accuracy: 0.7645 - val_loss: 0.5314 - val_accuracy: 0.7460\n"
          ]
        },
        {
          "output_type": "execute_result",
          "data": {
            "text/plain": [
              "<keras.src.callbacks.History at 0x7fe2b0957400>"
            ]
          },
          "metadata": {},
          "execution_count": 26
        }
      ]
    },
    {
      "cell_type": "markdown",
      "source": [
        "- BatchNormalization()\n",
        "  - Conv2D() 와 Activation() 층 사이에 배치\n",
        "  - Activation()이 정규화 기능을 일부 수행 ->\n",
        "  Activation() 다음에 배치하면 효과가 떨어짐\n",
        "  -> C + B + A + M => C + A + B + M\n",
        "\n",
        "  - 확실하게 성능이 향상된다.\n",
        "  - 단점 : 참 좋은데 설명할 길이 없다..?"
      ],
      "metadata": {
        "id": "URPc-K5giUhx"
      }
    },
    {
      "cell_type": "code",
      "source": [
        "from tensorflow.keras import Sequential\n",
        "from tensorflow.keras.layers import Dense, Conv2D, MaxPool2D, Flatten\n",
        "from tensorflow.keras.layers import Dropout, BatchNormalization, GlobalAveragePooling2D\n",
        "from tensorflow.keras.layers import Activation\n",
        "\n",
        "model1 = Sequential()\n",
        "\n",
        "model1.add(Conv2D(filters = 32, kernel_size = (3,3),\n",
        "    input_shape = (150,150,3)))\n",
        "model1.add(BatchNormalization())\n",
        "model1.add(Activation(\"leaky_relu\"))\n",
        "model1.add(MaxPool2D(pool_size = (2,2)))\n",
        "\n",
        "model1.add(Conv2D(filters = 32, kernel_size = (3,3),\n",
        "    activation = 'leaky_relu'))\n",
        "model1.add(BatchNormalization())\n",
        "model1.add(MaxPool2D(pool_size = (2,2)))\n",
        "\n",
        "model1.add(Conv2D(filters = 32, kernel_size = (3,3),\n",
        "    activation = 'leaky_relu'))\n",
        "model1.add(BatchNormalization())\n",
        "model1.add(MaxPool2D(pool_size = (2,2)))\n",
        "\n",
        "model1.add(Conv2D(filters = 128, kernel_size = (3,3),\n",
        "    activation = 'leaky_relu'))\n",
        "model1.add(BatchNormalization())\n",
        "model1.add(MaxPool2D(pool_size = (2,2)))\n",
        "\n",
        "model1.add(Conv2D(filters = 64, kernel_size = (3,3),\n",
        "    activation = 'leaky_relu'))\n",
        "model1.add(BatchNormalization())\n",
        "#model1.add(MaxPool2D( pool_size = (2,2)))\n",
        "\n",
        "#model1.add(Flatten())\n",
        "\n",
        "model1.add(GlobalAveragePooling2D())\n",
        "\n",
        "model1.add(Dropout(0.5))\n",
        "model1.add(Dense(units = 64, activation = 'relu'))\n",
        "model1.add(Dense(units = 128, activation = 'relu'))\n",
        "model1.add(Dense(units = 64, activation = 'relu'))\n",
        "model1.add(Dense(units = 32, activation = 'relu'))\n",
        "\n",
        "model1.add(Dense(units = 1, activation = 'sigmoid'))\n",
        "\n",
        "model1.summary()"
      ],
      "metadata": {
        "colab": {
          "base_uri": "https://localhost:8080/"
        },
        "id": "Dh87t5qYiUnJ",
        "outputId": "09b1115a-0928-4bb8-8a5a-88d6b6687b13"
      },
      "execution_count": null,
      "outputs": [
        {
          "output_type": "stream",
          "name": "stdout",
          "text": [
            "Model: \"sequential_8\"\n",
            "_________________________________________________________________\n",
            " Layer (type)                Output Shape              Param #   \n",
            "=================================================================\n",
            " conv2d_33 (Conv2D)          (None, 148, 148, 32)      896       \n",
            "                                                                 \n",
            " batch_normalization_6 (Bat  (None, 148, 148, 32)      128       \n",
            " chNormalization)                                                \n",
            "                                                                 \n",
            " activation_1 (Activation)   (None, 148, 148, 32)      0         \n",
            "                                                                 \n",
            " max_pooling2d_28 (MaxPooli  (None, 74, 74, 32)        0         \n",
            " ng2D)                                                           \n",
            "                                                                 \n",
            " conv2d_34 (Conv2D)          (None, 72, 72, 32)        9248      \n",
            "                                                                 \n",
            " batch_normalization_7 (Bat  (None, 72, 72, 32)        128       \n",
            " chNormalization)                                                \n",
            "                                                                 \n",
            " max_pooling2d_29 (MaxPooli  (None, 36, 36, 32)        0         \n",
            " ng2D)                                                           \n",
            "                                                                 \n",
            " conv2d_35 (Conv2D)          (None, 34, 34, 32)        9248      \n",
            "                                                                 \n",
            " batch_normalization_8 (Bat  (None, 34, 34, 32)        128       \n",
            " chNormalization)                                                \n",
            "                                                                 \n",
            " max_pooling2d_30 (MaxPooli  (None, 17, 17, 32)        0         \n",
            " ng2D)                                                           \n",
            "                                                                 \n",
            " conv2d_36 (Conv2D)          (None, 15, 15, 128)       36992     \n",
            "                                                                 \n",
            " batch_normalization_9 (Bat  (None, 15, 15, 128)       512       \n",
            " chNormalization)                                                \n",
            "                                                                 \n",
            " max_pooling2d_31 (MaxPooli  (None, 7, 7, 128)         0         \n",
            " ng2D)                                                           \n",
            "                                                                 \n",
            " conv2d_37 (Conv2D)          (None, 5, 5, 64)          73792     \n",
            "                                                                 \n",
            " batch_normalization_10 (Ba  (None, 5, 5, 64)          256       \n",
            " tchNormalization)                                               \n",
            "                                                                 \n",
            " global_average_pooling2d_3  (None, 64)                0         \n",
            "  (GlobalAveragePooling2D)                                       \n",
            "                                                                 \n",
            " dropout_4 (Dropout)         (None, 64)                0         \n",
            "                                                                 \n",
            " dense_27 (Dense)            (None, 64)                4160      \n",
            "                                                                 \n",
            " dense_28 (Dense)            (None, 128)               8320      \n",
            "                                                                 \n",
            " dense_29 (Dense)            (None, 64)                8256      \n",
            "                                                                 \n",
            " dense_30 (Dense)            (None, 32)                2080      \n",
            "                                                                 \n",
            " dense_31 (Dense)            (None, 1)                 33        \n",
            "                                                                 \n",
            "=================================================================\n",
            "Total params: 154177 (602.25 KB)\n",
            "Trainable params: 153601 (600.00 KB)\n",
            "Non-trainable params: 576 (2.25 KB)\n",
            "_________________________________________________________________\n"
          ]
        }
      ]
    },
    {
      "cell_type": "code",
      "source": [
        "# 학습 방법 설정\n",
        "model1.compile(\n",
        "    loss = 'binary_crossentropy',\n",
        "    optimizer = 'Adam',\n",
        "    metrics = ['accuracy']\n",
        ")"
      ],
      "metadata": {
        "id": "o7vrHGOKiUr4"
      },
      "execution_count": null,
      "outputs": []
    },
    {
      "cell_type": "code",
      "source": [
        "model1.fit(\n",
        "    train_generator, #학습데이터(X_train, y_train 합쳐져 있다.)\n",
        "    epochs = 20,\n",
        "    validation_data = valid_generator\n",
        "\n",
        ")"
      ],
      "metadata": {
        "colab": {
          "base_uri": "https://localhost:8080/"
        },
        "id": "yRfohWBoiUwR",
        "outputId": "7d611c70-5fb6-4075-e37d-25d9fe0c7ab1"
      },
      "execution_count": null,
      "outputs": [
        {
          "output_type": "stream",
          "name": "stdout",
          "text": [
            "Epoch 1/20\n",
            "20/20 [==============================] - 14s 440ms/step - loss: 0.6665 - accuracy: 0.5950 - val_loss: 0.7039 - val_accuracy: 0.5000\n",
            "Epoch 2/20\n",
            "20/20 [==============================] - 11s 550ms/step - loss: 0.6156 - accuracy: 0.6695 - val_loss: 0.7613 - val_accuracy: 0.5000\n",
            "Epoch 3/20\n",
            "20/20 [==============================] - 11s 556ms/step - loss: 0.5676 - accuracy: 0.7170 - val_loss: 1.0366 - val_accuracy: 0.5000\n",
            "Epoch 4/20\n",
            "20/20 [==============================] - 9s 436ms/step - loss: 0.5413 - accuracy: 0.7275 - val_loss: 1.1682 - val_accuracy: 0.5000\n",
            "Epoch 5/20\n",
            "20/20 [==============================] - 9s 462ms/step - loss: 0.5000 - accuracy: 0.7685 - val_loss: 1.5262 - val_accuracy: 0.5000\n",
            "Epoch 6/20\n",
            "20/20 [==============================] - 9s 455ms/step - loss: 0.4760 - accuracy: 0.7715 - val_loss: 1.5738 - val_accuracy: 0.5000\n",
            "Epoch 7/20\n",
            "20/20 [==============================] - 9s 437ms/step - loss: 0.4261 - accuracy: 0.8035 - val_loss: 1.8355 - val_accuracy: 0.5000\n",
            "Epoch 8/20\n",
            "20/20 [==============================] - 8s 428ms/step - loss: 0.4109 - accuracy: 0.8130 - val_loss: 1.9068 - val_accuracy: 0.5000\n",
            "Epoch 9/20\n",
            "20/20 [==============================] - 9s 469ms/step - loss: 0.3662 - accuracy: 0.8380 - val_loss: 1.9897 - val_accuracy: 0.5000\n",
            "Epoch 10/20\n",
            "20/20 [==============================] - 10s 498ms/step - loss: 0.3867 - accuracy: 0.8305 - val_loss: 1.7166 - val_accuracy: 0.5000\n",
            "Epoch 11/20\n",
            "20/20 [==============================] - 9s 442ms/step - loss: 0.3294 - accuracy: 0.8515 - val_loss: 2.7084 - val_accuracy: 0.5000\n",
            "Epoch 12/20\n",
            "20/20 [==============================] - 9s 452ms/step - loss: 0.2905 - accuracy: 0.8740 - val_loss: 2.8917 - val_accuracy: 0.5000\n",
            "Epoch 13/20\n",
            "20/20 [==============================] - 9s 470ms/step - loss: 0.2715 - accuracy: 0.8915 - val_loss: 2.6187 - val_accuracy: 0.5000\n",
            "Epoch 14/20\n",
            "20/20 [==============================] - 11s 549ms/step - loss: 0.2835 - accuracy: 0.8745 - val_loss: 3.1947 - val_accuracy: 0.5000\n",
            "Epoch 15/20\n",
            "20/20 [==============================] - 11s 561ms/step - loss: 0.2206 - accuracy: 0.9020 - val_loss: 2.9825 - val_accuracy: 0.5000\n",
            "Epoch 16/20\n",
            "20/20 [==============================] - 8s 428ms/step - loss: 0.2039 - accuracy: 0.9170 - val_loss: 3.7529 - val_accuracy: 0.5000\n",
            "Epoch 17/20\n",
            "20/20 [==============================] - 9s 474ms/step - loss: 0.2211 - accuracy: 0.9085 - val_loss: 2.8846 - val_accuracy: 0.5000\n",
            "Epoch 18/20\n",
            "20/20 [==============================] - 9s 466ms/step - loss: 0.1952 - accuracy: 0.9235 - val_loss: 1.2870 - val_accuracy: 0.5270\n",
            "Epoch 19/20\n",
            "20/20 [==============================] - 9s 443ms/step - loss: 0.1425 - accuracy: 0.9430 - val_loss: 2.3565 - val_accuracy: 0.5060\n",
            "Epoch 20/20\n",
            "20/20 [==============================] - 9s 432ms/step - loss: 0.1784 - accuracy: 0.9305 - val_loss: 2.4958 - val_accuracy: 0.5000\n"
          ]
        },
        {
          "output_type": "execute_result",
          "data": {
            "text/plain": [
              "<keras.src.callbacks.History at 0x7fe308183f10>"
            ]
          },
          "metadata": {},
          "execution_count": 33
        }
      ]
    },
    {
      "cell_type": "code",
      "source": [],
      "metadata": {
        "id": "qJTq9uI5iU1A"
      },
      "execution_count": null,
      "outputs": []
    },
    {
      "cell_type": "markdown",
      "source": [
        "# 전이학습 (Transfer Learning)\n",
        "  - 미리 학습된 모델이나 가중치를 가져다 쓰는 기법\n",
        "\n",
        "  ![image.png](data:image/png;base64,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)"
      ],
      "metadata": {
        "id": "TcnHyToziU5w"
      }
    },
    {
      "cell_type": "markdown",
      "source": [
        "#VGG16을 다운로드"
      ],
      "metadata": {
        "id": "OiwP89adiU98"
      }
    },
    {
      "cell_type": "code",
      "source": [
        "from tensorflow.keras.applications import VGG16\n",
        "\n",
        "#weights : 사용할 가중치의 종류(imagenent)\n",
        "# include_top = False :모델을 전체 또는 특성 추출기만 가져올 것인지 선택 (False : 특성추출기만 가져옴)\n",
        "# input_shape :\n",
        "conv_base = VGG16(weights=\"imagenet\",\n",
        "                  include_top = False,\n",
        "                  input_shape = (150,150,3)\n",
        ")\n"
      ],
      "metadata": {
        "id": "4F3H76CbiVEL",
        "colab": {
          "base_uri": "https://localhost:8080/"
        },
        "outputId": "e3c43eb8-e9ce-474d-c788-8f250d6e6ee1"
      },
      "execution_count": 7,
      "outputs": [
        {
          "output_type": "stream",
          "name": "stdout",
          "text": [
            "Downloading data from https://storage.googleapis.com/tensorflow/keras-applications/vgg16/vgg16_weights_tf_dim_ordering_tf_kernels_notop.h5\n",
            "58889256/58889256 [==============================] - 0s 0us/step\n"
          ]
        }
      ]
    },
    {
      "cell_type": "code",
      "source": [
        "# VGG16 모델을 확인\n",
        "conv_base.summary()"
      ],
      "metadata": {
        "id": "sMgqXqUkiVI5",
        "colab": {
          "base_uri": "https://localhost:8080/"
        },
        "outputId": "f3a10c30-6907-428b-8015-72806c1f05c3"
      },
      "execution_count": 8,
      "outputs": [
        {
          "output_type": "stream",
          "name": "stdout",
          "text": [
            "Model: \"vgg16\"\n",
            "_________________________________________________________________\n",
            " Layer (type)                Output Shape              Param #   \n",
            "=================================================================\n",
            " input_1 (InputLayer)        [(None, 150, 150, 3)]     0         \n",
            "                                                                 \n",
            " block1_conv1 (Conv2D)       (None, 150, 150, 64)      1792      \n",
            "                                                                 \n",
            " block1_conv2 (Conv2D)       (None, 150, 150, 64)      36928     \n",
            "                                                                 \n",
            " block1_pool (MaxPooling2D)  (None, 75, 75, 64)        0         \n",
            "                                                                 \n",
            " block2_conv1 (Conv2D)       (None, 75, 75, 128)       73856     \n",
            "                                                                 \n",
            " block2_conv2 (Conv2D)       (None, 75, 75, 128)       147584    \n",
            "                                                                 \n",
            " block2_pool (MaxPooling2D)  (None, 37, 37, 128)       0         \n",
            "                                                                 \n",
            " block3_conv1 (Conv2D)       (None, 37, 37, 256)       295168    \n",
            "                                                                 \n",
            " block3_conv2 (Conv2D)       (None, 37, 37, 256)       590080    \n",
            "                                                                 \n",
            " block3_conv3 (Conv2D)       (None, 37, 37, 256)       590080    \n",
            "                                                                 \n",
            " block3_pool (MaxPooling2D)  (None, 18, 18, 256)       0         \n",
            "                                                                 \n",
            " block4_conv1 (Conv2D)       (None, 18, 18, 512)       1180160   \n",
            "                                                                 \n",
            " block4_conv2 (Conv2D)       (None, 18, 18, 512)       2359808   \n",
            "                                                                 \n",
            " block4_conv3 (Conv2D)       (None, 18, 18, 512)       2359808   \n",
            "                                                                 \n",
            " block4_pool (MaxPooling2D)  (None, 9, 9, 512)         0         \n",
            "                                                                 \n",
            " block5_conv1 (Conv2D)       (None, 9, 9, 512)         2359808   \n",
            "                                                                 \n",
            " block5_conv2 (Conv2D)       (None, 9, 9, 512)         2359808   \n",
            "                                                                 \n",
            " block5_conv3 (Conv2D)       (None, 9, 9, 512)         2359808   \n",
            "                                                                 \n",
            " block5_pool (MaxPooling2D)  (None, 4, 4, 512)         0         \n",
            "                                                                 \n",
            "=================================================================\n",
            "Total params: 14714688 (56.13 MB)\n",
            "Trainable params: 14714688 (56.13 MB)\n",
            "Non-trainable params: 0 (0.00 Byte)\n",
            "_________________________________________________________________\n"
          ]
        }
      ]
    },
    {
      "cell_type": "code",
      "source": [
        "# plot_model()로 시각화\n",
        "from tensorflow.keras.utils import plot_model\n",
        "\n",
        "# show_shapes=True : 신경망 형태 표기 여부\n",
        "# dpi=60 : 이미지 출력 크기\n",
        "plot_model(conv_base, show_shapes=True, dpi=60)"
      ],
      "metadata": {
        "colab": {
          "base_uri": "https://localhost:8080/",
          "height": 1000
        },
        "id": "7kshCf9Sd1gj",
        "outputId": "77291a44-a8f6-4b75-fae1-538024316f75"
      },
      "execution_count": 11,
      "outputs": [
        {
          "output_type": "execute_result",
          "data": {
            "image/png": "[encoded data removed]",
            "text/plain": [
              "<IPython.core.display.Image object>"
            ]
          },
          "metadata": {},
          "execution_count": 11
        }
      ]
    },
    {
      "cell_type": "markdown",
      "source": [
        "# 신경망 구조를 이미지로 시각화"
      ],
      "metadata": {
        "id": "uEtKuKpSd1tR"
      }
    },
    {
      "cell_type": "code",
      "source": [
        "!pip install visualkeras"
      ],
      "metadata": {
        "colab": {
          "base_uri": "https://localhost:8080/"
        },
        "id": "V6u_ni1rd1yB",
        "outputId": "4748e3b8-58ad-42fc-fb74-ee501d7f582a"
      },
      "execution_count": 12,
      "outputs": [
        {
          "output_type": "stream",
          "name": "stdout",
          "text": [
            "Collecting visualkeras\n",
            "  Downloading visualkeras-0.0.2-py3-none-any.whl (12 kB)\n",
            "Requirement already satisfied: pillow>=6.2.0 in /usr/local/lib/python3.10/dist-packages (from visualkeras) (9.4.0)\n",
            "Requirement already satisfied: numpy>=1.18.1 in /usr/local/lib/python3.10/dist-packages (from visualkeras) (1.23.5)\n",
            "Collecting aggdraw>=1.3.11 (from visualkeras)\n",
            "  Downloading aggdraw-1.3.16-cp310-cp310-manylinux_2_17_x86_64.manylinux2014_x86_64.whl (993 kB)\n",
            "\u001b[2K     \u001b[90m━━━━━━━━━━━━━━━━━━━━━━━━━━━━━━━━━━━━━━━\u001b[0m \u001b[32m993.0/993.0 kB\u001b[0m \u001b[31m7.0 MB/s\u001b[0m eta \u001b[36m0:00:00\u001b[0m\n",
            "\u001b[?25hInstalling collected packages: aggdraw, visualkeras\n",
            "Successfully installed aggdraw-1.3.16 visualkeras-0.0.2\n"
          ]
        }
      ]
    },
    {
      "cell_type": "code",
      "source": [
        "import visualkeras\n",
        "\n",
        "# 신경망 층을 시각화\n",
        "visualkeras.layered_view(conv_base).show()\n",
        "# 층 이름의 범례 표시\n",
        "visualkeras.layered_view(conv_base, legend=True)"
      ],
      "metadata": {
        "colab": {
          "base_uri": "https://localhost:8080/",
          "height": 853
        },
        "id": "nhfIRcgId12Y",
        "outputId": "c38b24e9-f7f8-4bc8-ec65-af0e1d07a711"
      },
      "execution_count": 14,
      "outputs": [
        {
          "output_type": "execute_result",
          "data": {
            "text/plain": [
              "<PIL.Image.Image image mode=RGBA size=956x836>"
            ],
            "image/png": "[encoded data removed]"
          },
          "metadata": {},
          "execution_count": 14
        }
      ]
    },
    {
      "cell_type": "markdown",
      "source": [
        "- 학습이 가능한 파라미터 종류의 수 확인"
      ],
      "metadata": {
        "id": "jd2BKQMMd164"
      }
    },
    {
      "cell_type": "code",
      "source": [
        "print(f\"학습 가능한 파라미터 종류의 수 : {len(conv_base.trainable_weights)}\")\n",
        "\n",
        "# 층 13, 각 층마다 w와 b값이 있으므로 파라미터 종류의 수 = 26 이다."
      ],
      "metadata": {
        "colab": {
          "base_uri": "https://localhost:8080/"
        },
        "id": "jOjMNmIyd1_R",
        "outputId": "14dc3359-5d64-4e9b-c7bc-67e33fe8c17d"
      },
      "execution_count": 16,
      "outputs": [
        {
          "output_type": "stream",
          "name": "stdout",
          "text": [
            "학습 가능한 파라미터 종류의 수 : 26\n"
          ]
        }
      ]
    },
    {
      "cell_type": "markdown",
      "source": [
        "- 우리 모델에 VGG16을 연결"
      ],
      "metadata": {
        "id": "pqe7sjT-d2Do"
      }
    },
    {
      "cell_type": "code",
      "source": [
        "from tensorflow.keras import Sequential\n",
        "from tensorflow.keras.layers import Dense, Dropout, Flatten\n",
        "\n",
        "\n",
        "model1 = Sequential()\n",
        "\n",
        "model1.add(conv_base)\n",
        "model1.add(Flatten())\n",
        "\n",
        "model1.add(Dropout(0.5))\n",
        "model1.add(Dense(units = 64, activation = 'relu'))\n",
        "model1.add(Dense(units = 128, activation = 'relu'))\n",
        "model1.add(Dense(units = 64, activation = 'relu'))\n",
        "model1.add(Dense(units = 32, activation = 'relu'))\n",
        "model1.add(Dense(units = 1, activation = 'sigmoid'))\n",
        "\n",
        "model1.summary()"
      ],
      "metadata": {
        "colab": {
          "base_uri": "https://localhost:8080/"
        },
        "id": "AoeBO29Sd2IB",
        "outputId": "d18cde33-a456-448a-92ff-76aabf1c3ac7"
      },
      "execution_count": 18,
      "outputs": [
        {
          "output_type": "stream",
          "name": "stdout",
          "text": [
            "Model: \"sequential\"\n",
            "_________________________________________________________________\n",
            " Layer (type)                Output Shape              Param #   \n",
            "=================================================================\n",
            " vgg16 (Functional)          (None, 4, 4, 512)         14714688  \n",
            "                                                                 \n",
            " flatten (Flatten)           (None, 8192)              0         \n",
            "                                                                 \n",
            " dropout (Dropout)           (None, 8192)              0         \n",
            "                                                                 \n",
            " dense (Dense)               (None, 64)                524352    \n",
            "                                                                 \n",
            " dense_1 (Dense)             (None, 128)               8320      \n",
            "                                                                 \n",
            " dense_2 (Dense)             (None, 64)                8256      \n",
            "                                                                 \n",
            " dense_3 (Dense)             (None, 32)                2080      \n",
            "                                                                 \n",
            " dense_4 (Dense)             (None, 1)                 33        \n",
            "                                                                 \n",
            "=================================================================\n",
            "Total params: 15257729 (58.20 MB)\n",
            "Trainable params: 15257729 (58.20 MB)\n",
            "Non-trainable params: 0 (0.00 Byte)\n",
            "_________________________________________________________________\n"
          ]
        }
      ]
    },
    {
      "cell_type": "markdown",
      "source": [
        "# 동결 : 가져온 모델은 학습이 되지 않도록 설정"
      ],
      "metadata": {
        "id": "SZ0ROaUtd2Mx"
      }
    },
    {
      "cell_type": "code",
      "source": [
        "print(f\"훈련 가능한 파라미터의 종류 : {len(model1.trainable_weights)}\")"
      ],
      "metadata": {
        "colab": {
          "base_uri": "https://localhost:8080/"
        },
        "id": "xVZ01hB7d2Q6",
        "outputId": "b198f278-ed00-4338-9c9a-f9dcb292ea62"
      },
      "execution_count": 20,
      "outputs": [
        {
          "output_type": "stream",
          "name": "stdout",
          "text": [
            "훈련 가능한 파라미터의 종류 : 36\n"
          ]
        }
      ]
    },
    {
      "cell_type": "code",
      "source": [
        "# VGG16 모델은 훈련이 되지 않도록 설정\n",
        "conv_base.trainable = False"
      ],
      "metadata": {
        "id": "wtmkr7Ucd2VT"
      },
      "execution_count": 21,
      "outputs": []
    },
    {
      "cell_type": "code",
      "source": [
        "print(f\"훈련 가능한 파라미터의 종류 : {len(model1.trainable_weights)}\")"
      ],
      "metadata": {
        "colab": {
          "base_uri": "https://localhost:8080/"
        },
        "id": "sZALyV_zd2Zb",
        "outputId": "c486f1f0-e153-49ec-f17b-71024c9ac3f4"
      },
      "execution_count": 22,
      "outputs": [
        {
          "output_type": "stream",
          "name": "stdout",
          "text": [
            "훈련 가능한 파라미터의 종류 : 10\n"
          ]
        }
      ]
    },
    {
      "cell_type": "code",
      "source": [
        "# 학습 방법 설정\n",
        "model1.compile(\n",
        "    loss = 'binary_crossentropy',\n",
        "    optimizer = 'Adam',\n",
        "    metrics = ['accuracy']\n",
        ")"
      ],
      "metadata": {
        "id": "SqKU8HpYd2dw"
      },
      "execution_count": 23,
      "outputs": []
    },
    {
      "cell_type": "code",
      "source": [
        "model1.fit(\n",
        "    train_generator, #학습데이터(X_train, y_train 합쳐져 있다.)\n",
        "    epochs = 20,\n",
        "    validation_data = valid_generator\n",
        "\n",
        ")"
      ],
      "metadata": {
        "colab": {
          "base_uri": "https://localhost:8080/"
        },
        "id": "VpA7gFAnd2ij",
        "outputId": "9e101a78-bd71-4ac6-8942-34cdade5a837"
      },
      "execution_count": 24,
      "outputs": [
        {
          "output_type": "stream",
          "name": "stdout",
          "text": [
            "Epoch 1/20\n",
            "20/20 [==============================] - 556s 27s/step - loss: 0.4956 - accuracy: 0.7530 - val_loss: 0.2951 - val_accuracy: 0.8790\n",
            "Epoch 2/20\n",
            "20/20 [==============================] - 11s 577ms/step - loss: 0.2700 - accuracy: 0.8915 - val_loss: 0.2530 - val_accuracy: 0.8950\n",
            "Epoch 3/20\n",
            "20/20 [==============================] - 10s 496ms/step - loss: 0.2109 - accuracy: 0.9180 - val_loss: 0.2479 - val_accuracy: 0.8990\n",
            "Epoch 4/20\n",
            "20/20 [==============================] - 10s 489ms/step - loss: 0.2133 - accuracy: 0.9080 - val_loss: 0.2581 - val_accuracy: 0.8950\n",
            "Epoch 5/20\n",
            "20/20 [==============================] - 9s 473ms/step - loss: 0.1781 - accuracy: 0.9240 - val_loss: 0.2485 - val_accuracy: 0.8910\n",
            "Epoch 6/20\n",
            "20/20 [==============================] - 11s 527ms/step - loss: 0.1419 - accuracy: 0.9450 - val_loss: 0.2456 - val_accuracy: 0.9010\n",
            "Epoch 7/20\n",
            "20/20 [==============================] - 10s 489ms/step - loss: 0.1404 - accuracy: 0.9410 - val_loss: 0.2648 - val_accuracy: 0.8950\n",
            "Epoch 8/20\n",
            "20/20 [==============================] - 11s 564ms/step - loss: 0.1259 - accuracy: 0.9495 - val_loss: 0.2733 - val_accuracy: 0.8940\n",
            "Epoch 9/20\n",
            "20/20 [==============================] - 9s 458ms/step - loss: 0.1138 - accuracy: 0.9530 - val_loss: 0.2888 - val_accuracy: 0.8960\n",
            "Epoch 10/20\n",
            "20/20 [==============================] - 10s 500ms/step - loss: 0.0983 - accuracy: 0.9595 - val_loss: 0.2946 - val_accuracy: 0.8950\n",
            "Epoch 11/20\n",
            "20/20 [==============================] - 10s 487ms/step - loss: 0.1174 - accuracy: 0.9520 - val_loss: 0.2688 - val_accuracy: 0.9030\n",
            "Epoch 12/20\n",
            "20/20 [==============================] - 9s 469ms/step - loss: 0.1151 - accuracy: 0.9520 - val_loss: 0.3137 - val_accuracy: 0.8890\n",
            "Epoch 13/20\n",
            "20/20 [==============================] - 9s 460ms/step - loss: 0.1081 - accuracy: 0.9560 - val_loss: 0.2970 - val_accuracy: 0.8870\n",
            "Epoch 14/20\n",
            "20/20 [==============================] - 10s 500ms/step - loss: 0.0633 - accuracy: 0.9745 - val_loss: 0.3334 - val_accuracy: 0.9030\n",
            "Epoch 15/20\n",
            "20/20 [==============================] - 10s 495ms/step - loss: 0.0613 - accuracy: 0.9735 - val_loss: 0.3565 - val_accuracy: 0.8960\n",
            "Epoch 16/20\n",
            "20/20 [==============================] - 11s 565ms/step - loss: 0.0695 - accuracy: 0.9725 - val_loss: 0.4503 - val_accuracy: 0.8790\n",
            "Epoch 17/20\n",
            "20/20 [==============================] - 9s 468ms/step - loss: 0.0750 - accuracy: 0.9700 - val_loss: 0.5484 - val_accuracy: 0.8570\n",
            "Epoch 18/20\n",
            "20/20 [==============================] - 10s 506ms/step - loss: 0.0977 - accuracy: 0.9625 - val_loss: 0.3289 - val_accuracy: 0.8900\n",
            "Epoch 19/20\n",
            "20/20 [==============================] - 10s 484ms/step - loss: 0.0930 - accuracy: 0.9620 - val_loss: 0.3802 - val_accuracy: 0.8830\n",
            "Epoch 20/20\n",
            "20/20 [==============================] - 11s 566ms/step - loss: 0.0582 - accuracy: 0.9790 - val_loss: 0.4582 - val_accuracy: 0.8720\n"
          ]
        },
        {
          "output_type": "execute_result",
          "data": {
            "text/plain": [
              "<keras.src.callbacks.History at 0x7f33b01b2f80>"
            ]
          },
          "metadata": {},
          "execution_count": 24
        }
      ]
    },
    {
      "cell_type": "code",
      "source": [],
      "metadata": {
        "id": "Hg1gI48Ad2tx"
      },
      "execution_count": null,
      "outputs": []
    }
  ]
}