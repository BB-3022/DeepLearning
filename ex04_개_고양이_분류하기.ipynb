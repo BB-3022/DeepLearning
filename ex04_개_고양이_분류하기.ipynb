{
  "nbformat": 4,
  "nbformat_minor": 0,
  "metadata": {
    "colab": {
      "provenance": [],
      "gpuType": "T4",
      "mount_file_id": "1bBq5LeDqRsG1-v2Jp12N8jMofsK4kWT-",
      "authorship_tag": "ABX9TyNCkNb2N1yHTmHL7yNyGQN9",
      "include_colab_link": true
    },
    "kernelspec": {
      "name": "python3",
      "display_name": "Python 3"
    },
    "language_info": {
      "name": "python"
    },
    "accelerator": "GPU"
  },
  "cells": [
    {
      "cell_type": "markdown",
      "metadata": {
        "id": "view-in-github",
        "colab_type": "text"
      },
      "source": [
        "<a href=\"https://colab.research.google.com/github/BB-3022/DeepLearning/blob/main/ex04_%EA%B0%9C_%EA%B3%A0%EC%96%91%EC%9D%B4_%EB%B6%84%EB%A5%98%ED%95%98%EA%B8%B0.ipynb\" target=\"_parent\"><img src=\"https://colab.research.google.com/assets/colab-badge.svg\" alt=\"Open In Colab\"/></a>"
      ]
    },
    {
      "cell_type": "code",
      "execution_count": 1,
      "metadata": {
        "id": "yXdf0g3Z0F2_"
      },
      "outputs": [],
      "source": [
        "#/content/drive/MyDrive/Colab Notebooks/DeepLearning/dogs_vs_cats_small\n",
        "# 데이터 경로지정\n",
        "train_dir = '/content/drive/MyDrive/Colab Notebooks/DeepLearning/dogs_vs_cats_small/train'\n",
        "valid_dir = '/content/drive/MyDrive/Colab Notebooks/DeepLearning/dogs_vs_cats_small/validation'"
      ]
    },
    {
      "cell_type": "code",
      "source": [
        "# 하나의 변수에 이미지 파일 전부 합치기\n",
        "# 1. 픽셀값(0~255/정수) > (0~1/실수)\n",
        "# [ 픽셀값 변경이유 ]\n",
        "#  - 숫자 크기 줄이기, 값 자체가 크면 연상량이 많아서 컴퓨터의 자원소모가 크다.\n",
        "#  - 분산(값이 분포해 있는 범위) 줄이기 : 연산의 오류가 줄어든다.\n",
        "# 2. 이미지 크기 맞춰주기(150,150)\n",
        "# 3. 라벨링\n",
        "from tensorflow.keras.preprocessing.image import ImageDataGenerator"
      ],
      "metadata": {
        "id": "nf6cL8A476b6"
      },
      "execution_count": 3,
      "outputs": []
    },
    {
      "cell_type": "code",
      "source": [
        "# 1. 픽셀값 변경\n",
        "# 묵시적 형변환\n",
        "## 프로그래밍에서 연산상에서 타입이 변경되도록 하기\n",
        "generator = ImageDataGenerator(rescale = 1./255) # 1. = 1.0"
      ],
      "metadata": {
        "id": "rAEbodY79OQ1"
      },
      "execution_count": 4,
      "outputs": []
    },
    {
      "cell_type": "code",
      "source": [
        "# 하나의 변수에 이미지 파일 전부다 합치기\n",
        "# 이미지 크기 동일하게 만들어주기\n",
        "# 라벨링\n",
        "train_generator = generator.flow_from_directory(\n",
        "    directory = train_dir, #train 이미지 경로\n",
        "    target_size=(150,150), # 변환할 이미지 크기\n",
        "    batch_size=100, #한번에 변환할 이미지 개수\n",
        "    class_mode='binary' #라벨링 방법(이진분류-binary, 다중분류-categorical)\n",
        ")\n"
      ],
      "metadata": {
        "colab": {
          "base_uri": "https://localhost:8080/"
        },
        "id": "Yu0qZf109OXb",
        "outputId": "09717741-b1f0-49fa-e339-bdd7c651e49a"
      },
      "execution_count": 6,
      "outputs": [
        {
          "output_type": "stream",
          "name": "stdout",
          "text": [
            "Found 2000 images belonging to 2 classes.\n"
          ]
        }
      ]
    },
    {
      "cell_type": "code",
      "source": [
        "valid_generator = generator.flow_from_directory(\n",
        "    directory = valid_dir, #train 이미지 경로\n",
        "    target_size=(150,150), # 변환할 이미지 크기\n",
        "    batch_size=100, #한번에 변환할 이미지 개수\n",
        "    class_mode='binary' #라벨링 방법(이진분류-binary, 다중분류-categorical)\n",
        ")"
      ],
      "metadata": {
        "colab": {
          "base_uri": "https://localhost:8080/"
        },
        "id": "CEAKYOGV9OcN",
        "outputId": "6ef5dc16-77a4-48ce-f051-912d4a865b03"
      },
      "execution_count": 7,
      "outputs": [
        {
          "output_type": "stream",
          "name": "stdout",
          "text": [
            "Found 1000 images belonging to 2 classes.\n"
          ]
        }
      ]
    },
    {
      "cell_type": "code",
      "source": [
        "# CNN 모델 설계\n",
        "from tensorflow.keras import Sequential\n",
        "from tensorflow.keras.layers import Dense, Conv2D, MaxPool2D, Flatten"
      ],
      "metadata": {
        "id": "5L-cyMR09Ogk"
      },
      "execution_count": 8,
      "outputs": []
    },
    {
      "cell_type": "code",
      "source": [
        "# 딥러닝 모델 생성\n",
        "# 건물 토대 설계\n",
        "model1 = Sequential()\n",
        "\n",
        "# 입력층\n",
        "model1.add(Conv2D(#특징 찾기\n",
        "    filters = 32, #찾을 특징의 갯수\n",
        "    kernel_size = (3,3), #특징의 크기\n",
        "    input_shape = (150,150,3), # 입력 데이터의 모양(3=RGB) # 0:검은색, 255:흰색 / 입력층 첫번째에만 작성\n",
        "    activation = 'relu' #출력층\n",
        "))\n",
        "\n",
        "model1.add(MaxPool2D( # 특징이 아닌부분 삭제하기\n",
        "    pool_size = (2,2) # 기준 크기에서 1개의 특징만 가져오기 / 4개중에 한개 사용하기\n",
        "\n",
        "))\n",
        "\n",
        "# 입력층\n",
        "model1.add(Conv2D(#특징 찾기\n",
        "    filters = 32, #찾을 특징의 갯수\n",
        "    kernel_size = (3,3), #특징의 크기\n",
        "    activation = 'relu' #출력층\n",
        "))\n",
        "\n",
        "model1.add(MaxPool2D( # 특징이 아닌부분 삭제하기\n",
        "    pool_size = (2,2) # 기준 크기에서 1개의 특징만 가져오기 / 4개중에 한개 사용하기\n",
        "\n",
        "))\n",
        "\n",
        "#################특징 추출 부 끝 #####################\n",
        "model1.add(Flatten()) # 특징추출부와 분류부를 이어주는 역할\n",
        "##################분류 분석 시작 ################\n",
        "model1.add(Dense(units = 32, activation='relu')) #출력층이 아닌 activation 에는 relu를 적어주면 작동한다.\n",
        "\n",
        "\n",
        "# 출력층\n",
        "model1.add(Dense(units=1, activation='sigmoid'))\n",
        "# 0~1의 값을 이진분류에 사용\n",
        "# 0.5를 기준으로 0.5 보다 작으면 0, 0.5 보다 크면 1로 인식한다.\n"
      ],
      "metadata": {
        "id": "atMY5oeO9OlW"
      },
      "execution_count": 11,
      "outputs": []
    },
    {
      "cell_type": "code",
      "source": [
        "# 학습 방법 설정\n",
        "model1.compile(\n",
        "    loss = 'binary_crossentropy',\n",
        "    optimizer = 'Adam',\n",
        "    metrics = ['accuracy']\n",
        ")"
      ],
      "metadata": {
        "id": "fD7OMyqW9OqF"
      },
      "execution_count": 12,
      "outputs": []
    },
    {
      "cell_type": "code",
      "source": [
        "model1.fit(\n",
        "    train_generator, #학습데이터(X_train, y_train 합쳐져 있다.)\n",
        "    epochs = 20,\n",
        "    validation_data = valid_generator\n",
        "\n",
        ")"
      ],
      "metadata": {
        "colab": {
          "base_uri": "https://localhost:8080/"
        },
        "id": "XTSPDaeT9Ouu",
        "outputId": "10e30817-07f4-4563-b2bf-dafef44b98d7"
      },
      "execution_count": 13,
      "outputs": [
        {
          "output_type": "stream",
          "name": "stdout",
          "text": [
            "Epoch 1/20\n",
            "20/20 [==============================] - 414s 20s/step - loss: 0.7551 - accuracy: 0.4895 - val_loss: 0.6823 - val_accuracy: 0.5010\n",
            "Epoch 2/20\n",
            "20/20 [==============================] - 9s 443ms/step - loss: 0.6689 - accuracy: 0.5540 - val_loss: 0.6523 - val_accuracy: 0.5820\n",
            "Epoch 3/20\n",
            "20/20 [==============================] - 11s 547ms/step - loss: 0.6301 - accuracy: 0.6360 - val_loss: 0.6289 - val_accuracy: 0.6300\n",
            "Epoch 4/20\n",
            "20/20 [==============================] - 8s 405ms/step - loss: 0.5526 - accuracy: 0.7355 - val_loss: 0.6194 - val_accuracy: 0.6400\n",
            "Epoch 5/20\n",
            "20/20 [==============================] - 9s 438ms/step - loss: 0.4617 - accuracy: 0.7880 - val_loss: 0.5567 - val_accuracy: 0.6980\n",
            "Epoch 6/20\n",
            "20/20 [==============================] - 9s 448ms/step - loss: 0.3826 - accuracy: 0.8450 - val_loss: 0.5846 - val_accuracy: 0.7040\n",
            "Epoch 7/20\n",
            "20/20 [==============================] - 8s 414ms/step - loss: 0.3207 - accuracy: 0.8825 - val_loss: 0.6305 - val_accuracy: 0.6970\n",
            "Epoch 8/20\n",
            "20/20 [==============================] - 9s 428ms/step - loss: 0.2462 - accuracy: 0.9155 - val_loss: 0.6741 - val_accuracy: 0.6980\n",
            "Epoch 9/20\n",
            "20/20 [==============================] - 9s 435ms/step - loss: 0.1904 - accuracy: 0.9430 - val_loss: 0.6912 - val_accuracy: 0.7080\n",
            "Epoch 10/20\n",
            "20/20 [==============================] - 11s 543ms/step - loss: 0.1367 - accuracy: 0.9620 - val_loss: 0.7583 - val_accuracy: 0.7110\n",
            "Epoch 11/20\n",
            "20/20 [==============================] - 9s 439ms/step - loss: 0.1098 - accuracy: 0.9730 - val_loss: 0.7763 - val_accuracy: 0.6980\n",
            "Epoch 12/20\n",
            "20/20 [==============================] - 11s 545ms/step - loss: 0.0762 - accuracy: 0.9855 - val_loss: 0.8948 - val_accuracy: 0.7110\n",
            "Epoch 13/20\n",
            "20/20 [==============================] - 8s 400ms/step - loss: 0.0546 - accuracy: 0.9925 - val_loss: 0.9577 - val_accuracy: 0.7110\n",
            "Epoch 14/20\n",
            "20/20 [==============================] - 9s 441ms/step - loss: 0.0363 - accuracy: 0.9970 - val_loss: 1.0040 - val_accuracy: 0.7140\n",
            "Epoch 15/20\n",
            "20/20 [==============================] - 8s 428ms/step - loss: 0.0260 - accuracy: 0.9980 - val_loss: 1.0881 - val_accuracy: 0.6840\n",
            "Epoch 16/20\n",
            "20/20 [==============================] - 8s 409ms/step - loss: 0.0185 - accuracy: 0.9995 - val_loss: 1.1478 - val_accuracy: 0.7010\n",
            "Epoch 17/20\n",
            "20/20 [==============================] - 8s 405ms/step - loss: 0.0134 - accuracy: 1.0000 - val_loss: 1.1977 - val_accuracy: 0.7020\n",
            "Epoch 18/20\n",
            "20/20 [==============================] - 9s 433ms/step - loss: 0.0101 - accuracy: 1.0000 - val_loss: 1.2483 - val_accuracy: 0.7080\n",
            "Epoch 19/20\n",
            "20/20 [==============================] - 8s 415ms/step - loss: 0.0085 - accuracy: 1.0000 - val_loss: 1.2626 - val_accuracy: 0.7030\n",
            "Epoch 20/20\n",
            "20/20 [==============================] - 8s 418ms/step - loss: 0.0064 - accuracy: 1.0000 - val_loss: 1.3022 - val_accuracy: 0.7010\n"
          ]
        },
        {
          "output_type": "execute_result",
          "data": {
            "text/plain": [
              "<keras.src.callbacks.History at 0x7cea71b11150>"
            ]
          },
          "metadata": {},
          "execution_count": 13
        }
      ]
    },
    {
      "cell_type": "code",
      "source": [],
      "metadata": {
        "id": "bwQ6wOEi9OzO"
      },
      "execution_count": null,
      "outputs": []
    },
    {
      "cell_type": "code",
      "source": [],
      "metadata": {
        "id": "JoXS1d579O4P"
      },
      "execution_count": null,
      "outputs": []
    },
    {
      "cell_type": "code",
      "source": [],
      "metadata": {
        "id": "cgJZiUrQ9O88"
      },
      "execution_count": null,
      "outputs": []
    },
    {
      "cell_type": "code",
      "source": [],
      "metadata": {
        "id": "W8o9K6Pa9PBU"
      },
      "execution_count": null,
      "outputs": []
    },
    {
      "cell_type": "code",
      "source": [],
      "metadata": {
        "id": "D4tc7Wj59PGt"
      },
      "execution_count": null,
      "outputs": []
    },
    {
      "cell_type": "code",
      "source": [],
      "metadata": {
        "id": "ocAVLF5U9PLe"
      },
      "execution_count": null,
      "outputs": []
    },
    {
      "cell_type": "code",
      "source": [],
      "metadata": {
        "id": "6mSi2Vwy9PP1"
      },
      "execution_count": null,
      "outputs": []
    },
    {
      "cell_type": "code",
      "source": [],
      "metadata": {
        "id": "rPBh_3yB9PUl"
      },
      "execution_count": null,
      "outputs": []
    },
    {
      "cell_type": "code",
      "source": [],
      "metadata": {
        "id": "ytqnwsFE9PZk"
      },
      "execution_count": null,
      "outputs": []
    },
    {
      "cell_type": "code",
      "source": [],
      "metadata": {
        "id": "Za4NsDxc9Pek"
      },
      "execution_count": null,
      "outputs": []
    },
    {
      "cell_type": "code",
      "source": [],
      "metadata": {
        "id": "ndBxlqoJ9Pjl"
      },
      "execution_count": null,
      "outputs": []
    },
    {
      "cell_type": "code",
      "source": [],
      "metadata": {
        "id": "KXxTVTMI9PoU"
      },
      "execution_count": null,
      "outputs": []
    },
    {
      "cell_type": "code",
      "source": [],
      "metadata": {
        "id": "TORH0ki09Psg"
      },
      "execution_count": null,
      "outputs": []
    },
    {
      "cell_type": "code",
      "source": [],
      "metadata": {
        "id": "wOwjLhJ79PxM"
      },
      "execution_count": null,
      "outputs": []
    },
    {
      "cell_type": "code",
      "source": [],
      "metadata": {
        "id": "ND7QKyWR9P1M"
      },
      "execution_count": null,
      "outputs": []
    }
  ]
}