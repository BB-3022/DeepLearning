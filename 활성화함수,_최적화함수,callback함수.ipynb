{
  "nbformat": 4,
  "nbformat_minor": 0,
  "metadata": {
    "colab": {
      "provenance": [],
      "mount_file_id": "1ySKcIrWaslUUddFOTeee4zJj5Yk1N2QQ",
      "authorship_tag": "ABX9TyOCyeHbW+Pi+9FBtg46splj",
      "include_colab_link": true
    },
    "kernelspec": {
      "name": "python3",
      "display_name": "Python 3"
    },
    "language_info": {
      "name": "python"
    }
  },
  "cells": [
    {
      "cell_type": "markdown",
      "metadata": {
        "id": "view-in-github",
        "colab_type": "text"
      },
      "source": [
        "<a href=\"https://colab.research.google.com/github/BB-3022/DeepLearning/blob/main/%ED%99%9C%EC%84%B1%ED%99%94%ED%95%A8%EC%88%98%2C_%EC%B5%9C%EC%A0%81%ED%99%94%ED%95%A8%EC%88%98%2Ccallback%ED%95%A8%EC%88%98.ipynb\" target=\"_parent\"><img src=\"https://colab.research.google.com/assets/colab-badge.svg\" alt=\"Open In Colab\"/></a>"
      ]
    },
    {
      "cell_type": "markdown",
      "source": [
        "### 목표\n",
        "- 활성화함수와 경사하강법 최적의 조합을 확인해보자\n",
        "- 모델링에 도움이 되는 callback 함수 (모델저장, 조기학습중단)을 알아보자!"
      ],
      "metadata": {
        "id": "CNIc3Se5j7ki"
      }
    },
    {
      "cell_type": "markdown",
      "source": [
        "##### 데이터 로딩"
      ],
      "metadata": {
        "id": "fHwaB3snj8vz"
      }
    },
    {
      "cell_type": "code",
      "source": [
        "# keras 에서 제공해주는 손글씨데이터 불러오기\n",
        "from tensorflow.keras.datasets import mnist"
      ],
      "metadata": {
        "id": "aRv57tgCj80a"
      },
      "execution_count": 41,
      "outputs": []
    },
    {
      "cell_type": "code",
      "source": [
        "# 데이터 분리\n",
        "(X_train, y_train),(X_test, y_test) = mnist.load_data()"
      ],
      "metadata": {
        "id": "wboTBqt4j85L"
      },
      "execution_count": 42,
      "outputs": []
    },
    {
      "cell_type": "code",
      "source": [
        "# 크기확인\n",
        "(X_train.shape, y_train.shape),(X_test.shape,y_test.shape)"
      ],
      "metadata": {
        "colab": {
          "base_uri": "https://localhost:8080/"
        },
        "id": "0197A6Fsj89h",
        "outputId": "c70bdf6e-23b0-4a2d-bbfe-0319bb8c0ad0"
      },
      "execution_count": 43,
      "outputs": [
        {
          "output_type": "execute_result",
          "data": {
            "text/plain": [
              "(((60000, 28, 28), (60000,)), ((10000, 28, 28), (10000,)))"
            ]
          },
          "metadata": {},
          "execution_count": 43
        }
      ]
    },
    {
      "cell_type": "markdown",
      "source": [
        "### 활성화 함수와 경사하강법 조합에 따른 성능비교\n",
        "1. sigmoid + SGD 조합\n",
        "2. relu + SGD 조합\n",
        "3. relu + Adam 조합"
      ],
      "metadata": {
        "id": "TFL23bkkj9CD"
      }
    },
    {
      "cell_type": "code",
      "source": [
        "# 라이브러리 불러오기\n",
        "import numpy as np\n",
        "import pandas as pd\n",
        "import matplotlib.pyplot as plt"
      ],
      "metadata": {
        "id": "WPF4g6WRj9Gb"
      },
      "execution_count": 44,
      "outputs": []
    },
    {
      "cell_type": "code",
      "source": [
        "# 딥러닝 라이브러리 불러오기\n",
        "from tensorflow.keras.models import Sequential\n",
        "from tensorflow.keras.layers import Dense, InputLayer, Flatten\n",
        "from tensorflow.keras.optimizers import SGD, Adam #경사하강법 클래스"
      ],
      "metadata": {
        "id": "0j3GIp3Nj9Kx"
      },
      "execution_count": 45,
      "outputs": []
    },
    {
      "cell_type": "markdown",
      "source": [
        "### 1. sigmoid + SGD 조합"
      ],
      "metadata": {
        "id": "kS2qgHKAmAz6"
      }
    },
    {
      "cell_type": "code",
      "source": [
        "# 1. 신경망 설계\n",
        "\n",
        "# 뼈대\n",
        "model1  = Sequential()\n",
        "\n",
        "# 입력층\n",
        "model1.add(Flatten())\n",
        "#model1.add(InputLayer (input_shape = (28,28))) # 28*28의 2차원 데이터\n",
        "\n",
        "# 중간층\n",
        "model1.add(Dense(units = 64, activation = 'sigmoid'))\n",
        "model1.add(Dense(units = 128, activation = 'sigmoid'))\n",
        "model1.add(Dense(units = 256, activation = 'sigmoid'))\n",
        "model1.add(Dense(units = 128, activation = 'sigmoid'))\n",
        "model1.add(Dense(units = 64, activation = 'sigmoid'))\n",
        "\n",
        "# 출력층\n",
        "model1.add(Dense(units = 10, activation = 'softmax'))"
      ],
      "metadata": {
        "id": "r1e13ANHj9PI"
      },
      "execution_count": 46,
      "outputs": []
    },
    {
      "cell_type": "code",
      "source": [
        "# 2. 학습방법 및 평가방법 설정\n",
        "model1.compile(loss='sparse_categorical_crossentropy',\n",
        "               optimizer = SGD(learning_rate=0.01), #SGD 기본학습률 : 0.01\n",
        "               metrics = ['accuracy'])"
      ],
      "metadata": {
        "id": "1tZLjUISj9To"
      },
      "execution_count": 47,
      "outputs": []
    },
    {
      "cell_type": "code",
      "source": [
        "# 3. 모델 학습\n",
        "h1 = model1.fit(X_train, y_train,\n",
        "                validation_split=0.2,\n",
        "                epochs = 20,\n",
        "                batch_size = 128)"
      ],
      "metadata": {
        "colab": {
          "base_uri": "https://localhost:8080/"
        },
        "id": "JRoYXvp2j9YC",
        "outputId": "e184ef4b-500e-434a-ef53-692bb79a20b6"
      },
      "execution_count": 48,
      "outputs": [
        {
          "output_type": "stream",
          "name": "stdout",
          "text": [
            "Epoch 1/20\n",
            "375/375 [==============================] - 3s 7ms/step - loss: 2.3140 - accuracy: 0.1084 - val_loss: 2.3019 - val_accuracy: 0.1060\n",
            "Epoch 2/20\n",
            "375/375 [==============================] - 2s 6ms/step - loss: 2.3010 - accuracy: 0.1140 - val_loss: 2.3014 - val_accuracy: 0.1060\n",
            "Epoch 3/20\n",
            "375/375 [==============================] - 2s 6ms/step - loss: 2.3009 - accuracy: 0.1136 - val_loss: 2.3013 - val_accuracy: 0.1060\n",
            "Epoch 4/20\n",
            "375/375 [==============================] - 3s 7ms/step - loss: 2.3006 - accuracy: 0.1136 - val_loss: 2.3023 - val_accuracy: 0.1060\n",
            "Epoch 5/20\n",
            "375/375 [==============================] - 3s 9ms/step - loss: 2.3006 - accuracy: 0.1140 - val_loss: 2.3018 - val_accuracy: 0.1060\n",
            "Epoch 6/20\n",
            "375/375 [==============================] - 2s 6ms/step - loss: 2.3005 - accuracy: 0.1132 - val_loss: 2.3017 - val_accuracy: 0.1060\n",
            "Epoch 7/20\n",
            "375/375 [==============================] - 2s 6ms/step - loss: 2.3003 - accuracy: 0.1140 - val_loss: 2.3011 - val_accuracy: 0.1060\n",
            "Epoch 8/20\n",
            "375/375 [==============================] - 2s 6ms/step - loss: 2.3002 - accuracy: 0.1141 - val_loss: 2.3010 - val_accuracy: 0.1060\n",
            "Epoch 9/20\n",
            "375/375 [==============================] - 2s 6ms/step - loss: 2.3001 - accuracy: 0.1140 - val_loss: 2.3006 - val_accuracy: 0.1060\n",
            "Epoch 10/20\n",
            "375/375 [==============================] - 3s 9ms/step - loss: 2.2998 - accuracy: 0.1149 - val_loss: 2.3011 - val_accuracy: 0.1060\n",
            "Epoch 11/20\n",
            "375/375 [==============================] - 2s 6ms/step - loss: 2.2998 - accuracy: 0.1140 - val_loss: 2.3003 - val_accuracy: 0.1060\n",
            "Epoch 12/20\n",
            "375/375 [==============================] - 3s 7ms/step - loss: 2.2996 - accuracy: 0.1140 - val_loss: 2.3002 - val_accuracy: 0.1060\n",
            "Epoch 13/20\n",
            "375/375 [==============================] - 4s 9ms/step - loss: 2.2992 - accuracy: 0.1140 - val_loss: 2.2998 - val_accuracy: 0.1060\n",
            "Epoch 14/20\n",
            "375/375 [==============================] - 4s 12ms/step - loss: 2.2991 - accuracy: 0.1140 - val_loss: 2.3000 - val_accuracy: 0.1060\n",
            "Epoch 15/20\n",
            "375/375 [==============================] - 3s 8ms/step - loss: 2.2990 - accuracy: 0.1140 - val_loss: 2.2995 - val_accuracy: 0.1060\n",
            "Epoch 16/20\n",
            "375/375 [==============================] - 2s 6ms/step - loss: 2.2988 - accuracy: 0.1140 - val_loss: 2.2997 - val_accuracy: 0.1060\n",
            "Epoch 17/20\n",
            "375/375 [==============================] - 2s 7ms/step - loss: 2.2986 - accuracy: 0.1140 - val_loss: 2.2994 - val_accuracy: 0.1060\n",
            "Epoch 18/20\n",
            "375/375 [==============================] - 4s 11ms/step - loss: 2.2983 - accuracy: 0.1140 - val_loss: 2.2991 - val_accuracy: 0.1060\n",
            "Epoch 19/20\n",
            "375/375 [==============================] - 3s 9ms/step - loss: 2.2982 - accuracy: 0.1140 - val_loss: 2.2990 - val_accuracy: 0.1060\n",
            "Epoch 20/20\n",
            "375/375 [==============================] - 3s 9ms/step - loss: 2.2979 - accuracy: 0.1140 - val_loss: 2.2988 - val_accuracy: 0.1060\n"
          ]
        }
      ]
    },
    {
      "cell_type": "markdown",
      "source": [
        "### 2. relu + SGD 조합"
      ],
      "metadata": {
        "id": "m1ets5GFj9cZ"
      }
    },
    {
      "cell_type": "code",
      "source": [
        "# 1. 신경망 설계\n",
        "\n",
        "# 뼈대\n",
        "model2  = Sequential()\n",
        "\n",
        "# 입력층\n",
        "model2.add(Flatten())\n",
        "#model1.add(InputLayer (input_shape = (28,28))) # 28*28의 2차원 데이터\n",
        "\n",
        "# 중간층\n",
        "model2.add(Dense(units = 64, activation = 'relu'))\n",
        "model2.add(Dense(units = 128, activation = 'relu'))\n",
        "model2.add(Dense(units = 256, activation = 'relu'))\n",
        "model2.add(Dense(units = 128, activation = 'relu'))\n",
        "model2.add(Dense(units = 64, activation = 'relu'))\n",
        "\n",
        "# 출력층\n",
        "model2.add(Dense(units = 10, activation = 'softmax'))"
      ],
      "metadata": {
        "id": "WseTwHNWj9g1"
      },
      "execution_count": 49,
      "outputs": []
    },
    {
      "cell_type": "code",
      "source": [
        "# 2. 학습방법 및 평가방법 설정\n",
        "model2.compile(loss='sparse_categorical_crossentropy',\n",
        "               optimizer = SGD(learning_rate=0.01), #SGD 기본학습률 : 0.01\n",
        "               metrics = ['accuracy'])"
      ],
      "metadata": {
        "id": "tw7lj7z1j9lR"
      },
      "execution_count": 50,
      "outputs": []
    },
    {
      "cell_type": "code",
      "source": [
        "# 3. 모델 학습\n",
        "h2 = model2.fit(X_train, y_train,\n",
        "                validation_split=0.2,\n",
        "                epochs = 20,\n",
        "                batch_size = 128)"
      ],
      "metadata": {
        "colab": {
          "base_uri": "https://localhost:8080/"
        },
        "id": "5YvmUAyKj9pR",
        "outputId": "3938898f-66b8-4aa7-8680-92559dd4eaf5"
      },
      "execution_count": 51,
      "outputs": [
        {
          "output_type": "stream",
          "name": "stdout",
          "text": [
            "Epoch 1/20\n",
            "375/375 [==============================] - 3s 7ms/step - loss: 4.4660 - accuracy: 0.3906 - val_loss: 1.1345 - val_accuracy: 0.6709\n",
            "Epoch 2/20\n",
            "375/375 [==============================] - 3s 9ms/step - loss: 0.8754 - accuracy: 0.7287 - val_loss: 0.7606 - val_accuracy: 0.7505\n",
            "Epoch 3/20\n",
            "375/375 [==============================] - 2s 6ms/step - loss: 0.4979 - accuracy: 0.8489 - val_loss: 0.4449 - val_accuracy: 0.8621\n",
            "Epoch 4/20\n",
            "375/375 [==============================] - 2s 6ms/step - loss: 0.4071 - accuracy: 0.8784 - val_loss: 0.3781 - val_accuracy: 0.8827\n",
            "Epoch 5/20\n",
            "375/375 [==============================] - 2s 6ms/step - loss: 0.3485 - accuracy: 0.8958 - val_loss: 0.3721 - val_accuracy: 0.8909\n",
            "Epoch 6/20\n",
            "375/375 [==============================] - 2s 6ms/step - loss: 0.3080 - accuracy: 0.9074 - val_loss: 0.2948 - val_accuracy: 0.9087\n",
            "Epoch 7/20\n",
            "375/375 [==============================] - 3s 8ms/step - loss: 0.2748 - accuracy: 0.9180 - val_loss: 0.2544 - val_accuracy: 0.9202\n",
            "Epoch 8/20\n",
            "375/375 [==============================] - 3s 7ms/step - loss: 0.2547 - accuracy: 0.9230 - val_loss: 0.2770 - val_accuracy: 0.9178\n",
            "Epoch 9/20\n",
            "375/375 [==============================] - 2s 6ms/step - loss: 0.2382 - accuracy: 0.9270 - val_loss: 0.2464 - val_accuracy: 0.9241\n",
            "Epoch 10/20\n",
            "375/375 [==============================] - 2s 6ms/step - loss: 0.2248 - accuracy: 0.9327 - val_loss: 0.2413 - val_accuracy: 0.9287\n",
            "Epoch 11/20\n",
            "375/375 [==============================] - 2s 6ms/step - loss: 0.2161 - accuracy: 0.9340 - val_loss: 0.2286 - val_accuracy: 0.9316\n",
            "Epoch 12/20\n",
            "375/375 [==============================] - 3s 7ms/step - loss: 0.2076 - accuracy: 0.9361 - val_loss: 0.2205 - val_accuracy: 0.9349\n",
            "Epoch 13/20\n",
            "375/375 [==============================] - 3s 8ms/step - loss: 0.1977 - accuracy: 0.9400 - val_loss: 0.2157 - val_accuracy: 0.9348\n",
            "Epoch 14/20\n",
            "375/375 [==============================] - 2s 6ms/step - loss: 0.1908 - accuracy: 0.9408 - val_loss: 0.2082 - val_accuracy: 0.9366\n",
            "Epoch 15/20\n",
            "375/375 [==============================] - 2s 6ms/step - loss: 0.1860 - accuracy: 0.9422 - val_loss: 0.2148 - val_accuracy: 0.9377\n",
            "Epoch 16/20\n",
            "375/375 [==============================] - 2s 6ms/step - loss: 0.1783 - accuracy: 0.9449 - val_loss: 0.2070 - val_accuracy: 0.9383\n",
            "Epoch 17/20\n",
            "375/375 [==============================] - 2s 6ms/step - loss: 0.1748 - accuracy: 0.9458 - val_loss: 0.2168 - val_accuracy: 0.9341\n",
            "Epoch 18/20\n",
            "375/375 [==============================] - 3s 9ms/step - loss: 0.1666 - accuracy: 0.9480 - val_loss: 0.2047 - val_accuracy: 0.9380\n",
            "Epoch 19/20\n",
            "375/375 [==============================] - 2s 6ms/step - loss: 0.1663 - accuracy: 0.9475 - val_loss: 0.1992 - val_accuracy: 0.9400\n",
            "Epoch 20/20\n",
            "375/375 [==============================] - 2s 6ms/step - loss: 0.1600 - accuracy: 0.9491 - val_loss: 0.2000 - val_accuracy: 0.9414\n"
          ]
        }
      ]
    },
    {
      "cell_type": "markdown",
      "source": [
        "### 3. relu + Adam"
      ],
      "metadata": {
        "id": "8mkpLBEhj9uE"
      }
    },
    {
      "cell_type": "code",
      "source": [
        "# 1. 신경망 설계\n",
        "\n",
        "# 뼈대\n",
        "model3  = Sequential()\n",
        "\n",
        "# 입력층\n",
        "model3.add(Flatten())\n",
        "#model1.add(InputLayer (input_shape = (28,28))) # 28*28의 2차원 데이터\n",
        "\n",
        "# 중간층\n",
        "model3.add(Dense(units = 64, activation = 'relu'))\n",
        "model3.add(Dense(units = 128, activation = 'relu'))\n",
        "model3.add(Dense(units = 256, activation = 'relu'))\n",
        "model3.add(Dense(units = 128, activation = 'relu'))\n",
        "model3.add(Dense(units = 64, activation = 'relu'))\n",
        "\n",
        "# 출력층\n",
        "model3.add(Dense(units = 10, activation = 'softmax'))"
      ],
      "metadata": {
        "id": "GkJcaZSBj9yY"
      },
      "execution_count": 52,
      "outputs": []
    },
    {
      "cell_type": "code",
      "source": [
        "# 2. 학습방법 및 평가방법 설정\n",
        "model3.compile(loss='sparse_categorical_crossentropy',\n",
        "               optimizer = Adam(learning_rate=0.001), #Adam 기본학습률 : 0.001\n",
        "               metrics = ['accuracy'])"
      ],
      "metadata": {
        "id": "NeNmKmflj93y"
      },
      "execution_count": 53,
      "outputs": []
    },
    {
      "cell_type": "code",
      "source": [
        "# 3. 모델 학습\n",
        "h3 = model3.fit(X_train, y_train,\n",
        "                validation_split=0.2,\n",
        "                epochs = 20,\n",
        "                batch_size = 128)"
      ],
      "metadata": {
        "colab": {
          "base_uri": "https://localhost:8080/"
        },
        "id": "BPJDt8CYj988",
        "outputId": "785e176b-cce8-4df1-e2e1-48bd59cfe988"
      },
      "execution_count": 54,
      "outputs": [
        {
          "output_type": "stream",
          "name": "stdout",
          "text": [
            "Epoch 1/20\n",
            "375/375 [==============================] - 4s 8ms/step - loss: 0.9436 - accuracy: 0.8160 - val_loss: 0.3041 - val_accuracy: 0.9101\n",
            "Epoch 2/20\n",
            "375/375 [==============================] - 4s 10ms/step - loss: 0.2366 - accuracy: 0.9296 - val_loss: 0.2505 - val_accuracy: 0.9278\n",
            "Epoch 3/20\n",
            "375/375 [==============================] - 3s 7ms/step - loss: 0.1721 - accuracy: 0.9473 - val_loss: 0.1962 - val_accuracy: 0.9432\n",
            "Epoch 4/20\n",
            "375/375 [==============================] - 3s 7ms/step - loss: 0.1348 - accuracy: 0.9593 - val_loss: 0.1809 - val_accuracy: 0.9507\n",
            "Epoch 5/20\n",
            "375/375 [==============================] - 3s 7ms/step - loss: 0.1110 - accuracy: 0.9659 - val_loss: 0.1519 - val_accuracy: 0.9565\n",
            "Epoch 6/20\n",
            "375/375 [==============================] - 3s 7ms/step - loss: 0.1013 - accuracy: 0.9682 - val_loss: 0.1541 - val_accuracy: 0.9563\n",
            "Epoch 7/20\n",
            "375/375 [==============================] - 4s 10ms/step - loss: 0.0844 - accuracy: 0.9738 - val_loss: 0.1549 - val_accuracy: 0.9578\n",
            "Epoch 8/20\n",
            "375/375 [==============================] - 3s 7ms/step - loss: 0.0795 - accuracy: 0.9758 - val_loss: 0.1665 - val_accuracy: 0.9545\n",
            "Epoch 9/20\n",
            "375/375 [==============================] - 3s 7ms/step - loss: 0.0756 - accuracy: 0.9766 - val_loss: 0.1442 - val_accuracy: 0.9617\n",
            "Epoch 10/20\n",
            "375/375 [==============================] - 3s 7ms/step - loss: 0.0664 - accuracy: 0.9801 - val_loss: 0.1463 - val_accuracy: 0.9647\n",
            "Epoch 11/20\n",
            "375/375 [==============================] - 4s 11ms/step - loss: 0.0638 - accuracy: 0.9803 - val_loss: 0.1580 - val_accuracy: 0.9613\n",
            "Epoch 12/20\n",
            "375/375 [==============================] - 3s 7ms/step - loss: 0.0610 - accuracy: 0.9813 - val_loss: 0.2060 - val_accuracy: 0.9551\n",
            "Epoch 13/20\n",
            "375/375 [==============================] - 3s 7ms/step - loss: 0.0592 - accuracy: 0.9827 - val_loss: 0.1720 - val_accuracy: 0.9590\n",
            "Epoch 14/20\n",
            "375/375 [==============================] - 3s 7ms/step - loss: 0.0576 - accuracy: 0.9826 - val_loss: 0.1606 - val_accuracy: 0.9627\n",
            "Epoch 15/20\n",
            "375/375 [==============================] - 3s 8ms/step - loss: 0.0529 - accuracy: 0.9846 - val_loss: 0.1599 - val_accuracy: 0.9637\n",
            "Epoch 16/20\n",
            "375/375 [==============================] - 3s 9ms/step - loss: 0.0403 - accuracy: 0.9870 - val_loss: 0.1550 - val_accuracy: 0.9660\n",
            "Epoch 17/20\n",
            "375/375 [==============================] - 3s 7ms/step - loss: 0.0492 - accuracy: 0.9851 - val_loss: 0.1399 - val_accuracy: 0.9694\n",
            "Epoch 18/20\n",
            "375/375 [==============================] - 3s 7ms/step - loss: 0.0399 - accuracy: 0.9875 - val_loss: 0.1822 - val_accuracy: 0.9617\n",
            "Epoch 19/20\n",
            "375/375 [==============================] - 3s 7ms/step - loss: 0.0394 - accuracy: 0.9874 - val_loss: 0.1741 - val_accuracy: 0.9638\n",
            "Epoch 20/20\n",
            "375/375 [==============================] - 4s 11ms/step - loss: 0.0392 - accuracy: 0.9880 - val_loss: 0.1764 - val_accuracy: 0.9622\n"
          ]
        }
      ]
    },
    {
      "cell_type": "code",
      "source": [
        "plt.figure(figsize=(15,5))\n",
        "# sigmoid + SGD 조합\n",
        "plt.plot(h1.history['accuracy'], label=\"sigmoid+SGD train acc\")\n",
        "plt.plot(h1.history['val_accuracy'], label=\"sigmoid+SGD validation acc\")\n",
        "# relu + SGD 조합\n",
        "plt.plot(h2.history['accuracy'], label=\"relu+SGD train acc\")\n",
        "plt.plot(h2.history['val_accuracy'], label=\"relu+SGD validation acc\")\n",
        "# relu + Adam 조합\n",
        "plt.plot(h3.history['accuracy'], label=\"relu+Adam train acc\")\n",
        "plt.plot(h3.history['val_accuracy'], label=\"relu+Adam validation acc\")\n",
        "\n",
        "plt.legend()\n",
        "plt.show()"
      ],
      "metadata": {
        "colab": {
          "base_uri": "https://localhost:8080/",
          "height": 410
        },
        "id": "H1nZfHK3j-B5",
        "outputId": "b2449200-2974-4a8d-b616-827f900e641d"
      },
      "execution_count": 55,
      "outputs": [
        {
          "output_type": "display_data",
          "data": {
            "text/plain": [
              "<Figure size 1500x500 with 1 Axes>"
            ],
            "image/png": "[encoded data removed]"
          },
          "metadata": {}
        }
      ]
    },
    {
      "cell_type": "markdown",
      "source": [
        "### callback 함수\n",
        "- 모델저장 및 조기학습중단\n",
        "- 모델저장 (ModelCheckPoint)\n",
        "  - 딥러닝모델 학습시 지정된 epoch 를 다 끝내면 과대적합이 일어나는 경우가 있다.\n",
        "    -> 중간에 일반화된 모델을 저장할 수 있는 기능!\n",
        "- 조기학습 중단 (EarlyStopping)\n",
        "  - epoch 를 크게 설정할 경우 일정횟수 이상으로는 모델의 성능이 개선되지 않는 경우가 있다.-> 시간낭비 -> 모델의 성능이 개선되지 않는 경우에는 조기중단이 필요"
      ],
      "metadata": {
        "id": "-ohXfGEMxkuf"
      }
    },
    {
      "cell_type": "code",
      "source": [
        "from tensorflow.keras.callbacks import ModelCheckpoint, EarlyStopping\n",
        "# 모델 중간 저장\n",
        "# 모델 중간 멈춤"
      ],
      "metadata": {
        "id": "YOQKAz3Lxkz3"
      },
      "execution_count": 56,
      "outputs": []
    },
    {
      "cell_type": "code",
      "source": [
        "# 모델 저장\n",
        "# 저장될 경로 작성\n",
        "model_path = '/content/drive/MyDrive/Colab Notebooks/DeepLearning/data/digit_model/dm_{epoch:02d}_{val_accuracy:0.2f}.hdf5'\n",
        "mckp = ModelCheckpoint(filepath = model_path, #저장경로\n",
        "                verbose = 1, #로그 출력 -> 1 : 로그출력 0\n",
        "                save_best_only = True, #모델성능이 최고점을 갱신할때마다 저장\n",
        "                monitor = 'val_accuracy') #최고점의 기준치\n",
        "\n",
        "# 콜백객체 생성완료\n",
        "# 사용한것은 아님!"
      ],
      "metadata": {
        "id": "BU53iQVZxk5i"
      },
      "execution_count": 57,
      "outputs": []
    },
    {
      "cell_type": "code",
      "source": [
        "# 조기학습 중단\n",
        "early = EarlyStopping(monitor = 'val_accuracy', # 기준치\n",
        "                      verbose = 1, # 로그출력\n",
        "                      patience = 10) #모델성능개선을 기다리는 최대 횟수"
      ],
      "metadata": {
        "id": "qRUjC1w8xk_H"
      },
      "execution_count": 58,
      "outputs": []
    },
    {
      "cell_type": "code",
      "source": [
        "# 3번째 조합으로 모델링\n",
        "# 1. 신경망 설계\n",
        "\n",
        "# 뼈대\n",
        "model3  = Sequential()\n",
        "\n",
        "# 입력층\n",
        "model3.add(Flatten())\n",
        "#model1.add(InputLayer (input_shape = (28,28))) # 28*28의 2차원 데이터\n",
        "\n",
        "# 중간층\n",
        "model3.add(Dense(units = 64, activation = 'relu'))\n",
        "model3.add(Dense(units = 128, activation = 'relu'))\n",
        "model3.add(Dense(units = 256, activation = 'relu'))\n",
        "model3.add(Dense(units = 128, activation = 'relu'))\n",
        "model3.add(Dense(units = 64, activation = 'relu'))\n",
        "\n",
        "# 출력층\n",
        "model3.add(Dense(units = 10, activation = 'softmax'))\n",
        "\n",
        "# 2. 학습방법 및 평가방법 설정\n",
        "model3.compile(loss='sparse_categorical_crossentropy',\n",
        "               optimizer = Adam(learning_rate=0.001), #Adam 기본학습률 : 0.001\n",
        "               metrics = ['accuracy'])\n",
        "\n",
        "# 3. 모델 학습\n",
        "h3 = model3.fit(X_train, y_train,\n",
        "                validation_split=0.2,\n",
        "                epochs = 1000,\n",
        "                batch_size = 128,\n",
        "                callbacks = [mckp, early])"
      ],
      "metadata": {
        "colab": {
          "base_uri": "https://localhost:8080/"
        },
        "id": "6FdC4NpNxlEf",
        "outputId": "157994fb-e9a6-466e-c3f9-5458a1449bc8"
      },
      "execution_count": 60,
      "outputs": [
        {
          "output_type": "stream",
          "name": "stdout",
          "text": [
            "Epoch 1/1000\n",
            "368/375 [============================>.] - ETA: 0s - loss: 0.8104 - accuracy: 0.8170\n",
            "Epoch 1: val_accuracy improved from -inf to 0.92525, saving model to /content/drive/MyDrive/Colab Notebooks/DeepLearning/data/digit_model/dm_01_0.93.hdf5\n",
            "375/375 [==============================] - 4s 8ms/step - loss: 0.8001 - accuracy: 0.8189 - val_loss: 0.2543 - val_accuracy: 0.9252\n",
            "Epoch 2/1000\n",
            " 19/375 [>.............................] - ETA: 2s - loss: 0.2451 - accuracy: 0.9293"
          ]
        },
        {
          "output_type": "stream",
          "name": "stderr",
          "text": [
            "/usr/local/lib/python3.10/dist-packages/keras/src/engine/training.py:3000: UserWarning: You are saving your model as an HDF5 file via `model.save()`. This file format is considered legacy. We recommend using instead the native Keras format, e.g. `model.save('my_model.keras')`.\n",
            "  saving_api.save_model(\n"
          ]
        },
        {
          "output_type": "stream",
          "name": "stdout",
          "text": [
            "370/375 [============================>.] - ETA: 0s - loss: 0.2209 - accuracy: 0.9336\n",
            "Epoch 2: val_accuracy improved from 0.92525 to 0.93967, saving model to /content/drive/MyDrive/Colab Notebooks/DeepLearning/data/digit_model/dm_02_0.94.hdf5\n",
            "375/375 [==============================] - 3s 7ms/step - loss: 0.2202 - accuracy: 0.9340 - val_loss: 0.2088 - val_accuracy: 0.9397\n",
            "Epoch 3/1000\n",
            "371/375 [============================>.] - ETA: 0s - loss: 0.1574 - accuracy: 0.9520\n",
            "Epoch 3: val_accuracy improved from 0.93967 to 0.94608, saving model to /content/drive/MyDrive/Colab Notebooks/DeepLearning/data/digit_model/dm_03_0.95.hdf5\n",
            "375/375 [==============================] - 3s 7ms/step - loss: 0.1570 - accuracy: 0.9522 - val_loss: 0.1961 - val_accuracy: 0.9461\n",
            "Epoch 4/1000\n",
            "374/375 [============================>.] - ETA: 0s - loss: 0.1193 - accuracy: 0.9634\n",
            "Epoch 4: val_accuracy improved from 0.94608 to 0.95692, saving model to /content/drive/MyDrive/Colab Notebooks/DeepLearning/data/digit_model/dm_04_0.96.hdf5\n",
            "375/375 [==============================] - 4s 11ms/step - loss: 0.1196 - accuracy: 0.9633 - val_loss: 0.1594 - val_accuracy: 0.9569\n",
            "Epoch 5/1000\n",
            "372/375 [============================>.] - ETA: 0s - loss: 0.1026 - accuracy: 0.9681\n",
            "Epoch 5: val_accuracy improved from 0.95692 to 0.95808, saving model to /content/drive/MyDrive/Colab Notebooks/DeepLearning/data/digit_model/dm_05_0.96.hdf5\n",
            "375/375 [==============================] - 3s 8ms/step - loss: 0.1029 - accuracy: 0.9680 - val_loss: 0.1565 - val_accuracy: 0.9581\n",
            "Epoch 6/1000\n",
            "373/375 [============================>.] - ETA: 0s - loss: 0.0872 - accuracy: 0.9732\n",
            "Epoch 6: val_accuracy improved from 0.95808 to 0.96075, saving model to /content/drive/MyDrive/Colab Notebooks/DeepLearning/data/digit_model/dm_06_0.96.hdf5\n",
            "375/375 [==============================] - 3s 7ms/step - loss: 0.0871 - accuracy: 0.9732 - val_loss: 0.1471 - val_accuracy: 0.9607\n",
            "Epoch 7/1000\n",
            "370/375 [============================>.] - ETA: 0s - loss: 0.0799 - accuracy: 0.9752\n",
            "Epoch 7: val_accuracy did not improve from 0.96075\n",
            "375/375 [==============================] - 3s 7ms/step - loss: 0.0794 - accuracy: 0.9754 - val_loss: 0.1612 - val_accuracy: 0.9591\n",
            "Epoch 8/1000\n",
            "375/375 [==============================] - ETA: 0s - loss: 0.0748 - accuracy: 0.9769\n",
            "Epoch 8: val_accuracy did not improve from 0.96075\n",
            "375/375 [==============================] - 3s 8ms/step - loss: 0.0748 - accuracy: 0.9769 - val_loss: 0.1722 - val_accuracy: 0.9575\n",
            "Epoch 9/1000\n",
            "370/375 [============================>.] - ETA: 0s - loss: 0.0680 - accuracy: 0.9794\n",
            "Epoch 9: val_accuracy improved from 0.96075 to 0.96083, saving model to /content/drive/MyDrive/Colab Notebooks/DeepLearning/data/digit_model/dm_09_0.96.hdf5\n",
            "375/375 [==============================] - 4s 11ms/step - loss: 0.0678 - accuracy: 0.9795 - val_loss: 0.1581 - val_accuracy: 0.9608\n",
            "Epoch 10/1000\n",
            "375/375 [==============================] - ETA: 0s - loss: 0.0645 - accuracy: 0.9803\n",
            "Epoch 10: val_accuracy did not improve from 0.96083\n",
            "375/375 [==============================] - 3s 7ms/step - loss: 0.0645 - accuracy: 0.9803 - val_loss: 0.1605 - val_accuracy: 0.9608\n",
            "Epoch 11/1000\n",
            "368/375 [============================>.] - ETA: 0s - loss: 0.0573 - accuracy: 0.9818\n",
            "Epoch 11: val_accuracy did not improve from 0.96083\n",
            "375/375 [==============================] - 3s 7ms/step - loss: 0.0573 - accuracy: 0.9819 - val_loss: 0.1762 - val_accuracy: 0.9604\n",
            "Epoch 12/1000\n",
            "372/375 [============================>.] - ETA: 0s - loss: 0.0582 - accuracy: 0.9824\n",
            "Epoch 12: val_accuracy improved from 0.96083 to 0.96408, saving model to /content/drive/MyDrive/Colab Notebooks/DeepLearning/data/digit_model/dm_12_0.96.hdf5\n",
            "375/375 [==============================] - 3s 7ms/step - loss: 0.0584 - accuracy: 0.9823 - val_loss: 0.1505 - val_accuracy: 0.9641\n",
            "Epoch 13/1000\n",
            "373/375 [============================>.] - ETA: 0s - loss: 0.0511 - accuracy: 0.9840\n",
            "Epoch 13: val_accuracy improved from 0.96408 to 0.96458, saving model to /content/drive/MyDrive/Colab Notebooks/DeepLearning/data/digit_model/dm_13_0.96.hdf5\n",
            "375/375 [==============================] - 4s 9ms/step - loss: 0.0511 - accuracy: 0.9840 - val_loss: 0.1476 - val_accuracy: 0.9646\n",
            "Epoch 14/1000\n",
            "375/375 [==============================] - ETA: 0s - loss: 0.0514 - accuracy: 0.9843\n",
            "Epoch 14: val_accuracy improved from 0.96458 to 0.96758, saving model to /content/drive/MyDrive/Colab Notebooks/DeepLearning/data/digit_model/dm_14_0.97.hdf5\n",
            "375/375 [==============================] - 4s 10ms/step - loss: 0.0514 - accuracy: 0.9843 - val_loss: 0.1404 - val_accuracy: 0.9676\n",
            "Epoch 15/1000\n",
            "371/375 [============================>.] - ETA: 0s - loss: 0.0473 - accuracy: 0.9859\n",
            "Epoch 15: val_accuracy did not improve from 0.96758\n",
            "375/375 [==============================] - 3s 8ms/step - loss: 0.0473 - accuracy: 0.9859 - val_loss: 0.1464 - val_accuracy: 0.9671\n",
            "Epoch 16/1000\n",
            "375/375 [==============================] - ETA: 0s - loss: 0.0417 - accuracy: 0.9873\n",
            "Epoch 16: val_accuracy did not improve from 0.96758\n",
            "375/375 [==============================] - 3s 9ms/step - loss: 0.0417 - accuracy: 0.9873 - val_loss: 0.1580 - val_accuracy: 0.9653\n",
            "Epoch 17/1000\n",
            "375/375 [==============================] - ETA: 0s - loss: 0.0429 - accuracy: 0.9873\n",
            "Epoch 17: val_accuracy improved from 0.96758 to 0.96850, saving model to /content/drive/MyDrive/Colab Notebooks/DeepLearning/data/digit_model/dm_17_0.97.hdf5\n",
            "375/375 [==============================] - 3s 8ms/step - loss: 0.0429 - accuracy: 0.9873 - val_loss: 0.1354 - val_accuracy: 0.9685\n",
            "Epoch 18/1000\n",
            "371/375 [============================>.] - ETA: 0s - loss: 0.0368 - accuracy: 0.9888\n",
            "Epoch 18: val_accuracy did not improve from 0.96850\n",
            "375/375 [==============================] - 4s 11ms/step - loss: 0.0368 - accuracy: 0.9888 - val_loss: 0.1417 - val_accuracy: 0.9678\n",
            "Epoch 19/1000\n",
            "368/375 [============================>.] - ETA: 0s - loss: 0.0415 - accuracy: 0.9881\n",
            "Epoch 19: val_accuracy did not improve from 0.96850\n",
            "375/375 [==============================] - 3s 7ms/step - loss: 0.0415 - accuracy: 0.9880 - val_loss: 0.1674 - val_accuracy: 0.9644\n",
            "Epoch 20/1000\n",
            "371/375 [============================>.] - ETA: 0s - loss: 0.0397 - accuracy: 0.9884\n",
            "Epoch 20: val_accuracy improved from 0.96850 to 0.96908, saving model to /content/drive/MyDrive/Colab Notebooks/DeepLearning/data/digit_model/dm_20_0.97.hdf5\n",
            "375/375 [==============================] - 3s 7ms/step - loss: 0.0399 - accuracy: 0.9884 - val_loss: 0.1444 - val_accuracy: 0.9691\n",
            "Epoch 21/1000\n",
            "372/375 [============================>.] - ETA: 0s - loss: 0.0366 - accuracy: 0.9885\n",
            "Epoch 21: val_accuracy did not improve from 0.96908\n",
            "375/375 [==============================] - 3s 8ms/step - loss: 0.0372 - accuracy: 0.9883 - val_loss: 0.1701 - val_accuracy: 0.9668\n",
            "Epoch 22/1000\n",
            "372/375 [============================>.] - ETA: 0s - loss: 0.0331 - accuracy: 0.9901\n",
            "Epoch 22: val_accuracy did not improve from 0.96908\n",
            "375/375 [==============================] - 4s 10ms/step - loss: 0.0329 - accuracy: 0.9902 - val_loss: 0.1618 - val_accuracy: 0.9670\n",
            "Epoch 23/1000\n",
            "370/375 [============================>.] - ETA: 0s - loss: 0.0336 - accuracy: 0.9905\n",
            "Epoch 23: val_accuracy did not improve from 0.96908\n",
            "375/375 [==============================] - 4s 9ms/step - loss: 0.0340 - accuracy: 0.9904 - val_loss: 0.1489 - val_accuracy: 0.9683\n",
            "Epoch 24/1000\n",
            "374/375 [============================>.] - ETA: 0s - loss: 0.0300 - accuracy: 0.9910\n",
            "Epoch 24: val_accuracy improved from 0.96908 to 0.97092, saving model to /content/drive/MyDrive/Colab Notebooks/DeepLearning/data/digit_model/dm_24_0.97.hdf5\n",
            "375/375 [==============================] - 3s 8ms/step - loss: 0.0299 - accuracy: 0.9910 - val_loss: 0.1345 - val_accuracy: 0.9709\n",
            "Epoch 25/1000\n",
            "373/375 [============================>.] - ETA: 0s - loss: 0.0275 - accuracy: 0.9916\n",
            "Epoch 25: val_accuracy did not improve from 0.97092\n",
            "375/375 [==============================] - 3s 7ms/step - loss: 0.0274 - accuracy: 0.9916 - val_loss: 0.1540 - val_accuracy: 0.9686\n",
            "Epoch 26/1000\n",
            "371/375 [============================>.] - ETA: 0s - loss: 0.0305 - accuracy: 0.9908\n",
            "Epoch 26: val_accuracy improved from 0.97092 to 0.97100, saving model to /content/drive/MyDrive/Colab Notebooks/DeepLearning/data/digit_model/dm_26_0.97.hdf5\n",
            "375/375 [==============================] - 3s 8ms/step - loss: 0.0304 - accuracy: 0.9908 - val_loss: 0.1363 - val_accuracy: 0.9710\n",
            "Epoch 27/1000\n",
            "373/375 [============================>.] - ETA: 0s - loss: 0.0292 - accuracy: 0.9914\n",
            "Epoch 27: val_accuracy improved from 0.97100 to 0.97150, saving model to /content/drive/MyDrive/Colab Notebooks/DeepLearning/data/digit_model/dm_27_0.97.hdf5\n",
            "375/375 [==============================] - 4s 11ms/step - loss: 0.0291 - accuracy: 0.9914 - val_loss: 0.1528 - val_accuracy: 0.9715\n",
            "Epoch 28/1000\n",
            "371/375 [============================>.] - ETA: 0s - loss: 0.0251 - accuracy: 0.9921\n",
            "Epoch 28: val_accuracy improved from 0.97150 to 0.97358, saving model to /content/drive/MyDrive/Colab Notebooks/DeepLearning/data/digit_model/dm_28_0.97.hdf5\n",
            "375/375 [==============================] - 3s 8ms/step - loss: 0.0250 - accuracy: 0.9921 - val_loss: 0.1500 - val_accuracy: 0.9736\n",
            "Epoch 29/1000\n",
            "368/375 [============================>.] - ETA: 0s - loss: 0.0245 - accuracy: 0.9929\n",
            "Epoch 29: val_accuracy did not improve from 0.97358\n",
            "375/375 [==============================] - 3s 8ms/step - loss: 0.0246 - accuracy: 0.9929 - val_loss: 0.1881 - val_accuracy: 0.9629\n",
            "Epoch 30/1000\n",
            "372/375 [============================>.] - ETA: 0s - loss: 0.0215 - accuracy: 0.9938\n",
            "Epoch 30: val_accuracy did not improve from 0.97358\n",
            "375/375 [==============================] - 3s 7ms/step - loss: 0.0217 - accuracy: 0.9938 - val_loss: 0.1835 - val_accuracy: 0.9691\n",
            "Epoch 31/1000\n",
            "373/375 [============================>.] - ETA: 0s - loss: 0.0262 - accuracy: 0.9923\n",
            "Epoch 31: val_accuracy did not improve from 0.97358\n",
            "375/375 [==============================] - 3s 9ms/step - loss: 0.0262 - accuracy: 0.9923 - val_loss: 0.1755 - val_accuracy: 0.9694\n",
            "Epoch 32/1000\n",
            "375/375 [==============================] - ETA: 0s - loss: 0.0210 - accuracy: 0.9939\n",
            "Epoch 32: val_accuracy did not improve from 0.97358\n",
            "375/375 [==============================] - 4s 11ms/step - loss: 0.0210 - accuracy: 0.9939 - val_loss: 0.1804 - val_accuracy: 0.9696\n",
            "Epoch 33/1000\n",
            "371/375 [============================>.] - ETA: 0s - loss: 0.0307 - accuracy: 0.9914\n",
            "Epoch 33: val_accuracy did not improve from 0.97358\n",
            "375/375 [==============================] - 3s 7ms/step - loss: 0.0306 - accuracy: 0.9915 - val_loss: 0.1597 - val_accuracy: 0.9712\n",
            "Epoch 34/1000\n",
            "369/375 [============================>.] - ETA: 0s - loss: 0.0194 - accuracy: 0.9946\n",
            "Epoch 34: val_accuracy did not improve from 0.97358\n",
            "375/375 [==============================] - 3s 7ms/step - loss: 0.0193 - accuracy: 0.9946 - val_loss: 0.1687 - val_accuracy: 0.9722\n",
            "Epoch 35/1000\n",
            "370/375 [============================>.] - ETA: 0s - loss: 0.0195 - accuracy: 0.9942\n",
            "Epoch 35: val_accuracy did not improve from 0.97358\n",
            "375/375 [==============================] - 3s 7ms/step - loss: 0.0196 - accuracy: 0.9941 - val_loss: 0.1511 - val_accuracy: 0.9718\n",
            "Epoch 36/1000\n",
            "371/375 [============================>.] - ETA: 0s - loss: 0.0246 - accuracy: 0.9931\n",
            "Epoch 36: val_accuracy did not improve from 0.97358\n",
            "375/375 [==============================] - 4s 10ms/step - loss: 0.0245 - accuracy: 0.9931 - val_loss: 0.1588 - val_accuracy: 0.9731\n",
            "Epoch 37/1000\n",
            "368/375 [============================>.] - ETA: 0s - loss: 0.0187 - accuracy: 0.9947\n",
            "Epoch 37: val_accuracy did not improve from 0.97358\n",
            "375/375 [==============================] - 4s 9ms/step - loss: 0.0190 - accuracy: 0.9947 - val_loss: 0.2131 - val_accuracy: 0.9688\n",
            "Epoch 38/1000\n",
            "368/375 [============================>.] - ETA: 0s - loss: 0.0255 - accuracy: 0.9932\n",
            "Epoch 38: val_accuracy did not improve from 0.97358\n",
            "375/375 [==============================] - 3s 8ms/step - loss: 0.0254 - accuracy: 0.9932 - val_loss: 0.1701 - val_accuracy: 0.9704\n",
            "Epoch 38: early stopping\n"
          ]
        }
      ]
    },
    {
      "cell_type": "markdown",
      "source": [
        "### 가장우수한 모델 불러오기\n"
      ],
      "metadata": {
        "id": "ETiH7YNMxlJ4"
      }
    },
    {
      "cell_type": "code",
      "source": [
        "from tensorflow.keras.models import load_model"
      ],
      "metadata": {
        "id": "zVNyfrJtxlP4"
      },
      "execution_count": 61,
      "outputs": []
    },
    {
      "cell_type": "code",
      "source": [
        "# 이미 학습된 모델\n",
        "best_model = load_model('/content/drive/MyDrive/Colab Notebooks/DeepLearning/data/digit_model/dm_28_0.97.hdf5')"
      ],
      "metadata": {
        "id": "z2hthCwk7TLn"
      },
      "execution_count": 62,
      "outputs": []
    },
    {
      "cell_type": "code",
      "source": [
        "# 평"
      ],
      "metadata": {
        "id": "NEVQ5EYI7TQn"
      },
      "execution_count": null,
      "outputs": []
    },
    {
      "cell_type": "code",
      "source": [],
      "metadata": {
        "id": "GrLxJCpl7TVm"
      },
      "execution_count": null,
      "outputs": []
    },
    {
      "cell_type": "code",
      "source": [],
      "metadata": {
        "id": "tIuUsqVY7Taa"
      },
      "execution_count": null,
      "outputs": []
    }
  ]
}